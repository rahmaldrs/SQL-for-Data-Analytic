{
 "cells": [
  {
   "cell_type": "markdown",
   "metadata": {},
   "source": [
    "# MySQL in Python"
   ]
  },
  {
   "cell_type": "markdown",
   "metadata": {},
   "source": [
    "MySQL merupakan software yang digunakan untuk bahasa pemrogaman SQL yang digunakan pada relational database. MySQL juga bisa dihubungkan ke bahasa pemrograman lainnya yaitu Python "
   ]
  },
  {
   "cell_type": "markdown",
   "metadata": {},
   "source": [
    "Untuk menghubungkannya terlebih dahulu perlu untuk menginstall mysql.connector pada anaconda prompt, lalu menghubungkannya lewat cara di bawah ini"
   ]
  },
  {
   "cell_type": "code",
   "execution_count": 2,
   "metadata": {},
   "outputs": [
    {
     "name": "stdout",
     "output_type": "stream",
     "text": [
      "Requirement already satisfied: mysql-connector-python in c:\\users\\tamu\\anaconda3\\lib\\site-packages (8.0.26)\n",
      "Requirement already satisfied: protobuf>=3.0.0 in c:\\users\\tamu\\anaconda3\\lib\\site-packages (from mysql-connector-python) (3.18.0)\n"
     ]
    }
   ],
   "source": [
    "! pip install mysql-connector-python"
   ]
  },
  {
   "cell_type": "code",
   "execution_count": 6,
   "metadata": {},
   "outputs": [],
   "source": [
    "import mysql.connector\n",
    "mydb= mysql.connector.connect(\n",
    "    host='localhost',\n",
    "    user='root',\n",
    "    password='Rahma29',\n",
    "    #database='world',\n",
    ")"
   ]
  },
  {
   "cell_type": "markdown",
   "metadata": {},
   "source": [
    "Untuk mengakses database dan menggunakan command dari SQL, digunakan method cursor() dan execute()"
   ]
  },
  {
   "cell_type": "markdown",
   "metadata": {},
   "source": [
    "### CREATE & SHOW DATABASE"
   ]
  },
  {
   "cell_type": "markdown",
   "metadata": {},
   "source": [
    "Untuk membuat database baru menggunakan command CREATE DATABASE"
   ]
  },
  {
   "cell_type": "markdown",
   "metadata": {},
   "source": [
    "NOTES: Nama database dalam sql tidak boleh ada yang sama"
   ]
  },
  {
   "cell_type": "code",
   "execution_count": 7,
   "metadata": {
    "scrolled": true
   },
   "outputs": [
    {
     "data": {
      "text/plain": [
       "[('geeked',),\n",
       " ('information_schema',),\n",
       " ('mysql',),\n",
       " ('performance_schema',),\n",
       " ('sys',),\n",
       " ('trial_course',),\n",
       " ('world',)]"
      ]
     },
     "execution_count": 7,
     "metadata": {},
     "output_type": "execute_result"
    }
   ],
   "source": [
    "import mysql.connector\n",
    "mydb= mysql.connector.connect(\n",
    "    host='localhost',\n",
    "    user='root',\n",
    "    password='Rahma29',\n",
    "    #database='world',\n",
    ")\n",
    "mycursor=mydb.cursor()\n",
    "mycursor.execute('SHOW DATABASES') #ini bisa diganti ganti \n",
    "mycursor.fetchall()"
   ]
  },
  {
   "cell_type": "code",
   "execution_count": 8,
   "metadata": {},
   "outputs": [
    {
     "data": {
      "text/plain": [
       "[]"
      ]
     },
     "execution_count": 8,
     "metadata": {},
     "output_type": "execute_result"
    }
   ],
   "source": [
    "import mysql.connector\n",
    "mydb= mysql.connector.connect(\n",
    "    host='localhost',\n",
    "    user='root',\n",
    "    password='Rahma29',\n",
    "    #database='world',\n",
    ")\n",
    "mycursor=mydb.cursor()\n",
    "mycursor.execute('CREATE DATABASE trial_course_2')\n",
    "mycursor.fetchall()"
   ]
  },
  {
   "cell_type": "markdown",
   "metadata": {},
   "source": [
    "untuk melihat apakah database tersebut telah dibuat digunakan command SHOW DATABASES, apabila ingin menampilkannya di dalam python dapat menggunakan method fetchall() ataupun menggunakan loop pada Python"
   ]
  },
  {
   "cell_type": "code",
   "execution_count": 9,
   "metadata": {},
   "outputs": [
    {
     "data": {
      "text/plain": [
       "[('geeked',),\n",
       " ('information_schema',),\n",
       " ('mysql',),\n",
       " ('performance_schema',),\n",
       " ('sys',),\n",
       " ('trial_course',),\n",
       " ('trial_course_2',),\n",
       " ('world',)]"
      ]
     },
     "execution_count": 9,
     "metadata": {},
     "output_type": "execute_result"
    }
   ],
   "source": [
    "import mysql.connector\n",
    "mydb= mysql.connector.connect(\n",
    "    host='localhost',\n",
    "    user='root',\n",
    "    password='Rahma29',\n",
    "    database='trial_course',\n",
    ")\n",
    "mycursor=mydb.cursor()\n",
    "mycursor.execute('SHOW DATABASES')\n",
    "mycursor.fetchall()"
   ]
  },
  {
   "cell_type": "code",
   "execution_count": 10,
   "metadata": {},
   "outputs": [
    {
     "name": "stdout",
     "output_type": "stream",
     "text": [
      "('geeked',)\n",
      "('information_schema',)\n",
      "('mysql',)\n",
      "('performance_schema',)\n",
      "('sys',)\n",
      "('trial_course',)\n",
      "('trial_course_2',)\n",
      "('world',)\n"
     ]
    }
   ],
   "source": [
    "import mysql.connector\n",
    "mydb= mysql.connector.connect(\n",
    "    host='localhost',\n",
    "    user='root',\n",
    "    password='Rahma29',\n",
    "    database='trial_course',\n",
    ")\n",
    "mycursor=mydb.cursor()\n",
    "mycursor.execute('SHOW DATABASES')\n",
    "\n",
    "for x in mycursor:\n",
    "    print(x)"
   ]
  },
  {
   "cell_type": "markdown",
   "metadata": {},
   "source": [
    "### CREATE & SHOW TABLE"
   ]
  },
  {
   "cell_type": "markdown",
   "metadata": {},
   "source": [
    "Untuk membuat table, digunakan command CREATE TABLE dan diikuti dengan nama table serta isi dari table"
   ]
  },
  {
   "cell_type": "code",
   "execution_count": 12,
   "metadata": {},
   "outputs": [],
   "source": [
    "import mysql.connector\n",
    "mydb= mysql.connector.connect(\n",
    "    host='localhost',\n",
    "    user='root',\n",
    "    password='Rahma29',\n",
    "    database='trial_course_2',\n",
    ")\n",
    "mycursor=mydb.cursor()\n",
    "mycursor.execute('CREATE TABLE table_2(table_2_id INT, table_2_name VARCHAR(255), table_2_address VARCHAR(255))')\n"
   ]
  },
  {
   "cell_type": "markdown",
   "metadata": {},
   "source": [
    "untuk melihat apakah database tersebut telah dibuat digunakan command SHOW TABLES, apabila ingin menampilkannya di dalam python dapat menggunakan method fetchall() ataupun menggunakan loop pada Python"
   ]
  },
  {
   "cell_type": "code",
   "execution_count": 13,
   "metadata": {},
   "outputs": [
    {
     "name": "stdout",
     "output_type": "stream",
     "text": [
      "('table_1',)\n",
      "('table_2',)\n"
     ]
    }
   ],
   "source": [
    "import mysql.connector\n",
    "mydb= mysql.connector.connect(\n",
    "    host='localhost',\n",
    "    user='root',\n",
    "    password='Rahma29',\n",
    "    database='trial_course',\n",
    ")\n",
    "mycursor=mydb.cursor()\n",
    "mycursor.execute('SHOW TABLES')\n",
    "for x in mycursor:\n",
    "    print(x)"
   ]
  },
  {
   "cell_type": "markdown",
   "metadata": {},
   "source": [
    "### INSERT "
   ]
  },
  {
   "cell_type": "markdown",
   "metadata": {},
   "source": [
    "untuk memasukkan data pada tabel, dapat digunakan command INSERT seperti contoh di bawah ini. Setelah itu, gunakan command commit() untuk melakukan perubahan pada tables tersebut"
   ]
  },
  {
   "cell_type": "code",
   "execution_count": 14,
   "metadata": {},
   "outputs": [
    {
     "name": "stdout",
     "output_type": "stream",
     "text": [
      "1 record inserted\n"
     ]
    }
   ],
   "source": [
    "import mysql.connector\n",
    "mydb= mysql.connector.connect(\n",
    "    host='localhost',\n",
    "    user='root',\n",
    "    password='Rahma29',\n",
    "    database='trial_course',\n",
    ")\n",
    "mycursor=mydb.cursor()\n",
    "insert='INSERT INTO table_1 VALUES (%s,%s,%s)'\n",
    "values=(1,'john','johnnysuh street')\n",
    "mycursor.execute(insert,values)\n",
    "mydb.commit()\n",
    "\n",
    "print(mycursor.rowcount,'record inserted')"
   ]
  },
  {
   "cell_type": "markdown",
   "metadata": {},
   "source": [
    "Apabila ingin memasukkan data lebih dari satu, maka digunakan command executemany()"
   ]
  },
  {
   "cell_type": "code",
   "execution_count": 15,
   "metadata": {},
   "outputs": [
    {
     "name": "stdout",
     "output_type": "stream",
     "text": [
      "12 record inserted\n"
     ]
    }
   ],
   "source": [
    "import mysql.connector\n",
    "mydb= mysql.connector.connect(\n",
    "    host='localhost',\n",
    "    user='root',\n",
    "    password='Rahma29',\n",
    "    database='trial_course',\n",
    ")\n",
    "mycursor=mydb.cursor()\n",
    "insert='INSERT INTO table_1 VALUES (%s,%s,%s)'\n",
    "values=[(2,'Taeyong','bubu street'),\n",
    "        (3,'yuta','jepang street'),\n",
    "        (4,'mark','canada street'),\n",
    "        (5,'hendery','wayv street'),\n",
    "        (6,'ten','louis street'),\n",
    "        (7,'dejun','leon street'),\n",
    "        (8,'kun','daegal street'),\n",
    "        (9,'jisung','bella street'),\n",
    "        (10,'nana','dream street'),\n",
    "        (11,'jeno','hot street'),\n",
    "        (12,'chenle','beijing street'),\n",
    "        (13,'lucas','hongkong street')    \n",
    "]\n",
    "mycursor.executemany(insert,values) #using executemany kalo mau nambahin banyak ke databasenya\n",
    "mydb.commit()\n",
    "\n",
    "print(mycursor.rowcount,'record inserted')"
   ]
  },
  {
   "cell_type": "code",
   "execution_count": 16,
   "metadata": {},
   "outputs": [
    {
     "name": "stdout",
     "output_type": "stream",
     "text": [
      "12 record inserted\n"
     ]
    }
   ],
   "source": [
    "import mysql.connector\n",
    "mydb= mysql.connector.connect(\n",
    "    host='localhost',\n",
    "    user='root',\n",
    "    password='Rahma29',\n",
    "    database='trial_course',\n",
    ")\n",
    "mycursor=mydb.cursor()\n",
    "insert='INSERT INTO table_1 VALUES (%s,%s,%s)'\n",
    "values=[(14,'johnny','bubu street'),\n",
    "        (15,'jeno','jepang street'),\n",
    "        (16,'aheng','canada street'),\n",
    "        (17,'kai','wayv street'),\n",
    "        (18,'suho','louis street'),\n",
    "        (19,'taro','leon street'),\n",
    "        (20,'sungchan','daegal street'),\n",
    "        (21,'kyungso','bella street'),\n",
    "        (22,'jaemin','dream street'),\n",
    "        (23,'haechan','hot street'),\n",
    "        (24,'yangyang','beijing street'),\n",
    "        (25,'ten','hongkong street')    \n",
    "]\n",
    "mycursor.executemany(insert,values) #using executemany kalo mau nambahin banyak ke databasenya\n",
    "mydb.commit()\n",
    "\n",
    "print(mycursor.rowcount,'record inserted')"
   ]
  },
  {
   "cell_type": "markdown",
   "metadata": {},
   "source": [
    "### SELECT"
   ]
  },
  {
   "cell_type": "code",
   "execution_count": 17,
   "metadata": {},
   "outputs": [
    {
     "data": {
      "text/plain": [
       "[(1, 'john', 'johnnysuh street'),\n",
       " (2, 'Taeyong', 'bubu street'),\n",
       " (3, 'yuta', 'jepang street'),\n",
       " (4, 'mark', 'canada street'),\n",
       " (5, 'hendery', 'wayv street'),\n",
       " (6, 'ten', 'louis street'),\n",
       " (7, 'dejun', 'leon street'),\n",
       " (8, 'kun', 'daegal street'),\n",
       " (9, 'jisung', 'bella street'),\n",
       " (10, 'nana', 'dream street'),\n",
       " (11, 'jeno', 'hot street'),\n",
       " (12, 'chenle', 'beijing street'),\n",
       " (13, 'lucas', 'hongkong street'),\n",
       " (14, 'johnny', 'bubu street'),\n",
       " (15, 'jeno', 'jepang street'),\n",
       " (16, 'aheng', 'canada street'),\n",
       " (17, 'kai', 'wayv street'),\n",
       " (18, 'suho', 'louis street'),\n",
       " (19, 'taro', 'leon street'),\n",
       " (20, 'sungchan', 'daegal street'),\n",
       " (21, 'kyungso', 'bella street'),\n",
       " (22, 'jaemin', 'dream street'),\n",
       " (23, 'haechan', 'hot street'),\n",
       " (24, 'yangyang', 'beijing street'),\n",
       " (25, 'ten', 'hongkong street'),\n",
       " (1, 'john', 'johnnysuh street'),\n",
       " (2, 'Taeyong', 'bubu street'),\n",
       " (3, 'yuta', 'jepang street'),\n",
       " (4, 'mark', 'canada street'),\n",
       " (5, 'hendery', 'wayv street'),\n",
       " (6, 'ten', 'louis street'),\n",
       " (7, 'dejun', 'leon street'),\n",
       " (8, 'kun', 'daegal street'),\n",
       " (9, 'jisung', 'bella street'),\n",
       " (10, 'nana', 'dream street'),\n",
       " (11, 'jeno', 'hot street'),\n",
       " (12, 'chenle', 'beijing street'),\n",
       " (13, 'lucas', 'hongkong street'),\n",
       " (14, 'johnny', 'bubu street'),\n",
       " (15, 'jeno', 'jepang street'),\n",
       " (16, 'aheng', 'canada street'),\n",
       " (17, 'kai', 'wayv street'),\n",
       " (18, 'suho', 'louis street'),\n",
       " (19, 'taro', 'leon street'),\n",
       " (20, 'sungchan', 'daegal street'),\n",
       " (21, 'kyungso', 'bella street'),\n",
       " (22, 'jaemin', 'dream street'),\n",
       " (23, 'haechan', 'hot street'),\n",
       " (24, 'yangyang', 'beijing street'),\n",
       " (25, 'ten', 'hongkong street')]"
      ]
     },
     "execution_count": 17,
     "metadata": {},
     "output_type": "execute_result"
    }
   ],
   "source": [
    "import mysql.connector\n",
    "mydb= mysql.connector.connect(\n",
    "    host='localhost',\n",
    "    user='root',\n",
    "    password='Rahma29',\n",
    "    database='trial_course',\n",
    ")\n",
    "mycursor=mydb.cursor()\n",
    "mycursor.execute('SELECT * FROM table_1')\n",
    "mycursor.fetchall()"
   ]
  },
  {
   "cell_type": "markdown",
   "metadata": {},
   "source": [
    "untuk menampilkan isi dari sebuah tabel dapat digunakan command SELECT dan memilih kolom nya atau keseluruhan data menggunakan parameter *"
   ]
  },
  {
   "cell_type": "markdown",
   "metadata": {},
   "source": [
    "### WHERE"
   ]
  },
  {
   "cell_type": "markdown",
   "metadata": {},
   "source": [
    "apabila ingin melakukan action terhadap spesifik tabel, dapat digunakan command where untuk melakukan filter"
   ]
  },
  {
   "cell_type": "code",
   "execution_count": 18,
   "metadata": {},
   "outputs": [
    {
     "data": {
      "text/plain": [
       "[(1, 'john', 'johnnysuh street'), (1, 'john', 'johnnysuh street')]"
      ]
     },
     "execution_count": 18,
     "metadata": {},
     "output_type": "execute_result"
    }
   ],
   "source": [
    "import mysql.connector\n",
    "mydb= mysql.connector.connect(\n",
    "    host='localhost',\n",
    "    user='root',\n",
    "    password='Rahma29',\n",
    "    database='trial_course',\n",
    ")\n",
    "mycursor=mydb.cursor()\n",
    "mycursor.execute('SELECT * FROM table_1 WHERE table_1_id= 1')\n",
    "mycursor.fetchall()"
   ]
  },
  {
   "cell_type": "code",
   "execution_count": 19,
   "metadata": {},
   "outputs": [
    {
     "data": {
      "text/plain": [
       "[(1, 'john', 'johnnysuh street'), (1, 'john', 'johnnysuh street')]"
      ]
     },
     "execution_count": 19,
     "metadata": {},
     "output_type": "execute_result"
    }
   ],
   "source": [
    "import mysql.connector\n",
    "mydb= mysql.connector.connect(\n",
    "    host='localhost',\n",
    "    user='root',\n",
    "    password='Rahma29',\n",
    "    database='trial_course',\n",
    ")\n",
    "mycursor=mydb.cursor()\n",
    "mycursor.execute(\"SELECT * FROM table_1 WHERE table_1_name = 'john'\")\n",
    "mycursor.fetchall()"
   ]
  },
  {
   "cell_type": "markdown",
   "metadata": {},
   "source": [
    "### AND, OR, LIKE, Between"
   ]
  },
  {
   "cell_type": "markdown",
   "metadata": {},
   "source": [
    "dalam where, terdapat beberapa constraint yang bisa digunakan seperti and, or serta like"
   ]
  },
  {
   "cell_type": "markdown",
   "metadata": {},
   "source": [
    "AND digunakan untuk memberikan kondisi apabila keduanya benar, OR digunakan untuk memberikan kondisi apabila salah satu benar dan LIKE digunakan untuk memberikan kondisi pada string yang cocok serta Between digunakan untuk memberikan kondisi apabila sebuah nilai berada diantaranya"
   ]
  },
  {
   "cell_type": "markdown",
   "metadata": {},
   "source": [
    "Pada LIKE, tedapat beberapa operator yang dapat digunakan seperti:\n",
    "   1. \"a%\" -> mencari nilai yang diawali huruf a\n",
    "   2. \"%a\" -> mencari nilai yang diakhiri huruf a\n",
    "   3. \"%a%\" -> mencari nilai yang ada unsur huruf a diposisi apapun\n",
    "   4. \"_a%\" -> mencari nilai yang huruf keduanya adalah a\n",
    "   5. \"a_%\" -> mencari nilai yang huruf awalnya a dan panjang minimalnya 2 karakter\n",
    "   6. \"a__%\" -> mencari nilai yang huruf awalnya a dan panjang minimalnya 3 karakter\n",
    "   7. \"a%o\" -> mencari nilai yang diawali huruf a dan diakhiri huruf o*/\n",
    "\n",
    "Untuk huruf sendiri, dapat disesuaikan dengan kondisi"
   ]
  },
  {
   "cell_type": "code",
   "execution_count": 20,
   "metadata": {},
   "outputs": [
    {
     "data": {
      "text/plain": [
       "[(1, 'john', 'johnnysuh street'),\n",
       " (14, 'johnny', 'bubu street'),\n",
       " (1, 'john', 'johnnysuh street'),\n",
       " (14, 'johnny', 'bubu street')]"
      ]
     },
     "execution_count": 20,
     "metadata": {},
     "output_type": "execute_result"
    }
   ],
   "source": [
    "import mysql.connector\n",
    "mydb= mysql.connector.connect(\n",
    "    host='localhost',\n",
    "    user='root',\n",
    "    password='Rahma29',\n",
    "    database='trial_course',\n",
    ")\n",
    "mycursor=mydb.cursor()\n",
    "mycursor.execute(\"select * from table_1 where table_1_name like('jo%')\")\n",
    "mycursor.fetchall()"
   ]
  },
  {
   "cell_type": "code",
   "execution_count": 21,
   "metadata": {},
   "outputs": [
    {
     "data": {
      "text/plain": [
       "[(2, 'Taeyong', 'bubu street'),\n",
       " (3, 'yuta', 'jepang street'),\n",
       " (4, 'mark', 'canada street'),\n",
       " (10, 'nana', 'dream street'),\n",
       " (13, 'lucas', 'hongkong street'),\n",
       " (16, 'aheng', 'canada street'),\n",
       " (17, 'kai', 'wayv street'),\n",
       " (19, 'taro', 'leon street'),\n",
       " (20, 'sungchan', 'daegal street'),\n",
       " (22, 'jaemin', 'dream street'),\n",
       " (23, 'haechan', 'hot street'),\n",
       " (24, 'yangyang', 'beijing street'),\n",
       " (2, 'Taeyong', 'bubu street'),\n",
       " (3, 'yuta', 'jepang street'),\n",
       " (4, 'mark', 'canada street'),\n",
       " (10, 'nana', 'dream street'),\n",
       " (13, 'lucas', 'hongkong street'),\n",
       " (16, 'aheng', 'canada street'),\n",
       " (17, 'kai', 'wayv street'),\n",
       " (19, 'taro', 'leon street'),\n",
       " (20, 'sungchan', 'daegal street'),\n",
       " (22, 'jaemin', 'dream street'),\n",
       " (23, 'haechan', 'hot street'),\n",
       " (24, 'yangyang', 'beijing street')]"
      ]
     },
     "execution_count": 21,
     "metadata": {},
     "output_type": "execute_result"
    }
   ],
   "source": [
    "import mysql.connector\n",
    "mydb= mysql.connector.connect(\n",
    "    host='localhost',\n",
    "    user='root',\n",
    "    password='Rahma29',\n",
    "    database='trial_course',\n",
    ")\n",
    "mycursor=mydb.cursor()\n",
    "mycursor.execute(\"select * from table_1 where table_1_name like('%a%')\")\n",
    "mycursor.fetchall()"
   ]
  },
  {
   "cell_type": "code",
   "execution_count": 22,
   "metadata": {},
   "outputs": [
    {
     "data": {
      "text/plain": [
       "[(8, 'kun', 'daegal street'),\n",
       " (9, 'jisung', 'bella street'),\n",
       " (10, 'nana', 'dream street'),\n",
       " (11, 'jeno', 'hot street'),\n",
       " (12, 'chenle', 'beijing street'),\n",
       " (13, 'lucas', 'hongkong street'),\n",
       " (14, 'johnny', 'bubu street'),\n",
       " (15, 'jeno', 'jepang street'),\n",
       " (16, 'aheng', 'canada street'),\n",
       " (17, 'kai', 'wayv street'),\n",
       " (8, 'kun', 'daegal street'),\n",
       " (9, 'jisung', 'bella street'),\n",
       " (10, 'nana', 'dream street'),\n",
       " (11, 'jeno', 'hot street'),\n",
       " (12, 'chenle', 'beijing street'),\n",
       " (13, 'lucas', 'hongkong street'),\n",
       " (14, 'johnny', 'bubu street'),\n",
       " (15, 'jeno', 'jepang street'),\n",
       " (16, 'aheng', 'canada street'),\n",
       " (17, 'kai', 'wayv street')]"
      ]
     },
     "execution_count": 22,
     "metadata": {},
     "output_type": "execute_result"
    }
   ],
   "source": [
    "import mysql.connector\n",
    "mydb= mysql.connector.connect(\n",
    "    host='localhost',\n",
    "    user='root',\n",
    "    password='Rahma29',\n",
    "    database='trial_course',\n",
    ")\n",
    "mycursor=mydb.cursor()\n",
    "mycursor.execute(\"select * from table_1 where table_1_id between 8 and 17\")\n",
    "mycursor.fetchall()"
   ]
  },
  {
   "cell_type": "code",
   "execution_count": 23,
   "metadata": {},
   "outputs": [
    {
     "data": {
      "text/plain": [
       "[]"
      ]
     },
     "execution_count": 23,
     "metadata": {},
     "output_type": "execute_result"
    }
   ],
   "source": [
    "import mysql.connector\n",
    "mydb= mysql.connector.connect(\n",
    "    host='localhost',\n",
    "    user='root',\n",
    "    password='Rahma29',\n",
    "    database='trial_course',\n",
    ")\n",
    "mycursor=mydb.cursor()\n",
    "mycursor.execute(\"select * from table_1 where table_1_id =15 and table_1_name like('%a%') and table_1_address like('%e%')\")\n",
    "mycursor.fetchall()"
   ]
  },
  {
   "cell_type": "code",
   "execution_count": 24,
   "metadata": {},
   "outputs": [
    {
     "ename": "TypeError",
     "evalue": "execute() missing 1 required positional argument: 'operation'",
     "output_type": "error",
     "traceback": [
      "\u001b[1;31m---------------------------------------------------------------------------\u001b[0m",
      "\u001b[1;31mTypeError\u001b[0m                                 Traceback (most recent call last)",
      "\u001b[1;32m<ipython-input-24-69c780550894>\u001b[0m in \u001b[0;36m<module>\u001b[1;34m\u001b[0m\n\u001b[0;32m      7\u001b[0m )\n\u001b[0;32m      8\u001b[0m \u001b[0mmycursor\u001b[0m\u001b[1;33m=\u001b[0m\u001b[0mmydb\u001b[0m\u001b[1;33m.\u001b[0m\u001b[0mcursor\u001b[0m\u001b[1;33m(\u001b[0m\u001b[1;33m)\u001b[0m\u001b[1;33m\u001b[0m\u001b[1;33m\u001b[0m\u001b[0m\n\u001b[1;32m----> 9\u001b[1;33m \u001b[0mmycursor\u001b[0m\u001b[1;33m.\u001b[0m\u001b[0mexecute\u001b[0m\u001b[1;33m(\u001b[0m\u001b[1;33m)\u001b[0m\u001b[1;33m\u001b[0m\u001b[1;33m\u001b[0m\u001b[0m\n\u001b[0m\u001b[0;32m     10\u001b[0m \u001b[0mmycursor\u001b[0m\u001b[1;33m.\u001b[0m\u001b[0mfetchall\u001b[0m\u001b[1;33m(\u001b[0m\u001b[1;33m)\u001b[0m\u001b[1;33m\u001b[0m\u001b[1;33m\u001b[0m\u001b[0m\n",
      "\u001b[1;31mTypeError\u001b[0m: execute() missing 1 required positional argument: 'operation'"
     ]
    }
   ],
   "source": [
    "import mysql.connector\n",
    "mydb= mysql.connector.connect(\n",
    "    host='localhost',\n",
    "    user='root',\n",
    "    password='Rahma29',\n",
    "    database='trial_course',\n",
    ")\n",
    "mycursor=mydb.cursor()\n",
    "mycursor.execute()\n",
    "mycursor.fetchall()"
   ]
  },
  {
   "cell_type": "markdown",
   "metadata": {},
   "source": [
    "### ORDER BY"
   ]
  },
  {
   "cell_type": "markdown",
   "metadata": {},
   "source": [
    "untuk mengurutkan baris terhadap sebuah kolom, digunakan ORDER BY baik descending atau ascending"
   ]
  },
  {
   "cell_type": "code",
   "execution_count": null,
   "metadata": {},
   "outputs": [],
   "source": [
    "import mysql.connector\n",
    "mydb= mysql.connector.connect(\n",
    "    host='localhost',\n",
    "    user='root',\n",
    "    password='Rahma29',\n",
    "    database='trial_course',\n",
    ")\n",
    "mycursor=mydb.cursor()\n",
    "mycursor.execute(\"select * from table_1 order by table_1_name\")\n",
    "mycursor.fetchall()"
   ]
  },
  {
   "cell_type": "code",
   "execution_count": null,
   "metadata": {},
   "outputs": [],
   "source": [
    "import mysql.connector\n",
    "mydb= mysql.connector.connect(\n",
    "    host='localhost',\n",
    "    user='root',\n",
    "    password='Rahma29',\n",
    "    database='trial_course',\n",
    ")\n",
    "mycursor=mydb.cursor()\n",
    "mycursor.execute(\"select * from table_1 order by table_1_name desc\")\n",
    "mycursor.fetchall()"
   ]
  },
  {
   "cell_type": "code",
   "execution_count": null,
   "metadata": {},
   "outputs": [],
   "source": [
    "import mysql.connector\n",
    "mydb= mysql.connector.connect(\n",
    "    host='localhost',\n",
    "    user='root',\n",
    "    password='Rahma29',\n",
    "    database='trial_course',\n",
    ")\n",
    "mycursor=mydb.cursor()\n",
    "mycursor.execute(\"select * from table_1 order by table_1_address desc\")\n",
    "mycursor.fetchall()"
   ]
  },
  {
   "cell_type": "markdown",
   "metadata": {},
   "source": [
    "### GROUP BY & Having"
   ]
  },
  {
   "cell_type": "markdown",
   "metadata": {},
   "source": [
    "untuk melakukan aggregasi pada mysql dapat dilakukan menggunakan GROUP BY. Agregasi dilakukan apabila terdapat kalkulasi pada sebuah nilai, terdapat beberapa function dalam aggregasi yaitu:\n",
    "1. MIN   -> Nilai terkecil\n",
    "2. MAX   -> Nilai terbesar\n",
    "3. SUM   -> Total dari keseluruhan kolom\n",
    "4. COUNT -> Menghitung banyaknya nilai pada kolom\n",
    "5. AVG   -> Menghitung rata rata pada nilai\n",
    "\n",
    "Terdapat method lain yaitu Having yang digunakan untuk memberikan kondisi terhadap data dari hasil aggregasi"
   ]
  },
  {
   "cell_type": "code",
   "execution_count": null,
   "metadata": {},
   "outputs": [],
   "source": [
    "import mysql.connector\n",
    "mydb= mysql.connector.connect(\n",
    "    host='localhost',\n",
    "    user='root',\n",
    "    password='Rahma29',\n",
    "    database='world',\n",
    ")\n",
    "mycursor=mydb.cursor()\n",
    "mycursor.execute('show tables')\n",
    "mycursor.fetchall()"
   ]
  },
  {
   "cell_type": "code",
   "execution_count": null,
   "metadata": {},
   "outputs": [],
   "source": [
    "import mysql.connector\n",
    "mydb= mysql.connector.connect(\n",
    "    host='localhost',\n",
    "    user='root',\n",
    "    password='Rahma29',\n",
    "    database='world',\n",
    ")\n",
    "mycursor=mydb.cursor()\n",
    "mycursor.execute('select * from city')\n",
    "mycursor.fetchall()"
   ]
  },
  {
   "cell_type": "code",
   "execution_count": null,
   "metadata": {},
   "outputs": [],
   "source": [
    "import mysql.connector\n",
    "mydb= mysql.connector.connect(\n",
    "    host='localhost',\n",
    "    user='root',\n",
    "    password='Rahma29',\n",
    "    database='world',\n",
    ")\n",
    "mycursor=mydb.cursor()\n",
    "mycursor.execute('select max(population), name from city ')\n",
    "mycursor.fetchall()"
   ]
  },
  {
   "cell_type": "code",
   "execution_count": null,
   "metadata": {},
   "outputs": [],
   "source": [
    "import mysql.connector\n",
    "mydb= mysql.connector.connect(\n",
    "    host='localhost',\n",
    "    user='root',\n",
    "    password='Rahma29',\n",
    "    database='world',\n",
    ")\n",
    "mycursor=mydb.cursor()\n",
    "mycursor.execute('select max(population), name from city group by name')\n",
    "mycursor.fetchall()"
   ]
  },
  {
   "cell_type": "code",
   "execution_count": null,
   "metadata": {},
   "outputs": [],
   "source": [
    "import mysql.connector\n",
    "mydb= mysql.connector.connect(\n",
    "    host='localhost',\n",
    "    user='root',\n",
    "    password='Rahma29',\n",
    "    database='world',\n",
    ")\n",
    "mycursor=mydb.cursor()\n",
    "mycursor.execute('select count(population),max(population),name from city ')\n",
    "mycursor.fetchall()"
   ]
  },
  {
   "cell_type": "code",
   "execution_count": null,
   "metadata": {},
   "outputs": [],
   "source": [
    "import mysql.connector\n",
    "mydb= mysql.connector.connect(\n",
    "    host='localhost',\n",
    "    user='root',\n",
    "    password='Rahma29',\n",
    "    database='world',\n",
    ")\n",
    "mycursor=mydb.cursor()\n",
    "mycursor.execute('select count(population),max(population) as maxpop,name from city group by name having (maxpop >12839)')\n",
    "mycursor.fetchall()"
   ]
  },
  {
   "cell_type": "markdown",
   "metadata": {},
   "source": [
    "### DELETE"
   ]
  },
  {
   "cell_type": "markdown",
   "metadata": {},
   "source": [
    "untuk menghapus baris pada sebuah tabel, digunakan command DELETE. Namun, ingat tambahkan filter menggunakan where untuk mencegah data terhapus semuanya"
   ]
  },
  {
   "cell_type": "code",
   "execution_count": 25,
   "metadata": {},
   "outputs": [
    {
     "data": {
      "text/plain": [
       "[]"
      ]
     },
     "execution_count": 25,
     "metadata": {},
     "output_type": "execute_result"
    }
   ],
   "source": [
    "import mysql.connector\n",
    "mydb= mysql.connector.connect(\n",
    "    host='localhost',\n",
    "    user='root',\n",
    "    password='Rahma29',\n",
    "    database='trial_course',\n",
    ")\n",
    "mycursor=mydb.cursor()\n",
    "mycursor.execute(\"delete from table_1 where table_1_name = 'kai' \")\n",
    "mycursor.fetchall()"
   ]
  },
  {
   "cell_type": "code",
   "execution_count": 31,
   "metadata": {},
   "outputs": [],
   "source": [
    "import mysql.connector\n",
    "mydb= mysql.connector.connect(\n",
    "    host='localhost',\n",
    "    user='root',\n",
    "    password='Rahma29',\n",
    "    database='trial_course',\n",
    ")\n",
    "mycursor=mydb.cursor()\n",
    "mycursor.execute(\"delete from table_1 where table_1_name = 'lucas' \")\n",
    "mydb.commit()"
   ]
  },
  {
   "cell_type": "code",
   "execution_count": 32,
   "metadata": {},
   "outputs": [
    {
     "data": {
      "text/plain": [
       "[(1, 'john', 'johnnysuh street'),\n",
       " (2, 'Taeyong', 'bubu street'),\n",
       " (3, 'yuta', 'jepang street'),\n",
       " (4, 'mark', 'canada street'),\n",
       " (5, 'hendery', 'wayv street'),\n",
       " (6, 'ten', 'louis street'),\n",
       " (7, 'dejun', 'leon street'),\n",
       " (8, 'kun', 'daegal street'),\n",
       " (9, 'jisung', 'bella street'),\n",
       " (10, 'nana', 'dream street'),\n",
       " (11, 'jeno', 'hot street'),\n",
       " (12, 'chenle', 'beijing street'),\n",
       " (14, 'johnny', 'bubu street'),\n",
       " (15, 'jeno', 'jepang street'),\n",
       " (16, 'aheng', 'canada street'),\n",
       " (17, 'kai', 'wayv street'),\n",
       " (18, 'suho', 'louis street'),\n",
       " (19, 'taro', 'leon street'),\n",
       " (20, 'sungchan', 'daegal street'),\n",
       " (21, 'kyungso', 'bella street'),\n",
       " (22, 'jaemin', 'dream street'),\n",
       " (23, 'haechan', 'hot street'),\n",
       " (24, 'yangyang', 'beijing street'),\n",
       " (25, 'ten', 'hongkong street'),\n",
       " (1, 'john', 'johnnysuh street'),\n",
       " (2, 'Taeyong', 'bubu street'),\n",
       " (3, 'yuta', 'jepang street'),\n",
       " (4, 'mark', 'canada street'),\n",
       " (5, 'hendery', 'wayv street'),\n",
       " (6, 'ten', 'louis street'),\n",
       " (7, 'dejun', 'leon street'),\n",
       " (8, 'kun', 'daegal street'),\n",
       " (9, 'jisung', 'bella street'),\n",
       " (10, 'nana', 'dream street'),\n",
       " (11, 'jeno', 'hot street'),\n",
       " (12, 'chenle', 'beijing street'),\n",
       " (14, 'johnny', 'bubu street'),\n",
       " (15, 'jeno', 'jepang street'),\n",
       " (16, 'aheng', 'canada street'),\n",
       " (17, 'kai', 'wayv street'),\n",
       " (18, 'suho', 'louis street'),\n",
       " (19, 'taro', 'leon street'),\n",
       " (20, 'sungchan', 'daegal street'),\n",
       " (21, 'kyungso', 'bella street'),\n",
       " (22, 'jaemin', 'dream street'),\n",
       " (23, 'haechan', 'hot street'),\n",
       " (24, 'yangyang', 'beijing street'),\n",
       " (25, 'ten', 'hongkong street')]"
      ]
     },
     "execution_count": 32,
     "metadata": {},
     "output_type": "execute_result"
    }
   ],
   "source": [
    "import mysql.connector\n",
    "mydb= mysql.connector.connect(\n",
    "    host='localhost',\n",
    "    user='root',\n",
    "    password='Rahma29',\n",
    "    database='trial_course',\n",
    ")\n",
    "mycursor=mydb.cursor()\n",
    "mycursor.execute(\"select * from table_1\")\n",
    "mycursor.fetchall()"
   ]
  },
  {
   "cell_type": "markdown",
   "metadata": {},
   "source": [
    "### UPDATE"
   ]
  },
  {
   "cell_type": "markdown",
   "metadata": {},
   "source": [
    "untuk mengubah data yang telah dimasukkan kedalam tabel, dapat digunakan command UPDATE"
   ]
  },
  {
   "cell_type": "code",
   "execution_count": 34,
   "metadata": {},
   "outputs": [],
   "source": [
    "import mysql.connector\n",
    "mydb= mysql.connector.connect(\n",
    "    host='localhost',\n",
    "    user='root',\n",
    "    password='Rahma29',\n",
    "    database='trial_course',\n",
    ")\n",
    "mycursor=mydb.cursor()\n",
    "mycursor.execute(\"UPDATE table_1 SET table_1_name = 'xuxi' WHERE table_1_id= 1 \")\n",
    "mydb.commit()"
   ]
  },
  {
   "cell_type": "code",
   "execution_count": 35,
   "metadata": {},
   "outputs": [
    {
     "data": {
      "text/plain": [
       "[(1, 'xuxi', 'johnnysuh street'),\n",
       " (2, 'Taeyong', 'bubu street'),\n",
       " (3, 'yuta', 'jepang street'),\n",
       " (4, 'mark', 'canada street'),\n",
       " (5, 'hendery', 'wayv street'),\n",
       " (6, 'ten', 'louis street'),\n",
       " (7, 'dejun', 'leon street'),\n",
       " (8, 'kun', 'daegal street'),\n",
       " (9, 'jisung', 'bella street'),\n",
       " (10, 'nana', 'dream street'),\n",
       " (11, 'jeno', 'hot street'),\n",
       " (12, 'chenle', 'beijing street'),\n",
       " (14, 'johnny', 'bubu street'),\n",
       " (15, 'jeno', 'jepang street'),\n",
       " (16, 'aheng', 'canada street'),\n",
       " (17, 'kai', 'wayv street'),\n",
       " (18, 'suho', 'louis street'),\n",
       " (19, 'taro', 'leon street'),\n",
       " (20, 'sungchan', 'daegal street'),\n",
       " (21, 'kyungso', 'bella street'),\n",
       " (22, 'jaemin', 'dream street'),\n",
       " (23, 'haechan', 'hot street'),\n",
       " (24, 'yangyang', 'beijing street'),\n",
       " (25, 'ten', 'hongkong street'),\n",
       " (1, 'xuxi', 'johnnysuh street'),\n",
       " (2, 'Taeyong', 'bubu street'),\n",
       " (3, 'yuta', 'jepang street'),\n",
       " (4, 'mark', 'canada street'),\n",
       " (5, 'hendery', 'wayv street'),\n",
       " (6, 'ten', 'louis street'),\n",
       " (7, 'dejun', 'leon street'),\n",
       " (8, 'kun', 'daegal street'),\n",
       " (9, 'jisung', 'bella street'),\n",
       " (10, 'nana', 'dream street'),\n",
       " (11, 'jeno', 'hot street'),\n",
       " (12, 'chenle', 'beijing street'),\n",
       " (14, 'johnny', 'bubu street'),\n",
       " (15, 'jeno', 'jepang street'),\n",
       " (16, 'aheng', 'canada street'),\n",
       " (17, 'kai', 'wayv street'),\n",
       " (18, 'suho', 'louis street'),\n",
       " (19, 'taro', 'leon street'),\n",
       " (20, 'sungchan', 'daegal street'),\n",
       " (21, 'kyungso', 'bella street'),\n",
       " (22, 'jaemin', 'dream street'),\n",
       " (23, 'haechan', 'hot street'),\n",
       " (24, 'yangyang', 'beijing street'),\n",
       " (25, 'ten', 'hongkong street')]"
      ]
     },
     "execution_count": 35,
     "metadata": {},
     "output_type": "execute_result"
    }
   ],
   "source": [
    "import mysql.connector\n",
    "mydb= mysql.connector.connect(\n",
    "    host='localhost',\n",
    "    user='root',\n",
    "    password='Rahma29',\n",
    "    database='trial_course',\n",
    ")\n",
    "mycursor=mydb.cursor()\n",
    "mycursor.execute(\"select * from table_1\")\n",
    "mycursor.fetchall()"
   ]
  },
  {
   "cell_type": "markdown",
   "metadata": {},
   "source": [
    "### LIMIT"
   ]
  },
  {
   "cell_type": "markdown",
   "metadata": {},
   "source": [
    "untuk membatasi data yang ditampilkan hanya beberapa saja, dapat digunakan command LIMIT"
   ]
  },
  {
   "cell_type": "code",
   "execution_count": 36,
   "metadata": {},
   "outputs": [
    {
     "data": {
      "text/plain": [
       "[(1, 'xuxi', 'johnnysuh street'),\n",
       " (2, 'Taeyong', 'bubu street'),\n",
       " (3, 'yuta', 'jepang street')]"
      ]
     },
     "execution_count": 36,
     "metadata": {},
     "output_type": "execute_result"
    }
   ],
   "source": [
    "import mysql.connector\n",
    "mydb= mysql.connector.connect(\n",
    "    host='localhost',\n",
    "    user='root',\n",
    "    password='Rahma29',\n",
    "    database='trial_course',\n",
    ")\n",
    "mycursor=mydb.cursor()\n",
    "mycursor.execute(\"SELECt * FROM table_1 LIMIT 3 \")\n",
    "mycursor.fetchall()"
   ]
  },
  {
   "cell_type": "markdown",
   "metadata": {},
   "source": [
    "### DROP TABLE & DATABASE"
   ]
  },
  {
   "cell_type": "markdown",
   "metadata": {},
   "source": [
    "untuk menghapus tabel ataupun database, digunakan method DROP TABLE & DROP DATABASE"
   ]
  },
  {
   "cell_type": "code",
   "execution_count": 37,
   "metadata": {},
   "outputs": [
    {
     "data": {
      "text/plain": [
       "[]"
      ]
     },
     "execution_count": 37,
     "metadata": {},
     "output_type": "execute_result"
    }
   ],
   "source": [
    "import mysql.connector\n",
    "mydb= mysql.connector.connect(\n",
    "    host='localhost',\n",
    "    user='root',\n",
    "    password='Rahma29',\n",
    "    database='trial_course'\n",
    ")\n",
    "mycursor=mydb.cursor()\n",
    "mycursor.execute(\"DROP TABLE table_2 \")\n",
    "mycursor.fetchall()"
   ]
  },
  {
   "cell_type": "code",
   "execution_count": 38,
   "metadata": {},
   "outputs": [
    {
     "data": {
      "text/plain": [
       "[('table_1',)]"
      ]
     },
     "execution_count": 38,
     "metadata": {},
     "output_type": "execute_result"
    }
   ],
   "source": [
    "import mysql.connector\n",
    "mydb= mysql.connector.connect(\n",
    "    host='localhost',\n",
    "    user='root',\n",
    "    password='Rahma29',\n",
    "    database='trial_course'\n",
    ")\n",
    "mycursor=mydb.cursor()\n",
    "mycursor.execute(\"SHOW TABLES \")\n",
    "mycursor.fetchall()"
   ]
  },
  {
   "cell_type": "code",
   "execution_count": 39,
   "metadata": {},
   "outputs": [
    {
     "data": {
      "text/plain": [
       "[]"
      ]
     },
     "execution_count": 39,
     "metadata": {},
     "output_type": "execute_result"
    }
   ],
   "source": [
    "import mysql.connector\n",
    "mydb= mysql.connector.connect(\n",
    "    host='localhost',\n",
    "    user='root',\n",
    "    password='Rahma29',\n",
    "    database='trial_course'\n",
    ")\n",
    "mycursor=mydb.cursor()\n",
    "mycursor.execute(\"DROP DATABASE trial_course_2 \")\n",
    "mycursor.fetchall()"
   ]
  },
  {
   "cell_type": "code",
   "execution_count": 41,
   "metadata": {},
   "outputs": [
    {
     "data": {
      "text/plain": [
       "[('geeked',),\n",
       " ('information_schema',),\n",
       " ('mysql',),\n",
       " ('performance_schema',),\n",
       " ('sys',),\n",
       " ('trial_course',),\n",
       " ('world',)]"
      ]
     },
     "execution_count": 41,
     "metadata": {},
     "output_type": "execute_result"
    }
   ],
   "source": [
    "import mysql.connector\n",
    "mydb= mysql.connector.connect(\n",
    "    host='localhost',\n",
    "    user='root',\n",
    "    password='Rahma29',\n",
    "    database='trial_course'\n",
    ")\n",
    "mycursor=mydb.cursor()\n",
    "mycursor.execute(\"SHOW DATABASES \")\n",
    "mycursor.fetchall()"
   ]
  },
  {
   "cell_type": "markdown",
   "metadata": {},
   "source": [
    "### Sub Query"
   ]
  },
  {
   "cell_type": "markdown",
   "metadata": {},
   "source": [
    "Sub query digunakan apabila ingin memberikan filterisasi atau menampilkan data yang berhubungan dengan aggregate function"
   ]
  },
  {
   "cell_type": "code",
   "execution_count": 45,
   "metadata": {},
   "outputs": [
    {
     "data": {
      "text/plain": [
       "[('city',), ('country',), ('countrylanguage',), ('geeked',)]"
      ]
     },
     "execution_count": 45,
     "metadata": {},
     "output_type": "execute_result"
    }
   ],
   "source": [
    "import mysql.connector\n",
    "mydb= mysql.connector.connect(\n",
    "    host='localhost',\n",
    "    user='root',\n",
    "    password='Rahma29',\n",
    "    database='world'\n",
    ")\n",
    "mycursor=mydb.cursor()\n",
    "mycursor.execute(\"SHOW TABLES \")\n",
    "mycursor.fetchall()"
   ]
  },
  {
   "cell_type": "code",
   "execution_count": 49,
   "metadata": {},
   "outputs": [
    {
     "data": {
      "text/plain": [
       "[(1, 'Kabul', 'AFG', 'Kabol', 1780000),\n",
       " (2, 'Qandahar', 'AFG', 'Qandahar', 237500),\n",
       " (3, 'Herat', 'AFG', 'Herat', 186800),\n",
       " (4, 'Mazar-e-Sharif', 'AFG', 'Balkh', 127800),\n",
       " (5, 'Amsterdam', 'NLD', 'Noord-Holland', 731200),\n",
       " (6, 'Rotterdam', 'NLD', 'Zuid-Holland', 593321),\n",
       " (7, 'Haag', 'NLD', 'Zuid-Holland', 440900),\n",
       " (8, 'Utrecht', 'NLD', 'Utrecht', 234323),\n",
       " (9, 'Eindhoven', 'NLD', 'Noord-Brabant', 201843),\n",
       " (10, 'Tilburg', 'NLD', 'Noord-Brabant', 193238),\n",
       " (11, 'Groningen', 'NLD', 'Groningen', 172701),\n",
       " (12, 'Breda', 'NLD', 'Noord-Brabant', 160398),\n",
       " (13, 'Apeldoorn', 'NLD', 'Gelderland', 153491),\n",
       " (14, 'Nijmegen', 'NLD', 'Gelderland', 152463),\n",
       " (15, 'Enschede', 'NLD', 'Overijssel', 149544),\n",
       " (16, 'Haarlem', 'NLD', 'Noord-Holland', 148772),\n",
       " (17, 'Almere', 'NLD', 'Flevoland', 142465),\n",
       " (18, 'Arnhem', 'NLD', 'Gelderland', 138020),\n",
       " (19, 'Zaanstad', 'NLD', 'Noord-Holland', 135621),\n",
       " (20, '´s-Hertogenbosch', 'NLD', 'Noord-Brabant', 129170),\n",
       " (21, 'Amersfoort', 'NLD', 'Utrecht', 126270),\n",
       " (22, 'Maastricht', 'NLD', 'Limburg', 122087),\n",
       " (23, 'Dordrecht', 'NLD', 'Zuid-Holland', 119811),\n",
       " (24, 'Leiden', 'NLD', 'Zuid-Holland', 117196),\n",
       " (25, 'Haarlemmermeer', 'NLD', 'Noord-Holland', 110722),\n",
       " (26, 'Zoetermeer', 'NLD', 'Zuid-Holland', 110214),\n",
       " (27, 'Emmen', 'NLD', 'Drenthe', 105853),\n",
       " (28, 'Zwolle', 'NLD', 'Overijssel', 105819),\n",
       " (29, 'Ede', 'NLD', 'Gelderland', 101574),\n",
       " (30, 'Delft', 'NLD', 'Zuid-Holland', 95268),\n",
       " (31, 'Heerlen', 'NLD', 'Limburg', 95052),\n",
       " (32, 'Alkmaar', 'NLD', 'Noord-Holland', 92713),\n",
       " (33, 'Willemstad', 'ANT', 'Curaçao', 2345),\n",
       " (34, 'Tirana', 'ALB', 'Tirana', 270000),\n",
       " (35, 'Alger', 'DZA', 'Alger', 2168000),\n",
       " (36, 'Oran', 'DZA', 'Oran', 609823),\n",
       " (37, 'Constantine', 'DZA', 'Constantine', 443727),\n",
       " (38, 'Annaba', 'DZA', 'Annaba', 222518),\n",
       " (39, 'Batna', 'DZA', 'Batna', 183377),\n",
       " (40, 'Sétif', 'DZA', 'Sétif', 179055),\n",
       " (41, 'Sidi Bel Abbès', 'DZA', 'Sidi Bel Abbès', 153106),\n",
       " (42, 'Skikda', 'DZA', 'Skikda', 128747),\n",
       " (43, 'Biskra', 'DZA', 'Biskra', 128281),\n",
       " (44, 'Blida (el-Boulaida)', 'DZA', 'Blida', 127284),\n",
       " (45, 'Béjaïa', 'DZA', 'Béjaïa', 117162),\n",
       " (46, 'Mostaganem', 'DZA', 'Mostaganem', 115212),\n",
       " (47, 'Tébessa', 'DZA', 'Tébessa', 112007),\n",
       " (48, 'Tlemcen (Tilimsen)', 'DZA', 'Tlemcen', 110242),\n",
       " (49, 'Béchar', 'DZA', 'Béchar', 107311),\n",
       " (50, 'Tiaret', 'DZA', 'Tiaret', 100118),\n",
       " (51, 'Ech-Chleff (el-Asnam)', 'DZA', 'Chlef', 96794),\n",
       " (52, 'Ghardaïa', 'DZA', 'Ghardaïa', 89415),\n",
       " (53, 'Tafuna', 'ASM', 'Tutuila', 5200),\n",
       " (54, 'Fagatogo', 'ASM', 'Tutuila', 2323),\n",
       " (55, 'Andorra la Vella', 'AND', 'Andorra la Vella', 21189),\n",
       " (56, 'Luanda', 'AGO', 'Luanda', 2022000),\n",
       " (57, 'Huambo', 'AGO', 'Huambo', 163100),\n",
       " (58, 'Lobito', 'AGO', 'Benguela', 130000),\n",
       " (59, 'Benguela', 'AGO', 'Benguela', 128300),\n",
       " (60, 'Namibe', 'AGO', 'Namibe', 118200),\n",
       " (61, 'South Hill', 'AIA', '–', 961),\n",
       " (62, 'The Valley', 'AIA', '–', 595),\n",
       " (63, 'Saint John´s', 'ATG', 'St John', 24000),\n",
       " (64, 'Dubai', 'ARE', 'Dubai', 669181),\n",
       " (65, 'Abu Dhabi', 'ARE', 'Abu Dhabi', 398695),\n",
       " (66, 'Sharja', 'ARE', 'Sharja', 320095),\n",
       " (67, 'al-Ayn', 'ARE', 'Abu Dhabi', 225970),\n",
       " (68, 'Ajman', 'ARE', 'Ajman', 114395),\n",
       " (69, 'Buenos Aires', 'ARG', 'Distrito Federal', 2982146),\n",
       " (70, 'La Matanza', 'ARG', 'Buenos Aires', 1266461),\n",
       " (71, 'Córdoba', 'ARG', 'Córdoba', 1157507),\n",
       " (72, 'Rosario', 'ARG', 'Santa Fé', 907718),\n",
       " (73, 'Lomas de Zamora', 'ARG', 'Buenos Aires', 622013),\n",
       " (74, 'Quilmes', 'ARG', 'Buenos Aires', 559249),\n",
       " (75, 'Almirante Brown', 'ARG', 'Buenos Aires', 538918),\n",
       " (76, 'La Plata', 'ARG', 'Buenos Aires', 521936),\n",
       " (77, 'Mar del Plata', 'ARG', 'Buenos Aires', 512880),\n",
       " (78, 'San Miguel de Tucumán', 'ARG', 'Tucumán', 470809),\n",
       " (79, 'Lanús', 'ARG', 'Buenos Aires', 469735),\n",
       " (80, 'Merlo', 'ARG', 'Buenos Aires', 463846),\n",
       " (81, 'General San Martín', 'ARG', 'Buenos Aires', 422542),\n",
       " (82, 'Salta', 'ARG', 'Salta', 367550),\n",
       " (83, 'Moreno', 'ARG', 'Buenos Aires', 356993),\n",
       " (84, 'Santa Fé', 'ARG', 'Santa Fé', 353063),\n",
       " (85, 'Avellaneda', 'ARG', 'Buenos Aires', 353046),\n",
       " (86, 'Tres de Febrero', 'ARG', 'Buenos Aires', 352311),\n",
       " (87, 'Morón', 'ARG', 'Buenos Aires', 349246),\n",
       " (88, 'Florencio Varela', 'ARG', 'Buenos Aires', 315432),\n",
       " (89, 'San Isidro', 'ARG', 'Buenos Aires', 306341),\n",
       " (90, 'Tigre', 'ARG', 'Buenos Aires', 296226),\n",
       " (91, 'Malvinas Argentinas', 'ARG', 'Buenos Aires', 290335),\n",
       " (92, 'Vicente López', 'ARG', 'Buenos Aires', 288341),\n",
       " (93, 'Berazategui', 'ARG', 'Buenos Aires', 276916),\n",
       " (94, 'Corrientes', 'ARG', 'Corrientes', 258103),\n",
       " (95, 'San Miguel', 'ARG', 'Buenos Aires', 248700),\n",
       " (96, 'Bahía Blanca', 'ARG', 'Buenos Aires', 239810),\n",
       " (97, 'Esteban Echeverría', 'ARG', 'Buenos Aires', 235760),\n",
       " (98, 'Resistencia', 'ARG', 'Chaco', 229212),\n",
       " (99, 'José C. Paz', 'ARG', 'Buenos Aires', 221754),\n",
       " (100, 'Paraná', 'ARG', 'Entre Rios', 207041),\n",
       " (101, 'Godoy Cruz', 'ARG', 'Mendoza', 206998),\n",
       " (102, 'Posadas', 'ARG', 'Misiones', 201273),\n",
       " (103, 'Guaymallén', 'ARG', 'Mendoza', 200595),\n",
       " (104, 'Santiago del Estero', 'ARG', 'Santiago del Estero', 189947),\n",
       " (105, 'San Salvador de Jujuy', 'ARG', 'Jujuy', 178748),\n",
       " (106, 'Hurlingham', 'ARG', 'Buenos Aires', 170028),\n",
       " (107, 'Neuquén', 'ARG', 'Neuquén', 167296),\n",
       " (108, 'Ituzaingó', 'ARG', 'Buenos Aires', 158197),\n",
       " (109, 'San Fernando', 'ARG', 'Buenos Aires', 153036),\n",
       " (110, 'Formosa', 'ARG', 'Formosa', 147636),\n",
       " (111, 'Las Heras', 'ARG', 'Mendoza', 145823),\n",
       " (112, 'La Rioja', 'ARG', 'La Rioja', 138117),\n",
       " (113, 'San Fernando del Valle de Cata', 'ARG', 'Catamarca', 134935),\n",
       " (114, 'Río Cuarto', 'ARG', 'Córdoba', 134355),\n",
       " (115, 'Comodoro Rivadavia', 'ARG', 'Chubut', 124104),\n",
       " (116, 'Mendoza', 'ARG', 'Mendoza', 123027),\n",
       " (117, 'San Nicolás de los Arroyos', 'ARG', 'Buenos Aires', 119302),\n",
       " (118, 'San Juan', 'ARG', 'San Juan', 119152),\n",
       " (119, 'Escobar', 'ARG', 'Buenos Aires', 116675),\n",
       " (120, 'Concordia', 'ARG', 'Entre Rios', 116485),\n",
       " (121, 'Pilar', 'ARG', 'Buenos Aires', 113428),\n",
       " (122, 'San Luis', 'ARG', 'San Luis', 110136),\n",
       " (123, 'Ezeiza', 'ARG', 'Buenos Aires', 99578),\n",
       " (124, 'San Rafael', 'ARG', 'Mendoza', 94651),\n",
       " (125, 'Tandil', 'ARG', 'Buenos Aires', 91101),\n",
       " (126, 'Yerevan', 'ARM', 'Yerevan', 1248700),\n",
       " (127, 'Gjumri', 'ARM', 'Širak', 211700),\n",
       " (128, 'Vanadzor', 'ARM', 'Lori', 172700),\n",
       " (129, 'Oranjestad', 'ABW', '–', 29034),\n",
       " (130, 'Sydney', 'AUS', 'New South Wales', 3276207),\n",
       " (131, 'Melbourne', 'AUS', 'Victoria', 2865329),\n",
       " (132, 'Brisbane', 'AUS', 'Queensland', 1291117),\n",
       " (133, 'Perth', 'AUS', 'West Australia', 1096829),\n",
       " (134, 'Adelaide', 'AUS', 'South Australia', 978100),\n",
       " (135, 'Canberra', 'AUS', 'Capital Region', 322723),\n",
       " (136, 'Gold Coast', 'AUS', 'Queensland', 311932),\n",
       " (137, 'Newcastle', 'AUS', 'New South Wales', 270324),\n",
       " (138, 'Central Coast', 'AUS', 'New South Wales', 227657),\n",
       " (139, 'Wollongong', 'AUS', 'New South Wales', 219761),\n",
       " (140, 'Hobart', 'AUS', 'Tasmania', 126118),\n",
       " (141, 'Geelong', 'AUS', 'Victoria', 125382),\n",
       " (142, 'Townsville', 'AUS', 'Queensland', 109914),\n",
       " (143, 'Cairns', 'AUS', 'Queensland', 92273),\n",
       " (144, 'Baku', 'AZE', 'Baki', 1787800),\n",
       " (145, 'Gäncä', 'AZE', 'Gäncä', 299300),\n",
       " (146, 'Sumqayit', 'AZE', 'Sumqayit', 283000),\n",
       " (147, 'Mingäçevir', 'AZE', 'Mingäçevir', 93900),\n",
       " (148, 'Nassau', 'BHS', 'New Providence', 172000),\n",
       " (149, 'al-Manama', 'BHR', 'al-Manama', 148000),\n",
       " (150, 'Dhaka', 'BGD', 'Dhaka', 3612850),\n",
       " (151, 'Chittagong', 'BGD', 'Chittagong', 1392860),\n",
       " (152, 'Khulna', 'BGD', 'Khulna', 663340),\n",
       " (153, 'Rajshahi', 'BGD', 'Rajshahi', 294056),\n",
       " (154, 'Narayanganj', 'BGD', 'Dhaka', 202134),\n",
       " (155, 'Rangpur', 'BGD', 'Rajshahi', 191398),\n",
       " (156, 'Mymensingh', 'BGD', 'Dhaka', 188713),\n",
       " (157, 'Barisal', 'BGD', 'Barisal', 170232),\n",
       " (158, 'Tungi', 'BGD', 'Dhaka', 168702),\n",
       " (159, 'Jessore', 'BGD', 'Khulna', 139710),\n",
       " (160, 'Comilla', 'BGD', 'Chittagong', 135313),\n",
       " (161, 'Nawabganj', 'BGD', 'Rajshahi', 130577),\n",
       " (162, 'Dinajpur', 'BGD', 'Rajshahi', 127815),\n",
       " (163, 'Bogra', 'BGD', 'Rajshahi', 120170),\n",
       " (164, 'Sylhet', 'BGD', 'Sylhet', 117396),\n",
       " (165, 'Brahmanbaria', 'BGD', 'Chittagong', 109032),\n",
       " (166, 'Tangail', 'BGD', 'Dhaka', 106004),\n",
       " (167, 'Jamalpur', 'BGD', 'Dhaka', 103556),\n",
       " (168, 'Pabna', 'BGD', 'Rajshahi', 103277),\n",
       " (169, 'Naogaon', 'BGD', 'Rajshahi', 101266),\n",
       " (170, 'Sirajganj', 'BGD', 'Rajshahi', 99669),\n",
       " (171, 'Narsinghdi', 'BGD', 'Dhaka', 98342),\n",
       " (172, 'Saidpur', 'BGD', 'Rajshahi', 96777),\n",
       " (173, 'Gazipur', 'BGD', 'Dhaka', 96717),\n",
       " (174, 'Bridgetown', 'BRB', 'St Michael', 6070),\n",
       " (175, 'Antwerpen', 'BEL', 'Antwerpen', 446525),\n",
       " (176, 'Gent', 'BEL', 'East Flanderi', 224180),\n",
       " (177, 'Charleroi', 'BEL', 'Hainaut', 200827),\n",
       " (178, 'Liège', 'BEL', 'Liège', 185639),\n",
       " (179, 'Bruxelles [Brussel]', 'BEL', 'Bryssel', 133859),\n",
       " (180, 'Brugge', 'BEL', 'West Flanderi', 116246),\n",
       " (181, 'Schaerbeek', 'BEL', 'Bryssel', 105692),\n",
       " (182, 'Namur', 'BEL', 'Namur', 105419),\n",
       " (183, 'Mons', 'BEL', 'Hainaut', 90935),\n",
       " (184, 'Belize City', 'BLZ', 'Belize City', 55810),\n",
       " (185, 'Belmopan', 'BLZ', 'Cayo', 7105),\n",
       " (186, 'Cotonou', 'BEN', 'Atlantique', 536827),\n",
       " (187, 'Porto-Novo', 'BEN', 'Ouémé', 194000),\n",
       " (188, 'Djougou', 'BEN', 'Atacora', 134099),\n",
       " (189, 'Parakou', 'BEN', 'Borgou', 103577),\n",
       " (190, 'Saint George', 'BMU', 'Saint George´s', 1800),\n",
       " (191, 'Hamilton', 'BMU', 'Hamilton', 1200),\n",
       " (192, 'Thimphu', 'BTN', 'Thimphu', 22000),\n",
       " (193, 'Santa Cruz de la Sierra', 'BOL', 'Santa Cruz', 935361),\n",
       " (194, 'La Paz', 'BOL', 'La Paz', 758141),\n",
       " (195, 'El Alto', 'BOL', 'La Paz', 534466),\n",
       " (196, 'Cochabamba', 'BOL', 'Cochabamba', 482800),\n",
       " (197, 'Oruro', 'BOL', 'Oruro', 223553),\n",
       " (198, 'Sucre', 'BOL', 'Chuquisaca', 178426),\n",
       " (199, 'Potosí', 'BOL', 'Potosí', 140642),\n",
       " (200, 'Tarija', 'BOL', 'Tarija', 125255),\n",
       " (201, 'Sarajevo', 'BIH', 'Federaatio', 360000),\n",
       " (202, 'Banja Luka', 'BIH', 'Republika Srpska', 143079),\n",
       " (203, 'Zenica', 'BIH', 'Federaatio', 96027),\n",
       " (204, 'Gaborone', 'BWA', 'Gaborone', 213017),\n",
       " (205, 'Francistown', 'BWA', 'Francistown', 101805),\n",
       " (206, 'São Paulo', 'BRA', 'São Paulo', 9968485),\n",
       " (207, 'Rio de Janeiro', 'BRA', 'Rio de Janeiro', 5598953),\n",
       " (208, 'Salvador', 'BRA', 'Bahia', 2302832),\n",
       " (209, 'Belo Horizonte', 'BRA', 'Minas Gerais', 2139125),\n",
       " (210, 'Fortaleza', 'BRA', 'Ceará', 2097757),\n",
       " (211, 'Brasília', 'BRA', 'Distrito Federal', 1969868),\n",
       " (212, 'Curitiba', 'BRA', 'Paraná', 1584232),\n",
       " (213, 'Recife', 'BRA', 'Pernambuco', 1378087),\n",
       " (214, 'Porto Alegre', 'BRA', 'Rio Grande do Sul', 1314032),\n",
       " (215, 'Manaus', 'BRA', 'Amazonas', 1255049),\n",
       " (216, 'Belém', 'BRA', 'Pará', 1186926),\n",
       " (217, 'Guarulhos', 'BRA', 'São Paulo', 1095874),\n",
       " (218, 'Goiânia', 'BRA', 'Goiás', 1056330),\n",
       " (219, 'Campinas', 'BRA', 'São Paulo', 950043),\n",
       " (220, 'São Gonçalo', 'BRA', 'Rio de Janeiro', 869254),\n",
       " (221, 'Nova Iguaçu', 'BRA', 'Rio de Janeiro', 862225),\n",
       " (222, 'São Luís', 'BRA', 'Maranhão', 837588),\n",
       " (223, 'Maceió', 'BRA', 'Alagoas', 786288),\n",
       " (224, 'Duque de Caxias', 'BRA', 'Rio de Janeiro', 746758),\n",
       " (225, 'São Bernardo do Campo', 'BRA', 'São Paulo', 723132),\n",
       " (226, 'Teresina', 'BRA', 'Piauí', 691942),\n",
       " (227, 'Natal', 'BRA', 'Rio Grande do Norte', 688955),\n",
       " (228, 'Osasco', 'BRA', 'São Paulo', 659604),\n",
       " (229, 'Campo Grande', 'BRA', 'Mato Grosso do Sul', 649593),\n",
       " (230, 'Santo André', 'BRA', 'São Paulo', 630073),\n",
       " (231, 'João Pessoa', 'BRA', 'Paraíba', 584029),\n",
       " (232, 'Jaboatão dos Guararapes', 'BRA', 'Pernambuco', 558680),\n",
       " (233, 'Contagem', 'BRA', 'Minas Gerais', 520801),\n",
       " (234, 'São José dos Campos', 'BRA', 'São Paulo', 515553),\n",
       " (235, 'Uberlândia', 'BRA', 'Minas Gerais', 487222),\n",
       " (236, 'Feira de Santana', 'BRA', 'Bahia', 479992),\n",
       " (237, 'Ribeirão Preto', 'BRA', 'São Paulo', 473276),\n",
       " (238, 'Sorocaba', 'BRA', 'São Paulo', 466823),\n",
       " (239, 'Niterói', 'BRA', 'Rio de Janeiro', 459884),\n",
       " (240, 'Cuiabá', 'BRA', 'Mato Grosso', 453813),\n",
       " (241, 'Juiz de Fora', 'BRA', 'Minas Gerais', 450288),\n",
       " (242, 'Aracaju', 'BRA', 'Sergipe', 445555),\n",
       " (243, 'São João de Meriti', 'BRA', 'Rio de Janeiro', 440052),\n",
       " (244, 'Londrina', 'BRA', 'Paraná', 432257),\n",
       " (245, 'Joinville', 'BRA', 'Santa Catarina', 428011),\n",
       " (246, 'Belford Roxo', 'BRA', 'Rio de Janeiro', 425194),\n",
       " (247, 'Santos', 'BRA', 'São Paulo', 408748),\n",
       " (248, 'Ananindeua', 'BRA', 'Pará', 400940),\n",
       " (249, 'Campos dos Goytacazes', 'BRA', 'Rio de Janeiro', 398418),\n",
       " (250, 'Mauá', 'BRA', 'São Paulo', 375055),\n",
       " (251, 'Carapicuíba', 'BRA', 'São Paulo', 357552),\n",
       " (252, 'Olinda', 'BRA', 'Pernambuco', 354732),\n",
       " (253, 'Campina Grande', 'BRA', 'Paraíba', 352497),\n",
       " (254, 'São José do Rio Preto', 'BRA', 'São Paulo', 351944),\n",
       " (255, 'Caxias do Sul', 'BRA', 'Rio Grande do Sul', 349581),\n",
       " (256, 'Moji das Cruzes', 'BRA', 'São Paulo', 339194),\n",
       " (257, 'Diadema', 'BRA', 'São Paulo', 335078),\n",
       " (258, 'Aparecida de Goiânia', 'BRA', 'Goiás', 324662),\n",
       " (259, 'Piracicaba', 'BRA', 'São Paulo', 319104),\n",
       " (260, 'Cariacica', 'BRA', 'Espírito Santo', 319033),\n",
       " (261, 'Vila Velha', 'BRA', 'Espírito Santo', 318758),\n",
       " (262, 'Pelotas', 'BRA', 'Rio Grande do Sul', 315415),\n",
       " (263, 'Bauru', 'BRA', 'São Paulo', 313670),\n",
       " (264, 'Porto Velho', 'BRA', 'Rondônia', 309750),\n",
       " (265, 'Serra', 'BRA', 'Espírito Santo', 302666),\n",
       " (266, 'Betim', 'BRA', 'Minas Gerais', 302108),\n",
       " (267, 'Jundíaí', 'BRA', 'São Paulo', 296127),\n",
       " (268, 'Canoas', 'BRA', 'Rio Grande do Sul', 294125),\n",
       " (269, 'Franca', 'BRA', 'São Paulo', 290139),\n",
       " (270, 'São Vicente', 'BRA', 'São Paulo', 286848),\n",
       " (271, 'Maringá', 'BRA', 'Paraná', 286461),\n",
       " (272, 'Montes Claros', 'BRA', 'Minas Gerais', 286058),\n",
       " (273, 'Anápolis', 'BRA', 'Goiás', 282197),\n",
       " (274, 'Florianópolis', 'BRA', 'Santa Catarina', 281928),\n",
       " (275, 'Petrópolis', 'BRA', 'Rio de Janeiro', 279183),\n",
       " (276, 'Itaquaquecetuba', 'BRA', 'São Paulo', 270874),\n",
       " (277, 'Vitória', 'BRA', 'Espírito Santo', 270626),\n",
       " (278, 'Ponta Grossa', 'BRA', 'Paraná', 268013),\n",
       " (279, 'Rio Branco', 'BRA', 'Acre', 259537),\n",
       " (280, 'Foz do Iguaçu', 'BRA', 'Paraná', 259425),\n",
       " (281, 'Macapá', 'BRA', 'Amapá', 256033),\n",
       " (282, 'Ilhéus', 'BRA', 'Bahia', 254970),\n",
       " (283, 'Vitória da Conquista', 'BRA', 'Bahia', 253587),\n",
       " (284, 'Uberaba', 'BRA', 'Minas Gerais', 249225),\n",
       " (285, 'Paulista', 'BRA', 'Pernambuco', 248473),\n",
       " (286, 'Limeira', 'BRA', 'São Paulo', 245497),\n",
       " (287, 'Blumenau', 'BRA', 'Santa Catarina', 244379),\n",
       " (288, 'Caruaru', 'BRA', 'Pernambuco', 244247),\n",
       " (289, 'Santarém', 'BRA', 'Pará', 241771),\n",
       " (290, 'Volta Redonda', 'BRA', 'Rio de Janeiro', 240315),\n",
       " (291, 'Novo Hamburgo', 'BRA', 'Rio Grande do Sul', 239940),\n",
       " (292, 'Caucaia', 'BRA', 'Ceará', 238738),\n",
       " (293, 'Santa Maria', 'BRA', 'Rio Grande do Sul', 238473),\n",
       " (294, 'Cascavel', 'BRA', 'Paraná', 237510),\n",
       " (295, 'Guarujá', 'BRA', 'São Paulo', 237206),\n",
       " (296, 'Ribeirão das Neves', 'BRA', 'Minas Gerais', 232685),\n",
       " (297, 'Governador Valadares', 'BRA', 'Minas Gerais', 231724),\n",
       " (298, 'Taubaté', 'BRA', 'São Paulo', 229130),\n",
       " (299, 'Imperatriz', 'BRA', 'Maranhão', 224564),\n",
       " (300, 'Gravataí', 'BRA', 'Rio Grande do Sul', 223011),\n",
       " (301, 'Embu', 'BRA', 'São Paulo', 222223),\n",
       " (302, 'Mossoró', 'BRA', 'Rio Grande do Norte', 214901),\n",
       " (303, 'Várzea Grande', 'BRA', 'Mato Grosso', 214435),\n",
       " (304, 'Petrolina', 'BRA', 'Pernambuco', 210540),\n",
       " (305, 'Barueri', 'BRA', 'São Paulo', 208426),\n",
       " (306, 'Viamão', 'BRA', 'Rio Grande do Sul', 207557),\n",
       " (307, 'Ipatinga', 'BRA', 'Minas Gerais', 206338),\n",
       " (308, 'Juazeiro', 'BRA', 'Bahia', 201073),\n",
       " (309, 'Juazeiro do Norte', 'BRA', 'Ceará', 199636),\n",
       " (310, 'Taboão da Serra', 'BRA', 'São Paulo', 197550),\n",
       " (311, 'São José dos Pinhais', 'BRA', 'Paraná', 196884),\n",
       " (312, 'Magé', 'BRA', 'Rio de Janeiro', 196147),\n",
       " (313, 'Suzano', 'BRA', 'São Paulo', 195434),\n",
       " (314, 'São Leopoldo', 'BRA', 'Rio Grande do Sul', 189258),\n",
       " (315, 'Marília', 'BRA', 'São Paulo', 188691),\n",
       " (316, 'São Carlos', 'BRA', 'São Paulo', 187122),\n",
       " (317, 'Sumaré', 'BRA', 'São Paulo', 186205),\n",
       " (318, 'Presidente Prudente', 'BRA', 'São Paulo', 185340),\n",
       " (319, 'Divinópolis', 'BRA', 'Minas Gerais', 185047),\n",
       " (320, 'Sete Lagoas', 'BRA', 'Minas Gerais', 182984),\n",
       " (321, 'Rio Grande', 'BRA', 'Rio Grande do Sul', 182222),\n",
       " (322, 'Itabuna', 'BRA', 'Bahia', 182148),\n",
       " (323, 'Jequié', 'BRA', 'Bahia', 179128),\n",
       " (324, 'Arapiraca', 'BRA', 'Alagoas', 178988),\n",
       " (325, 'Colombo', 'BRA', 'Paraná', 177764),\n",
       " (326, 'Americana', 'BRA', 'São Paulo', 177409),\n",
       " (327, 'Alvorada', 'BRA', 'Rio Grande do Sul', 175574),\n",
       " (328, 'Araraquara', 'BRA', 'São Paulo', 174381),\n",
       " (329, 'Itaboraí', 'BRA', 'Rio de Janeiro', 173977),\n",
       " (330, 'Santa Bárbara d´Oeste', 'BRA', 'São Paulo', 171657),\n",
       " (331, 'Nova Friburgo', 'BRA', 'Rio de Janeiro', 170697),\n",
       " (332, 'Jacareí', 'BRA', 'São Paulo', 170356),\n",
       " (333, 'Araçatuba', 'BRA', 'São Paulo', 169303),\n",
       " (334, 'Barra Mansa', 'BRA', 'Rio de Janeiro', 168953),\n",
       " (335, 'Praia Grande', 'BRA', 'São Paulo', 168434),\n",
       " (336, 'Marabá', 'BRA', 'Pará', 167795),\n",
       " (337, 'Criciúma', 'BRA', 'Santa Catarina', 167661),\n",
       " (338, 'Boa Vista', 'BRA', 'Roraima', 167185),\n",
       " (339, 'Passo Fundo', 'BRA', 'Rio Grande do Sul', 166343),\n",
       " (340, 'Dourados', 'BRA', 'Mato Grosso do Sul', 164716),\n",
       " (341, 'Santa Luzia', 'BRA', 'Minas Gerais', 164704),\n",
       " (342, 'Rio Claro', 'BRA', 'São Paulo', 163551),\n",
       " (343, 'Maracanaú', 'BRA', 'Ceará', 162022),\n",
       " (344, 'Guarapuava', 'BRA', 'Paraná', 160510),\n",
       " (345, 'Rondonópolis', 'BRA', 'Mato Grosso', 155115),\n",
       " (346, 'São José', 'BRA', 'Santa Catarina', 155105),\n",
       " (347, 'Cachoeiro de Itapemirim', 'BRA', 'Espírito Santo', 155024),\n",
       " (348, 'Nilópolis', 'BRA', 'Rio de Janeiro', 153383),\n",
       " (349, 'Itapevi', 'BRA', 'São Paulo', 150664),\n",
       " (350, 'Cabo de Santo Agostinho', 'BRA', 'Pernambuco', 149964),\n",
       " (351, 'Camaçari', 'BRA', 'Bahia', 149146),\n",
       " (352, 'Sobral', 'BRA', 'Ceará', 146005),\n",
       " (353, 'Itajaí', 'BRA', 'Santa Catarina', 145197),\n",
       " (354, 'Chapecó', 'BRA', 'Santa Catarina', 144158),\n",
       " (355, 'Cotia', 'BRA', 'São Paulo', 140042),\n",
       " (356, 'Lages', 'BRA', 'Santa Catarina', 139570),\n",
       " (357, 'Ferraz de Vasconcelos', 'BRA', 'São Paulo', 139283),\n",
       " (358, 'Indaiatuba', 'BRA', 'São Paulo', 135968),\n",
       " (359, 'Hortolândia', 'BRA', 'São Paulo', 135755),\n",
       " (360, 'Caxias', 'BRA', 'Maranhão', 133980),\n",
       " (361, 'São Caetano do Sul', 'BRA', 'São Paulo', 133321),\n",
       " (362, 'Itu', 'BRA', 'São Paulo', 132736),\n",
       " (363, 'Nossa Senhora do Socorro', 'BRA', 'Sergipe', 131351),\n",
       " (364, 'Parnaíba', 'BRA', 'Piauí', 129756),\n",
       " (365, 'Poços de Caldas', 'BRA', 'Minas Gerais', 129683),\n",
       " (366, 'Teresópolis', 'BRA', 'Rio de Janeiro', 128079),\n",
       " (367, 'Barreiras', 'BRA', 'Bahia', 127801),\n",
       " (368, 'Castanhal', 'BRA', 'Pará', 127634),\n",
       " (369, 'Alagoinhas', 'BRA', 'Bahia', 126820),\n",
       " (370, 'Itapecerica da Serra', 'BRA', 'São Paulo', 126672),\n",
       " (371, 'Uruguaiana', 'BRA', 'Rio Grande do Sul', 126305),\n",
       " (372, 'Paranaguá', 'BRA', 'Paraná', 126076),\n",
       " (373, 'Ibirité', 'BRA', 'Minas Gerais', 125982),\n",
       " (374, 'Timon', 'BRA', 'Maranhão', 125812),\n",
       " (375, 'Luziânia', 'BRA', 'Goiás', 125597),\n",
       " (376, 'Macaé', 'BRA', 'Rio de Janeiro', 125597),\n",
       " (377, 'Teófilo Otoni', 'BRA', 'Minas Gerais', 124489),\n",
       " (378, 'Moji-Guaçu', 'BRA', 'São Paulo', 123782),\n",
       " (379, 'Palmas', 'BRA', 'Tocantins', 121919),\n",
       " (380, 'Pindamonhangaba', 'BRA', 'São Paulo', 121904),\n",
       " (381, 'Francisco Morato', 'BRA', 'São Paulo', 121197),\n",
       " (382, 'Bagé', 'BRA', 'Rio Grande do Sul', 120793),\n",
       " (383, 'Sapucaia do Sul', 'BRA', 'Rio Grande do Sul', 120217),\n",
       " (384, 'Cabo Frio', 'BRA', 'Rio de Janeiro', 119503),\n",
       " (385, 'Itapetininga', 'BRA', 'São Paulo', 119391),\n",
       " (386, 'Patos de Minas', 'BRA', 'Minas Gerais', 119262),\n",
       " (387, 'Camaragibe', 'BRA', 'Pernambuco', 118968),\n",
       " (388, 'Bragança Paulista', 'BRA', 'São Paulo', 116929),\n",
       " (389, 'Queimados', 'BRA', 'Rio de Janeiro', 115020),\n",
       " (390, 'Araguaína', 'BRA', 'Tocantins', 114948),\n",
       " (391, 'Garanhuns', 'BRA', 'Pernambuco', 114603),\n",
       " (392, 'Vitória de Santo Antão', 'BRA', 'Pernambuco', 113595),\n",
       " (393, 'Santa Rita', 'BRA', 'Paraíba', 113135),\n",
       " (394, 'Barbacena', 'BRA', 'Minas Gerais', 113079),\n",
       " (395, 'Abaetetuba', 'BRA', 'Pará', 111258),\n",
       " (396, 'Jaú', 'BRA', 'São Paulo', 109965),\n",
       " (397, 'Lauro de Freitas', 'BRA', 'Bahia', 109236),\n",
       " (398, 'Franco da Rocha', 'BRA', 'São Paulo', 108964),\n",
       " (399, 'Teixeira de Freitas', 'BRA', 'Bahia', 108441),\n",
       " (400, 'Varginha', 'BRA', 'Minas Gerais', 108314),\n",
       " (401, 'Ribeirão Pires', 'BRA', 'São Paulo', 108121),\n",
       " (402, 'Sabará', 'BRA', 'Minas Gerais', 107781),\n",
       " (403, 'Catanduva', 'BRA', 'São Paulo', 107761),\n",
       " (404, 'Rio Verde', 'BRA', 'Goiás', 107755),\n",
       " (405, 'Botucatu', 'BRA', 'São Paulo', 107663),\n",
       " (406, 'Colatina', 'BRA', 'Espírito Santo', 107354),\n",
       " (407, 'Santa Cruz do Sul', 'BRA', 'Rio Grande do Sul', 106734),\n",
       " (408, 'Linhares', 'BRA', 'Espírito Santo', 106278),\n",
       " (409, 'Apucarana', 'BRA', 'Paraná', 105114),\n",
       " (410, 'Barretos', 'BRA', 'São Paulo', 104156),\n",
       " (411, 'Guaratinguetá', 'BRA', 'São Paulo', 103433),\n",
       " (412, 'Cachoeirinha', 'BRA', 'Rio Grande do Sul', 103240),\n",
       " (413, 'Codó', 'BRA', 'Maranhão', 103153),\n",
       " (414, 'Jaraguá do Sul', 'BRA', 'Santa Catarina', 102580),\n",
       " (415, 'Cubatão', 'BRA', 'São Paulo', 102372),\n",
       " (416, 'Itabira', 'BRA', 'Minas Gerais', 102217),\n",
       " (417, 'Itaituba', 'BRA', 'Pará', 101320),\n",
       " (418, 'Araras', 'BRA', 'São Paulo', 101046),\n",
       " (419, 'Resende', 'BRA', 'Rio de Janeiro', 100627),\n",
       " (420, 'Atibaia', 'BRA', 'São Paulo', 100356),\n",
       " (421, 'Pouso Alegre', 'BRA', 'Minas Gerais', 100028),\n",
       " (422, 'Toledo', 'BRA', 'Paraná', 99387),\n",
       " (423, 'Crato', 'BRA', 'Ceará', 98965),\n",
       " (424, 'Passos', 'BRA', 'Minas Gerais', 98570),\n",
       " (425, 'Araguari', 'BRA', 'Minas Gerais', 98399),\n",
       " (426, 'São José de Ribamar', 'BRA', 'Maranhão', 98318),\n",
       " (427, 'Pinhais', 'BRA', 'Paraná', 98198),\n",
       " (428, 'Sertãozinho', 'BRA', 'São Paulo', 98140),\n",
       " (429, 'Conselheiro Lafaiete', 'BRA', 'Minas Gerais', 97507),\n",
       " (430, 'Paulo Afonso', 'BRA', 'Bahia', 97291),\n",
       " (431, 'Angra dos Reis', 'BRA', 'Rio de Janeiro', 96864),\n",
       " (432, 'Eunápolis', 'BRA', 'Bahia', 96610),\n",
       " (433, 'Salto', 'BRA', 'São Paulo', 96348),\n",
       " (434, 'Ourinhos', 'BRA', 'São Paulo', 96291),\n",
       " (435, 'Parnamirim', 'BRA', 'Rio Grande do Norte', 96210),\n",
       " (436, 'Jacobina', 'BRA', 'Bahia', 96131),\n",
       " (437, 'Coronel Fabriciano', 'BRA', 'Minas Gerais', 95933),\n",
       " (438, 'Birigui', 'BRA', 'São Paulo', 94685),\n",
       " (439, 'Tatuí', 'BRA', 'São Paulo', 93897),\n",
       " (440, 'Ji-Paraná', 'BRA', 'Rondônia', 93346),\n",
       " (441, 'Bacabal', 'BRA', 'Maranhão', 93121),\n",
       " (442, 'Cametá', 'BRA', 'Pará', 92779),\n",
       " (443, 'Guaíba', 'BRA', 'Rio Grande do Sul', 92224),\n",
       " (444, 'São Lourenço da Mata', 'BRA', 'Pernambuco', 91999),\n",
       " (445, 'Santana do Livramento', 'BRA', 'Rio Grande do Sul', 91779),\n",
       " (446, 'Votorantim', 'BRA', 'São Paulo', 91777),\n",
       " (447, 'Campo Largo', 'BRA', 'Paraná', 91203),\n",
       " (448, 'Patos', 'BRA', 'Paraíba', 90519),\n",
       " (449, 'Ituiutaba', 'BRA', 'Minas Gerais', 90507),\n",
       " (450, 'Corumbá', 'BRA', 'Mato Grosso do Sul', 90111),\n",
       " (451, 'Palhoça', 'BRA', 'Santa Catarina', 89465),\n",
       " (452, 'Barra do Piraí', 'BRA', 'Rio de Janeiro', 89388),\n",
       " (453, 'Bento Gonçalves', 'BRA', 'Rio Grande do Sul', 89254),\n",
       " (454, 'Poá', 'BRA', 'São Paulo', 89236),\n",
       " (455, 'Águas Lindas de Goiás', 'BRA', 'Goiás', 89200),\n",
       " (456, 'London', 'GBR', 'England', 7285000),\n",
       " (457, 'Birmingham', 'GBR', 'England', 1013000),\n",
       " (458, 'Glasgow', 'GBR', 'Scotland', 619680),\n",
       " (459, 'Liverpool', 'GBR', 'England', 461000),\n",
       " (460, 'Edinburgh', 'GBR', 'Scotland', 450180),\n",
       " (461, 'Sheffield', 'GBR', 'England', 431607),\n",
       " (462, 'Manchester', 'GBR', 'England', 430000),\n",
       " (463, 'Leeds', 'GBR', 'England', 424194),\n",
       " (464, 'Bristol', 'GBR', 'England', 402000),\n",
       " (465, 'Cardiff', 'GBR', 'Wales', 321000),\n",
       " (466, 'Coventry', 'GBR', 'England', 304000),\n",
       " (467, 'Leicester', 'GBR', 'England', 294000),\n",
       " (468, 'Bradford', 'GBR', 'England', 289376),\n",
       " (469, 'Belfast', 'GBR', 'North Ireland', 287500),\n",
       " (470, 'Nottingham', 'GBR', 'England', 287000),\n",
       " (471, 'Kingston upon Hull', 'GBR', 'England', 262000),\n",
       " (472, 'Plymouth', 'GBR', 'England', 253000),\n",
       " (473, 'Stoke-on-Trent', 'GBR', 'England', 252000),\n",
       " (474, 'Wolverhampton', 'GBR', 'England', 242000),\n",
       " (475, 'Derby', 'GBR', 'England', 236000),\n",
       " (476, 'Swansea', 'GBR', 'Wales', 230000),\n",
       " (477, 'Southampton', 'GBR', 'England', 216000),\n",
       " (478, 'Aberdeen', 'GBR', 'Scotland', 213070),\n",
       " (479, 'Northampton', 'GBR', 'England', 196000),\n",
       " (480, 'Dudley', 'GBR', 'England', 192171),\n",
       " (481, 'Portsmouth', 'GBR', 'England', 190000),\n",
       " (482, 'Newcastle upon Tyne', 'GBR', 'England', 189150),\n",
       " (483, 'Sunderland', 'GBR', 'England', 183310),\n",
       " (484, 'Luton', 'GBR', 'England', 183000),\n",
       " (485, 'Swindon', 'GBR', 'England', 180000),\n",
       " (486, 'Southend-on-Sea', 'GBR', 'England', 176000),\n",
       " (487, 'Walsall', 'GBR', 'England', 174739),\n",
       " (488, 'Bournemouth', 'GBR', 'England', 162000),\n",
       " (489, 'Peterborough', 'GBR', 'England', 156000),\n",
       " (490, 'Brighton', 'GBR', 'England', 156124),\n",
       " (491, 'Blackpool', 'GBR', 'England', 151000),\n",
       " (492, 'Dundee', 'GBR', 'Scotland', 146690),\n",
       " (493, 'West Bromwich', 'GBR', 'England', 146386),\n",
       " (494, 'Reading', 'GBR', 'England', 148000),\n",
       " (495, 'Oldbury/Smethwick (Warley)', 'GBR', 'England', 145542),\n",
       " (496, 'Middlesbrough', 'GBR', 'England', 145000),\n",
       " (497, 'Huddersfield', 'GBR', 'England', 143726),\n",
       " (498, 'Oxford', 'GBR', 'England', 144000),\n",
       " (499, 'Poole', 'GBR', 'England', 141000),\n",
       " (500, 'Bolton', 'GBR', 'England', 139020),\n",
       " (501, 'Blackburn', 'GBR', 'England', 140000),\n",
       " (502, 'Newport', 'GBR', 'Wales', 139000),\n",
       " (503, 'Preston', 'GBR', 'England', 135000),\n",
       " (504, 'Stockport', 'GBR', 'England', 132813),\n",
       " (505, 'Norwich', 'GBR', 'England', 124000),\n",
       " (506, 'Rotherham', 'GBR', 'England', 121380),\n",
       " (507, 'Cambridge', 'GBR', 'England', 121000),\n",
       " (508, 'Watford', 'GBR', 'England', 113080),\n",
       " (509, 'Ipswich', 'GBR', 'England', 114000),\n",
       " (510, 'Slough', 'GBR', 'England', 112000),\n",
       " (511, 'Exeter', 'GBR', 'England', 111000),\n",
       " (512, 'Cheltenham', 'GBR', 'England', 106000),\n",
       " (513, 'Gloucester', 'GBR', 'England', 107000),\n",
       " (514, 'Saint Helens', 'GBR', 'England', 106293),\n",
       " (515, 'Sutton Coldfield', 'GBR', 'England', 106001),\n",
       " (516, 'York', 'GBR', 'England', 104425),\n",
       " (517, 'Oldham', 'GBR', 'England', 103931),\n",
       " (518, 'Basildon', 'GBR', 'England', 100924),\n",
       " (519, 'Worthing', 'GBR', 'England', 100000),\n",
       " (520, 'Chelmsford', 'GBR', 'England', 97451),\n",
       " (521, 'Colchester', 'GBR', 'England', 96063),\n",
       " (522, 'Crawley', 'GBR', 'England', 97000),\n",
       " (523, 'Gillingham', 'GBR', 'England', 92000),\n",
       " (524, 'Solihull', 'GBR', 'England', 94531),\n",
       " (525, 'Rochdale', 'GBR', 'England', 94313),\n",
       " (526, 'Birkenhead', 'GBR', 'England', 93087),\n",
       " (527, 'Worcester', 'GBR', 'England', 95000),\n",
       " (528, 'Hartlepool', 'GBR', 'England', 92000),\n",
       " (529, 'Halifax', 'GBR', 'England', 91069),\n",
       " (530, 'Woking/Byfleet', 'GBR', 'England', 92000),\n",
       " (531, 'Southport', 'GBR', 'England', 90959),\n",
       " (532, 'Maidstone', 'GBR', 'England', 90878),\n",
       " (533, 'Eastbourne', 'GBR', 'England', 90000),\n",
       " (534, 'Grimsby', 'GBR', 'England', 89000),\n",
       " (535, 'Saint Helier', 'GBR', 'Jersey', 27523),\n",
       " (536, 'Douglas', 'GBR', '–', 23487),\n",
       " (537, 'Road Town', 'VGB', 'Tortola', 8000),\n",
       " (538, 'Bandar Seri Begawan', 'BRN', 'Brunei and Muara', 21484),\n",
       " (539, 'Sofija', 'BGR', 'Grad Sofija', 1122302),\n",
       " (540, 'Plovdiv', 'BGR', 'Plovdiv', 342584),\n",
       " (541, 'Varna', 'BGR', 'Varna', 299801),\n",
       " (542, 'Burgas', 'BGR', 'Burgas', 195255),\n",
       " (543, 'Ruse', 'BGR', 'Ruse', 166467),\n",
       " (544, 'Stara Zagora', 'BGR', 'Haskovo', 147939),\n",
       " (545, 'Pleven', 'BGR', 'Lovec', 121952),\n",
       " (546, 'Sliven', 'BGR', 'Burgas', 105530),\n",
       " (547, 'Dobric', 'BGR', 'Varna', 100399),\n",
       " (548, 'Šumen', 'BGR', 'Varna', 94686),\n",
       " (549, 'Ouagadougou', 'BFA', 'Kadiogo', 824000),\n",
       " (550, 'Bobo-Dioulasso', 'BFA', 'Houet', 300000),\n",
       " (551, 'Koudougou', 'BFA', 'Boulkiemdé', 105000),\n",
       " (552, 'Bujumbura', 'BDI', 'Bujumbura', 300000),\n",
       " (553, 'George Town', 'CYM', 'Grand Cayman', 19600),\n",
       " (554, 'Santiago de Chile', 'CHL', 'Santiago', 4703954),\n",
       " (555, 'Puente Alto', 'CHL', 'Santiago', 386236),\n",
       " (556, 'Viña del Mar', 'CHL', 'Valparaíso', 312493),\n",
       " (557, 'Valparaíso', 'CHL', 'Valparaíso', 293800),\n",
       " (558, 'Talcahuano', 'CHL', 'Bíobío', 277752),\n",
       " (559, 'Antofagasta', 'CHL', 'Antofagasta', 251429),\n",
       " (560, 'San Bernardo', 'CHL', 'Santiago', 241910),\n",
       " (561, 'Temuco', 'CHL', 'La Araucanía', 233041),\n",
       " (562, 'Concepción', 'CHL', 'Bíobío', 217664),\n",
       " (563, 'Rancagua', 'CHL', 'O´Higgins', 212977),\n",
       " (564, 'Arica', 'CHL', 'Tarapacá', 189036),\n",
       " (565, 'Talca', 'CHL', 'Maule', 187557),\n",
       " (566, 'Chillán', 'CHL', 'Bíobío', 178182),\n",
       " (567, 'Iquique', 'CHL', 'Tarapacá', 177892),\n",
       " (568, 'Los Angeles', 'CHL', 'Bíobío', 158215),\n",
       " (569, 'Puerto Montt', 'CHL', 'Los Lagos', 152194),\n",
       " (570, 'Coquimbo', 'CHL', 'Coquimbo', 143353),\n",
       " (571, 'Osorno', 'CHL', 'Los Lagos', 141468),\n",
       " (572, 'La Serena', 'CHL', 'Coquimbo', 137409),\n",
       " (573, 'Calama', 'CHL', 'Antofagasta', 137265),\n",
       " (574, 'Valdivia', 'CHL', 'Los Lagos', 133106),\n",
       " (575, 'Punta Arenas', 'CHL', 'Magallanes', 125631),\n",
       " (576, 'Copiapó', 'CHL', 'Atacama', 120128),\n",
       " (577, 'Quilpué', 'CHL', 'Valparaíso', 118857),\n",
       " (578, 'Curicó', 'CHL', 'Maule', 115766),\n",
       " (579, 'Ovalle', 'CHL', 'Coquimbo', 94854),\n",
       " (580, 'Coronel', 'CHL', 'Bíobío', 93061),\n",
       " (581, 'San Pedro de la Paz', 'CHL', 'Bíobío', 91684),\n",
       " (582, 'Melipilla', 'CHL', 'Santiago', 91056),\n",
       " (583, 'Avarua', 'COK', 'Rarotonga', 11900),\n",
       " (584, 'San José', 'CRI', 'San José', 339131),\n",
       " (585, 'Djibouti', 'DJI', 'Djibouti', 383000),\n",
       " (586, 'Roseau', 'DMA', 'St George', 16243),\n",
       " (587, 'Santo Domingo de Guzmán', 'DOM', 'Distrito Nacional', 1609966),\n",
       " (588, 'Santiago de los Caballeros', 'DOM', 'Santiago', 365463),\n",
       " (589, 'La Romana', 'DOM', 'La Romana', 140204),\n",
       " (590, 'San Pedro de Macorís', 'DOM', 'San Pedro de Macorís', 124735),\n",
       " (591, 'San Francisco de Macorís', 'DOM', 'Duarte', 108485),\n",
       " (592, 'San Felipe de Puerto Plata', 'DOM', 'Puerto Plata', 89423),\n",
       " (593, 'Guayaquil', 'ECU', 'Guayas', 2070040),\n",
       " (594, 'Quito', 'ECU', 'Pichincha', 1573458),\n",
       " (595, 'Cuenca', 'ECU', 'Azuay', 270353),\n",
       " (596, 'Machala', 'ECU', 'El Oro', 210368),\n",
       " (597, 'Santo Domingo de los Colorados', 'ECU', 'Pichincha', 202111),\n",
       " (598, 'Portoviejo', 'ECU', 'Manabí', 176413),\n",
       " (599, 'Ambato', 'ECU', 'Tungurahua', 169612),\n",
       " (600, 'Manta', 'ECU', 'Manabí', 164739),\n",
       " (601, 'Duran [Eloy Alfaro]', 'ECU', 'Guayas', 152514),\n",
       " (602, 'Ibarra', 'ECU', 'Imbabura', 130643),\n",
       " (603, 'Quevedo', 'ECU', 'Los Ríos', 129631),\n",
       " (604, 'Milagro', 'ECU', 'Guayas', 124177),\n",
       " (605, 'Loja', 'ECU', 'Loja', 123875),\n",
       " (606, 'Ríobamba', 'ECU', 'Chimborazo', 123163),\n",
       " (607, 'Esmeraldas', 'ECU', 'Esmeraldas', 123045),\n",
       " (608, 'Cairo', 'EGY', 'Kairo', 6789479),\n",
       " (609, 'Alexandria', 'EGY', 'Aleksandria', 3328196),\n",
       " (610, 'Giza', 'EGY', 'Giza', 2221868),\n",
       " (611, 'Shubra al-Khayma', 'EGY', 'al-Qalyubiya', 870716),\n",
       " (612, 'Port Said', 'EGY', 'Port Said', 469533),\n",
       " (613, 'Suez', 'EGY', 'Suez', 417610),\n",
       " (614, 'al-Mahallat al-Kubra', 'EGY', 'al-Gharbiya', 395402),\n",
       " (615, 'Tanta', 'EGY', 'al-Gharbiya', 371010),\n",
       " (616, 'al-Mansura', 'EGY', 'al-Daqahliya', 369621),\n",
       " (617, 'Luxor', 'EGY', 'Luxor', 360503),\n",
       " (618, 'Asyut', 'EGY', 'Asyut', 343498),\n",
       " (619, 'Bahtim', 'EGY', 'al-Qalyubiya', 275807),\n",
       " (620, 'Zagazig', 'EGY', 'al-Sharqiya', 267351),\n",
       " (621, 'al-Faiyum', 'EGY', 'al-Faiyum', 260964),\n",
       " (622, 'Ismailia', 'EGY', 'Ismailia', 254477),\n",
       " (623, 'Kafr al-Dawwar', 'EGY', 'al-Buhayra', 231978),\n",
       " (624, 'Assuan', 'EGY', 'Assuan', 219017),\n",
       " (625, 'Damanhur', 'EGY', 'al-Buhayra', 212203),\n",
       " (626, 'al-Minya', 'EGY', 'al-Minya', 201360),\n",
       " (627, 'Bani Suwayf', 'EGY', 'Bani Suwayf', 172032),\n",
       " (628, 'Qina', 'EGY', 'Qina', 171275),\n",
       " (629, 'Sawhaj', 'EGY', 'Sawhaj', 170125),\n",
       " (630, 'Shibin al-Kawm', 'EGY', 'al-Minufiya', 159909),\n",
       " (631, 'Bulaq al-Dakrur', 'EGY', 'Giza', 148787),\n",
       " (632, 'Banha', 'EGY', 'al-Qalyubiya', 145792),\n",
       " (633, 'Warraq al-Arab', 'EGY', 'Giza', 127108),\n",
       " (634, 'Kafr al-Shaykh', 'EGY', 'Kafr al-Shaykh', 124819),\n",
       " (635, 'Mallawi', 'EGY', 'al-Minya', 119283),\n",
       " (636, 'Bilbays', 'EGY', 'al-Sharqiya', 113608),\n",
       " (637, 'Mit Ghamr', 'EGY', 'al-Daqahliya', 101801),\n",
       " (638, 'al-Arish', 'EGY', 'Shamal Sina', 100447),\n",
       " (639, 'Talkha', 'EGY', 'al-Daqahliya', 97700),\n",
       " (640, 'Qalyub', 'EGY', 'al-Qalyubiya', 97200),\n",
       " (641, 'Jirja', 'EGY', 'Sawhaj', 95400),\n",
       " (642, 'Idfu', 'EGY', 'Qina', 94200),\n",
       " (643, 'al-Hawamidiya', 'EGY', 'Giza', 91700),\n",
       " (644, 'Disuq', 'EGY', 'Kafr al-Shaykh', 91300),\n",
       " (645, 'San Salvador', 'SLV', 'San Salvador', 415346),\n",
       " (646, 'Santa Ana', 'SLV', 'Santa Ana', 139389),\n",
       " (647, 'Mejicanos', 'SLV', 'San Salvador', 138800),\n",
       " (648, 'Soyapango', 'SLV', 'San Salvador', 129800),\n",
       " (649, 'San Miguel', 'SLV', 'San Miguel', 127696),\n",
       " (650, 'Nueva San Salvador', 'SLV', 'La Libertad', 98400),\n",
       " (651, 'Apopa', 'SLV', 'San Salvador', 88800),\n",
       " (652, 'Asmara', 'ERI', 'Maekel', 431000),\n",
       " (653, 'Madrid', 'ESP', 'Madrid', 2879052),\n",
       " (654, 'Barcelona', 'ESP', 'Katalonia', 1503451),\n",
       " (655, 'Valencia', 'ESP', 'Valencia', 739412),\n",
       " (656, 'Sevilla', 'ESP', 'Andalusia', 701927),\n",
       " (657, 'Zaragoza', 'ESP', 'Aragonia', 603367),\n",
       " (658, 'Málaga', 'ESP', 'Andalusia', 530553),\n",
       " (659, 'Bilbao', 'ESP', 'Baskimaa', 357589),\n",
       " (660, 'Las Palmas de Gran Canaria', 'ESP', 'Canary Islands', 354757),\n",
       " (661, 'Murcia', 'ESP', 'Murcia', 353504),\n",
       " (662, 'Palma de Mallorca', 'ESP', 'Balears', 326993),\n",
       " (663, 'Valladolid', 'ESP', 'Castilla and León', 319998),\n",
       " (664, 'Córdoba', 'ESP', 'Andalusia', 311708),\n",
       " (665, 'Vigo', 'ESP', 'Galicia', 283670),\n",
       " (666, 'Alicante [Alacant]', 'ESP', 'Valencia', 272432),\n",
       " (667, 'Gijón', 'ESP', 'Asturia', 267980),\n",
       " (668, 'L´Hospitalet de Llobregat', 'ESP', 'Katalonia', 247986),\n",
       " (669, 'Granada', 'ESP', 'Andalusia', 244767),\n",
       " (670, 'A Coruña (La Coruña)', 'ESP', 'Galicia', 243402),\n",
       " (671, 'Vitoria-Gasteiz', 'ESP', 'Baskimaa', 217154),\n",
       " (672, 'Santa Cruz de Tenerife', 'ESP', 'Canary Islands', 213050),\n",
       " (673, 'Badalona', 'ESP', 'Katalonia', 209635),\n",
       " (674, 'Oviedo', 'ESP', 'Asturia', 200453),\n",
       " (675, 'Móstoles', 'ESP', 'Madrid', 195351),\n",
       " (676, 'Elche [Elx]', 'ESP', 'Valencia', 193174),\n",
       " (677, 'Sabadell', 'ESP', 'Katalonia', 184859),\n",
       " (678, 'Santander', 'ESP', 'Cantabria', 184165),\n",
       " (679, 'Jerez de la Frontera', 'ESP', 'Andalusia', 182660),\n",
       " (680, 'Pamplona [Iruña]', 'ESP', 'Navarra', 180483),\n",
       " (681, 'Donostia-San Sebastián', 'ESP', 'Baskimaa', 179208),\n",
       " (682, 'Cartagena', 'ESP', 'Murcia', 177709),\n",
       " (683, 'Leganés', 'ESP', 'Madrid', 173163),\n",
       " (684, 'Fuenlabrada', 'ESP', 'Madrid', 171173),\n",
       " (685, 'Almería', 'ESP', 'Andalusia', 169027),\n",
       " (686, 'Terrassa', 'ESP', 'Katalonia', 168695),\n",
       " (687, 'Alcalá de Henares', 'ESP', 'Madrid', 164463),\n",
       " (688, 'Burgos', 'ESP', 'Castilla and León', 162802),\n",
       " (689, 'Salamanca', 'ESP', 'Castilla and León', 158720),\n",
       " (690, 'Albacete', 'ESP', 'Kastilia-La Mancha', 147527),\n",
       " (691, 'Getafe', 'ESP', 'Madrid', 145371),\n",
       " (692, 'Cádiz', 'ESP', 'Andalusia', 142449),\n",
       " (693, 'Alcorcón', 'ESP', 'Madrid', 142048),\n",
       " (694, 'Huelva', 'ESP', 'Andalusia', 140583),\n",
       " (695, 'León', 'ESP', 'Castilla and León', 139809),\n",
       " (696, 'Castellón de la Plana [Castell', 'ESP', 'Valencia', 139712),\n",
       " (697, 'Badajoz', 'ESP', 'Extremadura', 136613),\n",
       " (698, '[San Cristóbal de] la Laguna', 'ESP', 'Canary Islands', 127945),\n",
       " (699, 'Logroño', 'ESP', 'La Rioja', 127093),\n",
       " (700, 'Santa Coloma de Gramenet', 'ESP', 'Katalonia', 120802),\n",
       " (701, 'Tarragona', 'ESP', 'Katalonia', 113016),\n",
       " (702, 'Lleida (Lérida)', 'ESP', 'Katalonia', 112207),\n",
       " (703, 'Jaén', 'ESP', 'Andalusia', 109247),\n",
       " (704, 'Ourense (Orense)', 'ESP', 'Galicia', 109120),\n",
       " (705, 'Mataró', 'ESP', 'Katalonia', 104095),\n",
       " (706, 'Algeciras', 'ESP', 'Andalusia', 103106),\n",
       " (707, 'Marbella', 'ESP', 'Andalusia', 101144),\n",
       " (708, 'Barakaldo', 'ESP', 'Baskimaa', 98212),\n",
       " (709, 'Dos Hermanas', 'ESP', 'Andalusia', 94591),\n",
       " (710, 'Santiago de Compostela', 'ESP', 'Galicia', 93745),\n",
       " (711, 'Torrejón de Ardoz', 'ESP', 'Madrid', 92262),\n",
       " (712, 'Cape Town', 'ZAF', 'Western Cape', 2352121),\n",
       " (713, 'Soweto', 'ZAF', 'Gauteng', 904165),\n",
       " (714, 'Johannesburg', 'ZAF', 'Gauteng', 756653),\n",
       " (715, 'Port Elizabeth', 'ZAF', 'Eastern Cape', 752319),\n",
       " (716, 'Pretoria', 'ZAF', 'Gauteng', 658630),\n",
       " (717, 'Inanda', 'ZAF', 'KwaZulu-Natal', 634065),\n",
       " (718, 'Durban', 'ZAF', 'KwaZulu-Natal', 566120),\n",
       " (719, 'Vanderbijlpark', 'ZAF', 'Gauteng', 468931),\n",
       " (720, 'Kempton Park', 'ZAF', 'Gauteng', 442633),\n",
       " (721, 'Alberton', 'ZAF', 'Gauteng', 410102),\n",
       " (722, 'Pinetown', 'ZAF', 'KwaZulu-Natal', 378810),\n",
       " (723, 'Pietermaritzburg', 'ZAF', 'KwaZulu-Natal', 370190),\n",
       " (724, 'Benoni', 'ZAF', 'Gauteng', 365467),\n",
       " (725, 'Randburg', 'ZAF', 'Gauteng', 341288),\n",
       " (726, 'Umlazi', 'ZAF', 'KwaZulu-Natal', 339233),\n",
       " (727, 'Bloemfontein', 'ZAF', 'Free State', 334341),\n",
       " (728, 'Vereeniging', 'ZAF', 'Gauteng', 328535),\n",
       " (729, 'Wonderboom', 'ZAF', 'Gauteng', 283289),\n",
       " (730, 'Roodepoort', 'ZAF', 'Gauteng', 279340),\n",
       " (731, 'Boksburg', 'ZAF', 'Gauteng', 262648),\n",
       " (732, 'Klerksdorp', 'ZAF', 'North West', 261911),\n",
       " (733, 'Soshanguve', 'ZAF', 'Gauteng', 242727),\n",
       " (734, 'Newcastle', 'ZAF', 'KwaZulu-Natal', 222993),\n",
       " (735, 'East London', 'ZAF', 'Eastern Cape', 221047),\n",
       " (736, 'Welkom', 'ZAF', 'Free State', 203296),\n",
       " (737, 'Kimberley', 'ZAF', 'Northern Cape', 197254),\n",
       " (738, 'Uitenhage', 'ZAF', 'Eastern Cape', 192120),\n",
       " (739, 'Chatsworth', 'ZAF', 'KwaZulu-Natal', 189885),\n",
       " (740, 'Mdantsane', 'ZAF', 'Eastern Cape', 182639),\n",
       " (741, 'Krugersdorp', 'ZAF', 'Gauteng', 181503),\n",
       " (742, 'Botshabelo', 'ZAF', 'Free State', 177971),\n",
       " (743, 'Brakpan', 'ZAF', 'Gauteng', 171363),\n",
       " (744, 'Witbank', 'ZAF', 'Mpumalanga', 167183),\n",
       " (745, 'Oberholzer', 'ZAF', 'Gauteng', 164367),\n",
       " (746, 'Germiston', 'ZAF', 'Gauteng', 164252),\n",
       " (747, 'Springs', 'ZAF', 'Gauteng', 162072),\n",
       " (748, 'Westonaria', 'ZAF', 'Gauteng', 159632),\n",
       " (749, 'Randfontein', 'ZAF', 'Gauteng', 120838),\n",
       " (750, 'Paarl', 'ZAF', 'Western Cape', 105768),\n",
       " (751, 'Potchefstroom', 'ZAF', 'North West', 101817),\n",
       " (752, 'Rustenburg', 'ZAF', 'North West', 97008),\n",
       " (753, 'Nigel', 'ZAF', 'Gauteng', 96734),\n",
       " (754, 'George', 'ZAF', 'Western Cape', 93818),\n",
       " (755, 'Ladysmith', 'ZAF', 'KwaZulu-Natal', 89292),\n",
       " (756, 'Addis Abeba', 'ETH', 'Addis Abeba', 2495000),\n",
       " (757, 'Dire Dawa', 'ETH', 'Dire Dawa', 164851),\n",
       " (758, 'Nazret', 'ETH', 'Oromia', 127842),\n",
       " (759, 'Gonder', 'ETH', 'Amhara', 112249),\n",
       " (760, 'Dese', 'ETH', 'Amhara', 97314),\n",
       " (761, 'Mekele', 'ETH', 'Tigray', 96938),\n",
       " (762, 'Bahir Dar', 'ETH', 'Amhara', 96140),\n",
       " (763, 'Stanley', 'FLK', 'East Falkland', 1636),\n",
       " (764, 'Suva', 'FJI', 'Central', 77366),\n",
       " (765, 'Quezon', 'PHL', 'National Capital Reg', 2173831),\n",
       " (766, 'Manila', 'PHL', 'National Capital Reg', 1581082),\n",
       " (767, 'Kalookan', 'PHL', 'National Capital Reg', 1177604),\n",
       " (768, 'Davao', 'PHL', 'Southern Mindanao', 1147116),\n",
       " (769, 'Cebu', 'PHL', 'Central Visayas', 718821),\n",
       " (770, 'Zamboanga', 'PHL', 'Western Mindanao', 601794),\n",
       " (771, 'Pasig', 'PHL', 'National Capital Reg', 505058),\n",
       " (772, 'Valenzuela', 'PHL', 'National Capital Reg', 485433),\n",
       " (773, 'Las Piñas', 'PHL', 'National Capital Reg', 472780),\n",
       " (774, 'Antipolo', 'PHL', 'Southern Tagalog', 470866),\n",
       " (775, 'Taguig', 'PHL', 'National Capital Reg', 467375),\n",
       " (776, 'Cagayan de Oro', 'PHL', 'Northern Mindanao', 461877),\n",
       " (777, 'Parañaque', 'PHL', 'National Capital Reg', 449811),\n",
       " (778, 'Makati', 'PHL', 'National Capital Reg', 444867),\n",
       " (779, 'Bacolod', 'PHL', 'Western Visayas', 429076),\n",
       " (780, 'General Santos', 'PHL', 'Southern Mindanao', 411822),\n",
       " (781, 'Marikina', 'PHL', 'National Capital Reg', 391170),\n",
       " (782, 'Dasmariñas', 'PHL', 'Southern Tagalog', 379520),\n",
       " (783, 'Muntinlupa', 'PHL', 'National Capital Reg', 379310),\n",
       " (784, 'Iloilo', 'PHL', 'Western Visayas', 365820),\n",
       " (785, 'Pasay', 'PHL', 'National Capital Reg', 354908),\n",
       " (786, 'Malabon', 'PHL', 'National Capital Reg', 338855),\n",
       " (787, 'San José del Monte', 'PHL', 'Central Luzon', 315807),\n",
       " (788, 'Bacoor', 'PHL', 'Southern Tagalog', 305699),\n",
       " (789, 'Iligan', 'PHL', 'Central Mindanao', 285061),\n",
       " (790, 'Calamba', 'PHL', 'Southern Tagalog', 281146),\n",
       " (791, 'Mandaluyong', 'PHL', 'National Capital Reg', 278474),\n",
       " (792, 'Butuan', 'PHL', 'Caraga', 267279),\n",
       " (793, 'Angeles', 'PHL', 'Central Luzon', 263971),\n",
       " (794, 'Tarlac', 'PHL', 'Central Luzon', 262481),\n",
       " (795, 'Mandaue', 'PHL', 'Central Visayas', 259728),\n",
       " (796, 'Baguio', 'PHL', 'CAR', 252386),\n",
       " (797, 'Batangas', 'PHL', 'Southern Tagalog', 247588),\n",
       " (798, 'Cainta', 'PHL', 'Southern Tagalog', 242511),\n",
       " (799, 'San Pedro', 'PHL', 'Southern Tagalog', 231403),\n",
       " (800, 'Navotas', 'PHL', 'National Capital Reg', 230403),\n",
       " (801, 'Cabanatuan', 'PHL', 'Central Luzon', 222859),\n",
       " (802, 'San Fernando', 'PHL', 'Central Luzon', 221857),\n",
       " (803, 'Lipa', 'PHL', 'Southern Tagalog', 218447),\n",
       " (804, 'Lapu-Lapu', 'PHL', 'Central Visayas', 217019),\n",
       " (805, 'San Pablo', 'PHL', 'Southern Tagalog', 207927),\n",
       " (806, 'Biñan', 'PHL', 'Southern Tagalog', 201186),\n",
       " (807, 'Taytay', 'PHL', 'Southern Tagalog', 198183),\n",
       " (808, 'Lucena', 'PHL', 'Southern Tagalog', 196075),\n",
       " (809, 'Imus', 'PHL', 'Southern Tagalog', 195482),\n",
       " (810, 'Olongapo', 'PHL', 'Central Luzon', 194260),\n",
       " (811, 'Binangonan', 'PHL', 'Southern Tagalog', 187691),\n",
       " (812, 'Santa Rosa', 'PHL', 'Southern Tagalog', 185633),\n",
       " (813, 'Tagum', 'PHL', 'Southern Mindanao', 179531),\n",
       " (814, 'Tacloban', 'PHL', 'Eastern Visayas', 178639),\n",
       " (815, 'Malolos', 'PHL', 'Central Luzon', 175291),\n",
       " (816, 'Mabalacat', 'PHL', 'Central Luzon', 171045),\n",
       " (817, 'Cotabato', 'PHL', 'Central Mindanao', 163849),\n",
       " (818, 'Meycauayan', 'PHL', 'Central Luzon', 163037),\n",
       " (819, 'Puerto Princesa', 'PHL', 'Southern Tagalog', 161912),\n",
       " (820, 'Legazpi', 'PHL', 'Bicol', 157010),\n",
       " (821, 'Silang', 'PHL', 'Southern Tagalog', 156137),\n",
       " (822, 'Ormoc', 'PHL', 'Eastern Visayas', 154297),\n",
       " (823, 'San Carlos', 'PHL', 'Ilocos', 154264),\n",
       " (824, 'Kabankalan', 'PHL', 'Western Visayas', 149769),\n",
       " (825, 'Talisay', 'PHL', 'Central Visayas', 148110),\n",
       " (826, 'Valencia', 'PHL', 'Northern Mindanao', 147924),\n",
       " (827, 'Calbayog', 'PHL', 'Eastern Visayas', 147187),\n",
       " (828, 'Santa Maria', 'PHL', 'Central Luzon', 144282),\n",
       " (829, 'Pagadian', 'PHL', 'Western Mindanao', 142515),\n",
       " (830, 'Cadiz', 'PHL', 'Western Visayas', 141954),\n",
       " (831, 'Bago', 'PHL', 'Western Visayas', 141721),\n",
       " (832, 'Toledo', 'PHL', 'Central Visayas', 141174),\n",
       " (833, 'Naga', 'PHL', 'Bicol', 137810),\n",
       " (834, 'San Mateo', 'PHL', 'Southern Tagalog', 135603),\n",
       " (835, 'Panabo', 'PHL', 'Southern Mindanao', 133950),\n",
       " (836, 'Koronadal', 'PHL', 'Southern Mindanao', 133786),\n",
       " (837, 'Marawi', 'PHL', 'Central Mindanao', 131090),\n",
       " (838, 'Dagupan', 'PHL', 'Ilocos', 130328),\n",
       " (839, 'Sagay', 'PHL', 'Western Visayas', 129765),\n",
       " (840, 'Roxas', 'PHL', 'Western Visayas', 126352),\n",
       " (841, 'Lubao', 'PHL', 'Central Luzon', 125699),\n",
       " (842, 'Digos', 'PHL', 'Southern Mindanao', 125171),\n",
       " (843, 'San Miguel', 'PHL', 'Central Luzon', 123824),\n",
       " (844, 'Malaybalay', 'PHL', 'Northern Mindanao', 123672),\n",
       " (845, 'Tuguegarao', 'PHL', 'Cagayan Valley', 120645),\n",
       " (846, 'Ilagan', 'PHL', 'Cagayan Valley', 119990),\n",
       " (847, 'Baliuag', 'PHL', 'Central Luzon', 119675),\n",
       " (848, 'Surigao', 'PHL', 'Caraga', 118534),\n",
       " (849, 'San Carlos', 'PHL', 'Western Visayas', 118259),\n",
       " (850, 'San Juan del Monte', 'PHL', 'National Capital Reg', 117680),\n",
       " (851, 'Tanauan', 'PHL', 'Southern Tagalog', 117539),\n",
       " (852, 'Concepcion', 'PHL', 'Central Luzon', 115171),\n",
       " (853, 'Rodriguez (Montalban)', 'PHL', 'Southern Tagalog', 115167),\n",
       " (854, 'Sariaya', 'PHL', 'Southern Tagalog', 114568),\n",
       " (855, 'Malasiqui', 'PHL', 'Ilocos', 113190),\n",
       " (856, 'General Mariano Alvarez', 'PHL', 'Southern Tagalog', 112446),\n",
       " (857, 'Urdaneta', 'PHL', 'Ilocos', 111582),\n",
       " (858, 'Hagonoy', 'PHL', 'Central Luzon', 111425),\n",
       " (859, 'San Jose', 'PHL', 'Southern Tagalog', 111009),\n",
       " (860, 'Polomolok', 'PHL', 'Southern Mindanao', 110709),\n",
       " (861, 'Santiago', 'PHL', 'Cagayan Valley', 110531),\n",
       " (862, 'Tanza', 'PHL', 'Southern Tagalog', 110517),\n",
       " (863, 'Ozamis', 'PHL', 'Northern Mindanao', 110420),\n",
       " (864, 'Mexico', 'PHL', 'Central Luzon', 109481),\n",
       " (865, 'San Jose', 'PHL', 'Central Luzon', 108254),\n",
       " (866, 'Silay', 'PHL', 'Western Visayas', 107722),\n",
       " (867, 'General Trias', 'PHL', 'Southern Tagalog', 107691),\n",
       " (868, 'Tabaco', 'PHL', 'Bicol', 107166),\n",
       " (869, 'Cabuyao', 'PHL', 'Southern Tagalog', 106630),\n",
       " (870, 'Calapan', 'PHL', 'Southern Tagalog', 105910),\n",
       " (871, 'Mati', 'PHL', 'Southern Mindanao', 105908),\n",
       " (872, 'Midsayap', 'PHL', 'Central Mindanao', 105760),\n",
       " (873, 'Cauayan', 'PHL', 'Cagayan Valley', 103952),\n",
       " (874, 'Gingoog', 'PHL', 'Northern Mindanao', 102379),\n",
       " (875, 'Dumaguete', 'PHL', 'Central Visayas', 102265),\n",
       " (876, 'San Fernando', 'PHL', 'Ilocos', 102082),\n",
       " (877, 'Arayat', 'PHL', 'Central Luzon', 101792),\n",
       " (878, 'Bayawan (Tulong)', 'PHL', 'Central Visayas', 101391),\n",
       " (879, 'Kidapawan', 'PHL', 'Central Mindanao', 101205),\n",
       " (880, 'Daraga (Locsin)', 'PHL', 'Bicol', 101031),\n",
       " (881, 'Marilao', 'PHL', 'Central Luzon', 101017),\n",
       " (882, 'Malita', 'PHL', 'Southern Mindanao', 100000),\n",
       " (883, 'Dipolog', 'PHL', 'Western Mindanao', 99862),\n",
       " (884, 'Cavite', 'PHL', 'Southern Tagalog', 99367),\n",
       " (885, 'Danao', 'PHL', 'Central Visayas', 98781),\n",
       " (886, 'Bislig', 'PHL', 'Caraga', 97860),\n",
       " (887, 'Talavera', 'PHL', 'Central Luzon', 97329),\n",
       " (888, 'Guagua', 'PHL', 'Central Luzon', 96858),\n",
       " (889, 'Bayambang', 'PHL', 'Ilocos', 96609),\n",
       " (890, 'Nasugbu', 'PHL', 'Southern Tagalog', 96113),\n",
       " (891, 'Baybay', 'PHL', 'Eastern Visayas', 95630),\n",
       " (892, 'Capas', 'PHL', 'Central Luzon', 95219),\n",
       " (893, 'Sultan Kudarat', 'PHL', 'ARMM', 94861),\n",
       " (894, 'Laoag', 'PHL', 'Ilocos', 94466),\n",
       " (895, 'Bayugan', 'PHL', 'Caraga', 93623),\n",
       " (896, 'Malungon', 'PHL', 'Southern Mindanao', 93232),\n",
       " (897, 'Santa Cruz', 'PHL', 'Southern Tagalog', 92694),\n",
       " (898, 'Sorsogon', 'PHL', 'Bicol', 92512),\n",
       " (899, 'Candelaria', 'PHL', 'Southern Tagalog', 92429),\n",
       " (900, 'Ligao', 'PHL', 'Bicol', 90603),\n",
       " (901, 'Tórshavn', 'FRO', 'Streymoyar', 14542),\n",
       " (902, 'Libreville', 'GAB', 'Estuaire', 419000),\n",
       " (903, 'Serekunda', 'GMB', 'Kombo St Mary', 102600),\n",
       " (904, 'Banjul', 'GMB', 'Banjul', 42326),\n",
       " (905, 'Tbilisi', 'GEO', 'Tbilisi', 1235200),\n",
       " (906, 'Kutaisi', 'GEO', 'Imereti', 240900),\n",
       " (907, 'Rustavi', 'GEO', 'Kvemo Kartli', 155400),\n",
       " (908, 'Batumi', 'GEO', 'Adzaria [Atšara]', 137700),\n",
       " (909, 'Sohumi', 'GEO', 'Abhasia [Aphazeti]', 111700),\n",
       " (910, 'Accra', 'GHA', 'Greater Accra', 1070000),\n",
       " (911, 'Kumasi', 'GHA', 'Ashanti', 385192),\n",
       " (912, 'Tamale', 'GHA', 'Northern', 151069),\n",
       " (913, 'Tema', 'GHA', 'Greater Accra', 109975),\n",
       " (914, 'Sekondi-Takoradi', 'GHA', 'Western', 103653),\n",
       " (915, 'Gibraltar', 'GIB', '–', 27025),\n",
       " (916, 'Saint George´s', 'GRD', 'St George', 4621),\n",
       " (917, 'Nuuk', 'GRL', 'Kitaa', 13445),\n",
       " (918, 'Les Abymes', 'GLP', 'Grande-Terre', 62947),\n",
       " (919, 'Basse-Terre', 'GLP', 'Basse-Terre', 12433),\n",
       " (920, 'Tamuning', 'GUM', '–', 9500),\n",
       " (921, 'Agaña', 'GUM', '–', 1139),\n",
       " (922, 'Ciudad de Guatemala', 'GTM', 'Guatemala', 823301),\n",
       " (923, 'Mixco', 'GTM', 'Guatemala', 209791),\n",
       " (924, 'Villa Nueva', 'GTM', 'Guatemala', 101295),\n",
       " (925, 'Quetzaltenango', 'GTM', 'Quetzaltenango', 90801),\n",
       " (926, 'Conakry', 'GIN', 'Conakry', 1090610),\n",
       " (927, 'Bissau', 'GNB', 'Bissau', 241000),\n",
       " (928, 'Georgetown', 'GUY', 'Georgetown', 254000),\n",
       " (929, 'Port-au-Prince', 'HTI', 'Ouest', 884472),\n",
       " (930, 'Carrefour', 'HTI', 'Ouest', 290204),\n",
       " (931, 'Delmas', 'HTI', 'Ouest', 240429),\n",
       " (932, 'Le-Cap-Haïtien', 'HTI', 'Nord', 102233),\n",
       " (933, 'Tegucigalpa', 'HND', 'Distrito Central', 813900),\n",
       " (934, 'San Pedro Sula', 'HND', 'Cortés', 383900),\n",
       " (935, 'La Ceiba', 'HND', 'Atlántida', 89200),\n",
       " (936, 'Kowloon and New Kowloon', 'HKG', 'Kowloon and New Kowl', 1987996),\n",
       " (937, 'Victoria', 'HKG', 'Hongkong', 1312637),\n",
       " (938, 'Longyearbyen', 'SJM', 'Länsimaa', 1438),\n",
       " (939, 'Jakarta', 'IDN', 'Jakarta Raya', 9604900),\n",
       " (940, 'Surabaya', 'IDN', 'East Java', 2663820),\n",
       " (941, 'Bandung', 'IDN', 'West Java', 2429000),\n",
       " (942, 'Medan', 'IDN', 'Sumatera Utara', 1843919),\n",
       " (943, 'Palembang', 'IDN', 'Sumatera Selatan', 1222764),\n",
       " (944, 'Tangerang', 'IDN', 'West Java', 1198300),\n",
       " (945, 'Semarang', 'IDN', 'Central Java', 1104405),\n",
       " (946, 'Ujung Pandang', 'IDN', 'Sulawesi Selatan', 1060257),\n",
       " (947, 'Malang', 'IDN', 'East Java', 716862),\n",
       " (948, 'Bandar Lampung', 'IDN', 'Lampung', 680332),\n",
       " (949, 'Bekasi', 'IDN', 'West Java', 644300),\n",
       " (950, 'Padang', 'IDN', 'Sumatera Barat', 534474),\n",
       " (951, 'Surakarta', 'IDN', 'Central Java', 518600),\n",
       " (952, 'Banjarmasin', 'IDN', 'Kalimantan Selatan', 482931),\n",
       " (953, 'Pekan Baru', 'IDN', 'Riau', 438638),\n",
       " (954, 'Denpasar', 'IDN', 'Bali', 435000),\n",
       " (955, 'Yogyakarta', 'IDN', 'Yogyakarta', 418944),\n",
       " (956, 'Pontianak', 'IDN', 'Kalimantan Barat', 409632),\n",
       " (957, 'Samarinda', 'IDN', 'Kalimantan Timur', 399175),\n",
       " (958, 'Jambi', 'IDN', 'Jambi', 385201),\n",
       " (959, 'Depok', 'IDN', 'West Java', 365200),\n",
       " (960, 'Cimahi', 'IDN', 'West Java', 344600),\n",
       " (961, 'Balikpapan', 'IDN', 'Kalimantan Timur', 338752),\n",
       " (962, 'Manado', 'IDN', 'Sulawesi Utara', 332288),\n",
       " (963, 'Mataram', 'IDN', 'Nusa Tenggara Barat', 306600),\n",
       " (964, 'Pekalongan', 'IDN', 'Central Java', 301504),\n",
       " (965, 'Tegal', 'IDN', 'Central Java', 289744),\n",
       " (966, 'Bogor', 'IDN', 'West Java', 285114),\n",
       " (967, 'Ciputat', 'IDN', 'West Java', 270800),\n",
       " (968, 'Pondokgede', 'IDN', 'West Java', 263200),\n",
       " (969, 'Cirebon', 'IDN', 'West Java', 254406),\n",
       " (970, 'Kediri', 'IDN', 'East Java', 253760),\n",
       " (971, 'Ambon', 'IDN', 'Molukit', 249312),\n",
       " (972, 'Jember', 'IDN', 'East Java', 218500),\n",
       " (973, 'Cilacap', 'IDN', 'Central Java', 206900),\n",
       " (974, 'Cimanggis', 'IDN', 'West Java', 205100),\n",
       " (975, 'Pematang Siantar', 'IDN', 'Sumatera Utara', 203056),\n",
       " (976, 'Purwokerto', 'IDN', 'Central Java', 202500),\n",
       " (977, 'Ciomas', 'IDN', 'West Java', 187400),\n",
       " (978, 'Tasikmalaya', 'IDN', 'West Java', 179800),\n",
       " (979, 'Madiun', 'IDN', 'East Java', 171532),\n",
       " (980, 'Bengkulu', 'IDN', 'Bengkulu', 146439),\n",
       " (981, 'Karawang', 'IDN', 'West Java', 145000),\n",
       " (982, 'Banda Aceh', 'IDN', 'Aceh', 143409),\n",
       " (983, 'Palu', 'IDN', 'Sulawesi Tengah', 142800),\n",
       " (984, 'Pasuruan', 'IDN', 'East Java', 134019),\n",
       " (985, 'Kupang', 'IDN', 'Nusa Tenggara Timur', 129300),\n",
       " (986, 'Tebing Tinggi', 'IDN', 'Sumatera Utara', 129300),\n",
       " (987, 'Percut Sei Tuan', 'IDN', 'Sumatera Utara', 129000),\n",
       " (988, 'Binjai', 'IDN', 'Sumatera Utara', 127222),\n",
       " (989, 'Sukabumi', 'IDN', 'West Java', 125766),\n",
       " (990, 'Waru', 'IDN', 'East Java', 124300),\n",
       " (991, 'Pangkal Pinang', 'IDN', 'Sumatera Selatan', 124000),\n",
       " (992, 'Magelang', 'IDN', 'Central Java', 123800),\n",
       " (993, 'Blitar', 'IDN', 'East Java', 122600),\n",
       " (994, 'Serang', 'IDN', 'West Java', 122400),\n",
       " (995, 'Probolinggo', 'IDN', 'East Java', 120770),\n",
       " (996, 'Cilegon', 'IDN', 'West Java', 117000),\n",
       " (997, 'Cianjur', 'IDN', 'West Java', 114300),\n",
       " (998, 'Ciparay', 'IDN', 'West Java', 111500),\n",
       " (999, 'Lhokseumawe', 'IDN', 'Aceh', 109600),\n",
       " (1000, 'Taman', 'IDN', 'East Java', 107000),\n",
       " ...]"
      ]
     },
     "execution_count": 49,
     "metadata": {},
     "output_type": "execute_result"
    }
   ],
   "source": [
    "import mysql.connector\n",
    "mydb= mysql.connector.connect(\n",
    "    host='localhost',\n",
    "    user='root',\n",
    "    password='Rahma29',\n",
    "    database='world'\n",
    ")\n",
    "mycursor=mydb.cursor()\n",
    "mycursor.execute(\"SELECT * FROM city \")\n",
    "mycursor.fetchall()"
   ]
  },
  {
   "cell_type": "code",
   "execution_count": 58,
   "metadata": {
    "scrolled": true
   },
   "outputs": [
    {
     "ename": "ProgrammingError",
     "evalue": "1064 (42000): You have an error in your SQL syntax; check the manual that corresponds to your MySQL server version for the right syntax to use near 'SELECT COUNT(Population) FROM city) as totalpopulasi from city' at line 1",
     "output_type": "error",
     "traceback": [
      "\u001b[1;31m---------------------------------------------------------------------------\u001b[0m",
      "\u001b[1;31mProgrammingError\u001b[0m                          Traceback (most recent call last)",
      "\u001b[1;32m<ipython-input-58-3a07ff127cce>\u001b[0m in \u001b[0;36m<module>\u001b[1;34m\u001b[0m\n\u001b[0;32m      7\u001b[0m )\n\u001b[0;32m      8\u001b[0m \u001b[0mmycursor\u001b[0m\u001b[1;33m=\u001b[0m\u001b[0mmydb\u001b[0m\u001b[1;33m.\u001b[0m\u001b[0mcursor\u001b[0m\u001b[1;33m(\u001b[0m\u001b[1;33m)\u001b[0m\u001b[1;33m\u001b[0m\u001b[1;33m\u001b[0m\u001b[0m\n\u001b[1;32m----> 9\u001b[1;33m \u001b[0mmycursor\u001b[0m\u001b[1;33m.\u001b[0m\u001b[0mexecute\u001b[0m \u001b[1;33m(\u001b[0m\u001b[1;34m\"SELECT ID (SELECT COUNT(Population) FROM city) as totalpopulasi from city\"\u001b[0m\u001b[1;33m)\u001b[0m\u001b[1;33m\u001b[0m\u001b[1;33m\u001b[0m\u001b[0m\n\u001b[0m\u001b[0;32m     10\u001b[0m \u001b[0mmycursor\u001b[0m\u001b[1;33m.\u001b[0m\u001b[0mfetchall\u001b[0m\u001b[1;33m(\u001b[0m\u001b[1;33m)\u001b[0m\u001b[1;33m\u001b[0m\u001b[1;33m\u001b[0m\u001b[0m\n",
      "\u001b[1;32m~\\anaconda3\\lib\\site-packages\\mysql\\connector\\cursor.py\u001b[0m in \u001b[0;36mexecute\u001b[1;34m(self, operation, params, multi)\u001b[0m\n\u001b[0;32m    566\u001b[0m \u001b[1;33m\u001b[0m\u001b[0m\n\u001b[0;32m    567\u001b[0m         \u001b[1;32mtry\u001b[0m\u001b[1;33m:\u001b[0m\u001b[1;33m\u001b[0m\u001b[1;33m\u001b[0m\u001b[0m\n\u001b[1;32m--> 568\u001b[1;33m             \u001b[0mself\u001b[0m\u001b[1;33m.\u001b[0m\u001b[0m_handle_result\u001b[0m\u001b[1;33m(\u001b[0m\u001b[0mself\u001b[0m\u001b[1;33m.\u001b[0m\u001b[0m_connection\u001b[0m\u001b[1;33m.\u001b[0m\u001b[0mcmd_query\u001b[0m\u001b[1;33m(\u001b[0m\u001b[0mstmt\u001b[0m\u001b[1;33m)\u001b[0m\u001b[1;33m)\u001b[0m\u001b[1;33m\u001b[0m\u001b[1;33m\u001b[0m\u001b[0m\n\u001b[0m\u001b[0;32m    569\u001b[0m         \u001b[1;32mexcept\u001b[0m \u001b[0merrors\u001b[0m\u001b[1;33m.\u001b[0m\u001b[0mInterfaceError\u001b[0m\u001b[1;33m:\u001b[0m\u001b[1;33m\u001b[0m\u001b[1;33m\u001b[0m\u001b[0m\n\u001b[0;32m    570\u001b[0m             \u001b[1;32mif\u001b[0m \u001b[0mself\u001b[0m\u001b[1;33m.\u001b[0m\u001b[0m_connection\u001b[0m\u001b[1;33m.\u001b[0m\u001b[0m_have_next_result\u001b[0m\u001b[1;33m:\u001b[0m  \u001b[1;31m# pylint: disable=W0212\u001b[0m\u001b[1;33m\u001b[0m\u001b[1;33m\u001b[0m\u001b[0m\n",
      "\u001b[1;32m~\\anaconda3\\lib\\site-packages\\mysql\\connector\\connection.py\u001b[0m in \u001b[0;36mcmd_query\u001b[1;34m(self, query, raw, buffered, raw_as_string)\u001b[0m\n\u001b[0;32m    844\u001b[0m         \u001b[0mquery\u001b[0m \u001b[1;33m=\u001b[0m \u001b[0mbytes\u001b[0m\u001b[1;33m(\u001b[0m\u001b[0mpacket\u001b[0m\u001b[1;33m)\u001b[0m\u001b[1;33m\u001b[0m\u001b[1;33m\u001b[0m\u001b[0m\n\u001b[0;32m    845\u001b[0m         \u001b[1;32mtry\u001b[0m\u001b[1;33m:\u001b[0m\u001b[1;33m\u001b[0m\u001b[1;33m\u001b[0m\u001b[0m\n\u001b[1;32m--> 846\u001b[1;33m             \u001b[0mresult\u001b[0m \u001b[1;33m=\u001b[0m \u001b[0mself\u001b[0m\u001b[1;33m.\u001b[0m\u001b[0m_handle_result\u001b[0m\u001b[1;33m(\u001b[0m\u001b[0mself\u001b[0m\u001b[1;33m.\u001b[0m\u001b[0m_send_cmd\u001b[0m\u001b[1;33m(\u001b[0m\u001b[0mServerCmd\u001b[0m\u001b[1;33m.\u001b[0m\u001b[0mQUERY\u001b[0m\u001b[1;33m,\u001b[0m \u001b[0mquery\u001b[0m\u001b[1;33m)\u001b[0m\u001b[1;33m)\u001b[0m\u001b[1;33m\u001b[0m\u001b[1;33m\u001b[0m\u001b[0m\n\u001b[0m\u001b[0;32m    847\u001b[0m         \u001b[1;32mexcept\u001b[0m \u001b[0merrors\u001b[0m\u001b[1;33m.\u001b[0m\u001b[0mProgrammingError\u001b[0m \u001b[1;32mas\u001b[0m \u001b[0merr\u001b[0m\u001b[1;33m:\u001b[0m\u001b[1;33m\u001b[0m\u001b[1;33m\u001b[0m\u001b[0m\n\u001b[0;32m    848\u001b[0m             \u001b[1;32mif\u001b[0m \u001b[0merr\u001b[0m\u001b[1;33m.\u001b[0m\u001b[0merrno\u001b[0m \u001b[1;33m==\u001b[0m \u001b[1;36m3948\u001b[0m \u001b[1;32mand\u001b[0m\u001b[0;31m \u001b[0m\u001b[0;31m\\\u001b[0m\u001b[1;33m\u001b[0m\u001b[1;33m\u001b[0m\u001b[0m\n",
      "\u001b[1;32m~\\anaconda3\\lib\\site-packages\\mysql\\connector\\connection.py\u001b[0m in \u001b[0;36m_handle_result\u001b[1;34m(self, packet)\u001b[0m\n\u001b[0;32m    654\u001b[0m             \u001b[1;32mreturn\u001b[0m \u001b[0mself\u001b[0m\u001b[1;33m.\u001b[0m\u001b[0m_handle_eof\u001b[0m\u001b[1;33m(\u001b[0m\u001b[0mpacket\u001b[0m\u001b[1;33m)\u001b[0m\u001b[1;33m\u001b[0m\u001b[1;33m\u001b[0m\u001b[0m\n\u001b[0;32m    655\u001b[0m         \u001b[1;32melif\u001b[0m \u001b[0mpacket\u001b[0m\u001b[1;33m[\u001b[0m\u001b[1;36m4\u001b[0m\u001b[1;33m]\u001b[0m \u001b[1;33m==\u001b[0m \u001b[1;36m255\u001b[0m\u001b[1;33m:\u001b[0m\u001b[1;33m\u001b[0m\u001b[1;33m\u001b[0m\u001b[0m\n\u001b[1;32m--> 656\u001b[1;33m             \u001b[1;32mraise\u001b[0m \u001b[0merrors\u001b[0m\u001b[1;33m.\u001b[0m\u001b[0mget_exception\u001b[0m\u001b[1;33m(\u001b[0m\u001b[0mpacket\u001b[0m\u001b[1;33m)\u001b[0m\u001b[1;33m\u001b[0m\u001b[1;33m\u001b[0m\u001b[0m\n\u001b[0m\u001b[0;32m    657\u001b[0m \u001b[1;33m\u001b[0m\u001b[0m\n\u001b[0;32m    658\u001b[0m         \u001b[1;31m# We have a text result set\u001b[0m\u001b[1;33m\u001b[0m\u001b[1;33m\u001b[0m\u001b[1;33m\u001b[0m\u001b[0m\n",
      "\u001b[1;31mProgrammingError\u001b[0m: 1064 (42000): You have an error in your SQL syntax; check the manual that corresponds to your MySQL server version for the right syntax to use near 'SELECT COUNT(Population) FROM city) as totalpopulasi from city' at line 1"
     ]
    }
   ],
   "source": [
    "import mysql.connector\n",
    "mydb= mysql.connector.connect(\n",
    "    host='localhost',\n",
    "    user='root',\n",
    "    password='Rahma29',\n",
    "    database='world'\n",
    ")\n",
    "mycursor=mydb.cursor()\n",
    "mycursor.execute (\"SELECT ID (SELECT COUNT(Population) FROM city) as totalpopulasi from city\")\n",
    "mycursor.fetchall()"
   ]
  },
  {
   "cell_type": "code",
   "execution_count": 42,
   "metadata": {},
   "outputs": [
    {
     "ename": "ProgrammingError",
     "evalue": "1064 (42000): You have an error in your SQL syntax; check the manual that corresponds to your MySQL server version for the right syntax to use near 'SELECT COUNT(asset)FROM table_1_id) as totalasset from table_1_id' at line 1",
     "output_type": "error",
     "traceback": [
      "\u001b[1;31m---------------------------------------------------------------------------\u001b[0m",
      "\u001b[1;31mProgrammingError\u001b[0m                          Traceback (most recent call last)",
      "\u001b[1;32m<ipython-input-42-249ea8049607>\u001b[0m in \u001b[0;36m<module>\u001b[1;34m\u001b[0m\n\u001b[0;32m      7\u001b[0m )\n\u001b[0;32m      8\u001b[0m \u001b[0mmycursor\u001b[0m\u001b[1;33m=\u001b[0m\u001b[0mmydb\u001b[0m\u001b[1;33m.\u001b[0m\u001b[0mcursor\u001b[0m\u001b[1;33m(\u001b[0m\u001b[1;33m)\u001b[0m\u001b[1;33m\u001b[0m\u001b[1;33m\u001b[0m\u001b[0m\n\u001b[1;32m----> 9\u001b[1;33m \u001b[0mmycursor\u001b[0m\u001b[1;33m.\u001b[0m\u001b[0mexecute\u001b[0m\u001b[1;33m(\u001b[0m\u001b[1;34m\"SELECT table_1 (SELECT COUNT(asset)FROM table_1_id) as totalasset from table_1_id\"\u001b[0m\u001b[1;33m)\u001b[0m\u001b[1;33m\u001b[0m\u001b[1;33m\u001b[0m\u001b[0m\n\u001b[0m\u001b[0;32m     10\u001b[0m \u001b[0mmycursor\u001b[0m\u001b[1;33m.\u001b[0m\u001b[0mfetchall\u001b[0m\u001b[1;33m(\u001b[0m\u001b[1;33m)\u001b[0m\u001b[1;33m\u001b[0m\u001b[1;33m\u001b[0m\u001b[0m\n",
      "\u001b[1;32m~\\anaconda3\\lib\\site-packages\\mysql\\connector\\cursor.py\u001b[0m in \u001b[0;36mexecute\u001b[1;34m(self, operation, params, multi)\u001b[0m\n\u001b[0;32m    566\u001b[0m \u001b[1;33m\u001b[0m\u001b[0m\n\u001b[0;32m    567\u001b[0m         \u001b[1;32mtry\u001b[0m\u001b[1;33m:\u001b[0m\u001b[1;33m\u001b[0m\u001b[1;33m\u001b[0m\u001b[0m\n\u001b[1;32m--> 568\u001b[1;33m             \u001b[0mself\u001b[0m\u001b[1;33m.\u001b[0m\u001b[0m_handle_result\u001b[0m\u001b[1;33m(\u001b[0m\u001b[0mself\u001b[0m\u001b[1;33m.\u001b[0m\u001b[0m_connection\u001b[0m\u001b[1;33m.\u001b[0m\u001b[0mcmd_query\u001b[0m\u001b[1;33m(\u001b[0m\u001b[0mstmt\u001b[0m\u001b[1;33m)\u001b[0m\u001b[1;33m)\u001b[0m\u001b[1;33m\u001b[0m\u001b[1;33m\u001b[0m\u001b[0m\n\u001b[0m\u001b[0;32m    569\u001b[0m         \u001b[1;32mexcept\u001b[0m \u001b[0merrors\u001b[0m\u001b[1;33m.\u001b[0m\u001b[0mInterfaceError\u001b[0m\u001b[1;33m:\u001b[0m\u001b[1;33m\u001b[0m\u001b[1;33m\u001b[0m\u001b[0m\n\u001b[0;32m    570\u001b[0m             \u001b[1;32mif\u001b[0m \u001b[0mself\u001b[0m\u001b[1;33m.\u001b[0m\u001b[0m_connection\u001b[0m\u001b[1;33m.\u001b[0m\u001b[0m_have_next_result\u001b[0m\u001b[1;33m:\u001b[0m  \u001b[1;31m# pylint: disable=W0212\u001b[0m\u001b[1;33m\u001b[0m\u001b[1;33m\u001b[0m\u001b[0m\n",
      "\u001b[1;32m~\\anaconda3\\lib\\site-packages\\mysql\\connector\\connection.py\u001b[0m in \u001b[0;36mcmd_query\u001b[1;34m(self, query, raw, buffered, raw_as_string)\u001b[0m\n\u001b[0;32m    844\u001b[0m         \u001b[0mquery\u001b[0m \u001b[1;33m=\u001b[0m \u001b[0mbytes\u001b[0m\u001b[1;33m(\u001b[0m\u001b[0mpacket\u001b[0m\u001b[1;33m)\u001b[0m\u001b[1;33m\u001b[0m\u001b[1;33m\u001b[0m\u001b[0m\n\u001b[0;32m    845\u001b[0m         \u001b[1;32mtry\u001b[0m\u001b[1;33m:\u001b[0m\u001b[1;33m\u001b[0m\u001b[1;33m\u001b[0m\u001b[0m\n\u001b[1;32m--> 846\u001b[1;33m             \u001b[0mresult\u001b[0m \u001b[1;33m=\u001b[0m \u001b[0mself\u001b[0m\u001b[1;33m.\u001b[0m\u001b[0m_handle_result\u001b[0m\u001b[1;33m(\u001b[0m\u001b[0mself\u001b[0m\u001b[1;33m.\u001b[0m\u001b[0m_send_cmd\u001b[0m\u001b[1;33m(\u001b[0m\u001b[0mServerCmd\u001b[0m\u001b[1;33m.\u001b[0m\u001b[0mQUERY\u001b[0m\u001b[1;33m,\u001b[0m \u001b[0mquery\u001b[0m\u001b[1;33m)\u001b[0m\u001b[1;33m)\u001b[0m\u001b[1;33m\u001b[0m\u001b[1;33m\u001b[0m\u001b[0m\n\u001b[0m\u001b[0;32m    847\u001b[0m         \u001b[1;32mexcept\u001b[0m \u001b[0merrors\u001b[0m\u001b[1;33m.\u001b[0m\u001b[0mProgrammingError\u001b[0m \u001b[1;32mas\u001b[0m \u001b[0merr\u001b[0m\u001b[1;33m:\u001b[0m\u001b[1;33m\u001b[0m\u001b[1;33m\u001b[0m\u001b[0m\n\u001b[0;32m    848\u001b[0m             \u001b[1;32mif\u001b[0m \u001b[0merr\u001b[0m\u001b[1;33m.\u001b[0m\u001b[0merrno\u001b[0m \u001b[1;33m==\u001b[0m \u001b[1;36m3948\u001b[0m \u001b[1;32mand\u001b[0m\u001b[0;31m \u001b[0m\u001b[0;31m\\\u001b[0m\u001b[1;33m\u001b[0m\u001b[1;33m\u001b[0m\u001b[0m\n",
      "\u001b[1;32m~\\anaconda3\\lib\\site-packages\\mysql\\connector\\connection.py\u001b[0m in \u001b[0;36m_handle_result\u001b[1;34m(self, packet)\u001b[0m\n\u001b[0;32m    654\u001b[0m             \u001b[1;32mreturn\u001b[0m \u001b[0mself\u001b[0m\u001b[1;33m.\u001b[0m\u001b[0m_handle_eof\u001b[0m\u001b[1;33m(\u001b[0m\u001b[0mpacket\u001b[0m\u001b[1;33m)\u001b[0m\u001b[1;33m\u001b[0m\u001b[1;33m\u001b[0m\u001b[0m\n\u001b[0;32m    655\u001b[0m         \u001b[1;32melif\u001b[0m \u001b[0mpacket\u001b[0m\u001b[1;33m[\u001b[0m\u001b[1;36m4\u001b[0m\u001b[1;33m]\u001b[0m \u001b[1;33m==\u001b[0m \u001b[1;36m255\u001b[0m\u001b[1;33m:\u001b[0m\u001b[1;33m\u001b[0m\u001b[1;33m\u001b[0m\u001b[0m\n\u001b[1;32m--> 656\u001b[1;33m             \u001b[1;32mraise\u001b[0m \u001b[0merrors\u001b[0m\u001b[1;33m.\u001b[0m\u001b[0mget_exception\u001b[0m\u001b[1;33m(\u001b[0m\u001b[0mpacket\u001b[0m\u001b[1;33m)\u001b[0m\u001b[1;33m\u001b[0m\u001b[1;33m\u001b[0m\u001b[0m\n\u001b[0m\u001b[0;32m    657\u001b[0m \u001b[1;33m\u001b[0m\u001b[0m\n\u001b[0;32m    658\u001b[0m         \u001b[1;31m# We have a text result set\u001b[0m\u001b[1;33m\u001b[0m\u001b[1;33m\u001b[0m\u001b[1;33m\u001b[0m\u001b[0m\n",
      "\u001b[1;31mProgrammingError\u001b[0m: 1064 (42000): You have an error in your SQL syntax; check the manual that corresponds to your MySQL server version for the right syntax to use near 'SELECT COUNT(asset)FROM table_1_id) as totalasset from table_1_id' at line 1"
     ]
    }
   ],
   "source": [
    "import mysql.connector\n",
    "mydb= mysql.connector.connect(\n",
    "    host='localhost',\n",
    "    user='root',\n",
    "    password='Rahma29',\n",
    "    database='trial_course'\n",
    ")\n",
    "mycursor=mydb.cursor()\n",
    "mycursor.execute(\"SELECT table_1 (SELECT COUNT(asset)FROM table_1_id) as totalasset from table_1_id\")\n",
    "mycursor.fetchall()"
   ]
  },
  {
   "cell_type": "markdown",
   "metadata": {},
   "source": [
    "### JOIN"
   ]
  },
  {
   "cell_type": "markdown",
   "metadata": {},
   "source": [
    "apabila ingin menggabungkan dua tabel dengan catatan dari kedua tabel tersebut terdapat kolom yang sama, dapat digunakan command JOIN"
   ]
  },
  {
   "cell_type": "code",
   "execution_count": 60,
   "metadata": {},
   "outputs": [
    {
     "name": "stderr",
     "output_type": "stream",
     "text": [
      "<>:13: SyntaxWarning: 'tuple' object is not callable; perhaps you missed a comma?\n",
      "<>:13: SyntaxWarning: 'tuple' object is not callable; perhaps you missed a comma?\n",
      "<ipython-input-60-d037b9b67328>:13: SyntaxWarning: 'tuple' object is not callable; perhaps you missed a comma?\n",
      "  (2,'Bob','Germany Street')\n"
     ]
    },
    {
     "ename": "TypeError",
     "evalue": "'tuple' object is not callable",
     "output_type": "error",
     "traceback": [
      "\u001b[1;31m---------------------------------------------------------------------------\u001b[0m",
      "\u001b[1;31mTypeError\u001b[0m                                 Traceback (most recent call last)",
      "\u001b[1;32m<ipython-input-60-d037b9b67328>\u001b[0m in \u001b[0;36m<module>\u001b[1;34m\u001b[0m\n\u001b[0;32m     11\u001b[0m \u001b[0minsert\u001b[0m \u001b[1;33m=\u001b[0m \u001b[1;34m\"INSERT INTO example_2 VALUES (%s,%s,%s)\"\u001b[0m\u001b[1;33m\u001b[0m\u001b[1;33m\u001b[0m\u001b[0m\n\u001b[0;32m     12\u001b[0m values = [\n\u001b[1;32m---> 13\u001b[1;33m     \u001b[1;33m(\u001b[0m\u001b[1;36m2\u001b[0m\u001b[1;33m,\u001b[0m\u001b[1;34m'Bob'\u001b[0m\u001b[1;33m,\u001b[0m\u001b[1;34m'Germany Street'\u001b[0m\u001b[1;33m)\u001b[0m\u001b[1;33m\u001b[0m\u001b[1;33m\u001b[0m\u001b[0m\n\u001b[0m\u001b[0;32m     14\u001b[0m     \u001b[1;33m(\u001b[0m\u001b[1;36m3\u001b[0m\u001b[1;33m,\u001b[0m\u001b[1;34m'Peter@gmail.com'\u001b[0m\u001b[1;33m,\u001b[0m\u001b[1;36m50000\u001b[0m\u001b[1;33m)\u001b[0m\u001b[1;33m,\u001b[0m\u001b[1;33m\u001b[0m\u001b[1;33m\u001b[0m\u001b[0m\n\u001b[0;32m     15\u001b[0m     \u001b[1;33m(\u001b[0m\u001b[1;36m4\u001b[0m\u001b[1;33m,\u001b[0m\u001b[1;34m'Amy@gmail.com'\u001b[0m\u001b[1;33m,\u001b[0m \u001b[1;36m200000\u001b[0m\u001b[1;33m)\u001b[0m\u001b[1;33m,\u001b[0m\u001b[1;33m\u001b[0m\u001b[1;33m\u001b[0m\u001b[0m\n",
      "\u001b[1;31mTypeError\u001b[0m: 'tuple' object is not callable"
     ]
    }
   ],
   "source": [
    "import mysql.connector\n",
    "\n",
    "mydb = mysql.connector.connect(\n",
    "    host='localhost',\n",
    "    user='root',\n",
    "    password='Rahma29',\n",
    "    database='trial_course'\n",
    ")\n",
    "\n",
    "mycursor = mydb.cursor()\n",
    "insert = \"INSERT INTO example_2 VALUES (%s,%s,%s)\"\n",
    "values = [\n",
    "    (2,'Bob','Germany Street')\n",
    "    (3,'Peter@gmail.com',50000),\n",
    "    (4,'Amy@gmail.com', 200000),\n",
    "    (5,'Hannah@gmail.com',10000),\n",
    "    (6,'Michael@gmail.com',250000),\n",
    "    (7,'Sandy@gmail.com',350000),\n",
    "    (8,'Betty@gmail.com',500000),\n",
    "    (9,'Richard@gmail.com',120000),\n",
    "    (10,'Chris@gmail.com',390000),\n",
    "    (11,'Chris@yahoo.com',125000),\n",
    "    (12,'Hannah@yahoo.com',530000),\n",
    "    (13,'Peter@yahoo.com',126000),\n",
    "    (14,'Chris@yahoo.co.id',4300000),\n",
    "    (15,'Chris03@gmail.com',1300000)\n",
    "    ]\n",
    "mycursor.executemany(insert,values)\n",
    "mydb.commit()"
   ]
  },
  {
   "cell_type": "code",
   "execution_count": null,
   "metadata": {},
   "outputs": [],
   "source": []
  },
  {
   "cell_type": "code",
   "execution_count": null,
   "metadata": {},
   "outputs": [],
   "source": []
  },
  {
   "cell_type": "markdown",
   "metadata": {},
   "source": [
    "### Pandas"
   ]
  },
  {
   "cell_type": "markdown",
   "metadata": {},
   "source": [
    "Pandas merupakan salah satu library pada python yang digunakan untuk bekerja dengan data sets."
   ]
  },
  {
   "cell_type": "markdown",
   "metadata": {},
   "source": [
    "### Data Frame"
   ]
  },
  {
   "cell_type": "markdown",
   "metadata": {},
   "source": [
    "Merupakan sebuah data set di library pandas yang biasanya berbentuk 2d array table, apabila series seperti kolom maka DataFrame seperti keseluruhan tabel."
   ]
  },
  {
   "cell_type": "code",
   "execution_count": 61,
   "metadata": {},
   "outputs": [
    {
     "data": {
      "text/html": [
       "<div>\n",
       "<style scoped>\n",
       "    .dataframe tbody tr th:only-of-type {\n",
       "        vertical-align: middle;\n",
       "    }\n",
       "\n",
       "    .dataframe tbody tr th {\n",
       "        vertical-align: top;\n",
       "    }\n",
       "\n",
       "    .dataframe thead th {\n",
       "        text-align: right;\n",
       "    }\n",
       "</style>\n",
       "<table border=\"1\" class=\"dataframe\">\n",
       "  <thead>\n",
       "    <tr style=\"text-align: right;\">\n",
       "      <th></th>\n",
       "      <th>Code</th>\n",
       "      <th>Name</th>\n",
       "      <th>Continent</th>\n",
       "      <th>Region</th>\n",
       "      <th>SurfaceArea</th>\n",
       "      <th>IndepYear</th>\n",
       "      <th>Population</th>\n",
       "      <th>LifeExpectancy</th>\n",
       "      <th>GNP</th>\n",
       "      <th>GNPOld</th>\n",
       "      <th>LocalName</th>\n",
       "      <th>GovernmentForm</th>\n",
       "      <th>HeadOfState</th>\n",
       "      <th>Capital</th>\n",
       "      <th>Code2</th>\n",
       "    </tr>\n",
       "  </thead>\n",
       "  <tbody>\n",
       "    <tr>\n",
       "      <th>0</th>\n",
       "      <td>ABW</td>\n",
       "      <td>Aruba</td>\n",
       "      <td>North America</td>\n",
       "      <td>Caribbean</td>\n",
       "      <td>193.00</td>\n",
       "      <td>NaN</td>\n",
       "      <td>103000</td>\n",
       "      <td>78.4</td>\n",
       "      <td>828.00</td>\n",
       "      <td>793.00</td>\n",
       "      <td>Aruba</td>\n",
       "      <td>Nonmetropolitan Territory of The Netherlands</td>\n",
       "      <td>Beatrix</td>\n",
       "      <td>129.0</td>\n",
       "      <td>AW</td>\n",
       "    </tr>\n",
       "    <tr>\n",
       "      <th>1</th>\n",
       "      <td>AFG</td>\n",
       "      <td>Afghanistan</td>\n",
       "      <td>Asia</td>\n",
       "      <td>Southern and Central Asia</td>\n",
       "      <td>652090.00</td>\n",
       "      <td>1919.0</td>\n",
       "      <td>22720000</td>\n",
       "      <td>45.9</td>\n",
       "      <td>5976.00</td>\n",
       "      <td>None</td>\n",
       "      <td>Afganistan/Afqanestan</td>\n",
       "      <td>Islamic Emirate</td>\n",
       "      <td>Mohammad Omar</td>\n",
       "      <td>1.0</td>\n",
       "      <td>AF</td>\n",
       "    </tr>\n",
       "    <tr>\n",
       "      <th>2</th>\n",
       "      <td>AGO</td>\n",
       "      <td>Angola</td>\n",
       "      <td>Africa</td>\n",
       "      <td>Central Africa</td>\n",
       "      <td>1246700.00</td>\n",
       "      <td>1975.0</td>\n",
       "      <td>12878000</td>\n",
       "      <td>38.3</td>\n",
       "      <td>6648.00</td>\n",
       "      <td>7984.00</td>\n",
       "      <td>Angola</td>\n",
       "      <td>Republic</td>\n",
       "      <td>José Eduardo dos Santos</td>\n",
       "      <td>56.0</td>\n",
       "      <td>AO</td>\n",
       "    </tr>\n",
       "    <tr>\n",
       "      <th>3</th>\n",
       "      <td>AIA</td>\n",
       "      <td>Anguilla</td>\n",
       "      <td>North America</td>\n",
       "      <td>Caribbean</td>\n",
       "      <td>96.00</td>\n",
       "      <td>NaN</td>\n",
       "      <td>8000</td>\n",
       "      <td>76.1</td>\n",
       "      <td>63.20</td>\n",
       "      <td>None</td>\n",
       "      <td>Anguilla</td>\n",
       "      <td>Dependent Territory of the UK</td>\n",
       "      <td>Elisabeth II</td>\n",
       "      <td>62.0</td>\n",
       "      <td>AI</td>\n",
       "    </tr>\n",
       "    <tr>\n",
       "      <th>4</th>\n",
       "      <td>ALB</td>\n",
       "      <td>Albania</td>\n",
       "      <td>Europe</td>\n",
       "      <td>Southern Europe</td>\n",
       "      <td>28748.00</td>\n",
       "      <td>1912.0</td>\n",
       "      <td>3401200</td>\n",
       "      <td>71.6</td>\n",
       "      <td>3205.00</td>\n",
       "      <td>2500.00</td>\n",
       "      <td>Shqipëria</td>\n",
       "      <td>Republic</td>\n",
       "      <td>Rexhep Mejdani</td>\n",
       "      <td>34.0</td>\n",
       "      <td>AL</td>\n",
       "    </tr>\n",
       "    <tr>\n",
       "      <th>...</th>\n",
       "      <td>...</td>\n",
       "      <td>...</td>\n",
       "      <td>...</td>\n",
       "      <td>...</td>\n",
       "      <td>...</td>\n",
       "      <td>...</td>\n",
       "      <td>...</td>\n",
       "      <td>...</td>\n",
       "      <td>...</td>\n",
       "      <td>...</td>\n",
       "      <td>...</td>\n",
       "      <td>...</td>\n",
       "      <td>...</td>\n",
       "      <td>...</td>\n",
       "      <td>...</td>\n",
       "    </tr>\n",
       "    <tr>\n",
       "      <th>234</th>\n",
       "      <td>YEM</td>\n",
       "      <td>Yemen</td>\n",
       "      <td>Asia</td>\n",
       "      <td>Middle East</td>\n",
       "      <td>527968.00</td>\n",
       "      <td>1918.0</td>\n",
       "      <td>18112000</td>\n",
       "      <td>59.8</td>\n",
       "      <td>6041.00</td>\n",
       "      <td>5729.00</td>\n",
       "      <td>Al-Yaman</td>\n",
       "      <td>Republic</td>\n",
       "      <td>Ali Abdallah Salih</td>\n",
       "      <td>1780.0</td>\n",
       "      <td>YE</td>\n",
       "    </tr>\n",
       "    <tr>\n",
       "      <th>235</th>\n",
       "      <td>YUG</td>\n",
       "      <td>Yugoslavia</td>\n",
       "      <td>Europe</td>\n",
       "      <td>Southern Europe</td>\n",
       "      <td>102173.00</td>\n",
       "      <td>1918.0</td>\n",
       "      <td>10640000</td>\n",
       "      <td>72.4</td>\n",
       "      <td>17000.00</td>\n",
       "      <td>None</td>\n",
       "      <td>Jugoslavija</td>\n",
       "      <td>Federal Republic</td>\n",
       "      <td>Vojislav Koštunica</td>\n",
       "      <td>1792.0</td>\n",
       "      <td>YU</td>\n",
       "    </tr>\n",
       "    <tr>\n",
       "      <th>236</th>\n",
       "      <td>ZAF</td>\n",
       "      <td>South Africa</td>\n",
       "      <td>Africa</td>\n",
       "      <td>Southern Africa</td>\n",
       "      <td>1221037.00</td>\n",
       "      <td>1910.0</td>\n",
       "      <td>40377000</td>\n",
       "      <td>51.1</td>\n",
       "      <td>116729.00</td>\n",
       "      <td>129092.00</td>\n",
       "      <td>South Africa</td>\n",
       "      <td>Republic</td>\n",
       "      <td>Thabo Mbeki</td>\n",
       "      <td>716.0</td>\n",
       "      <td>ZA</td>\n",
       "    </tr>\n",
       "    <tr>\n",
       "      <th>237</th>\n",
       "      <td>ZMB</td>\n",
       "      <td>Zambia</td>\n",
       "      <td>Africa</td>\n",
       "      <td>Eastern Africa</td>\n",
       "      <td>752618.00</td>\n",
       "      <td>1964.0</td>\n",
       "      <td>9169000</td>\n",
       "      <td>37.2</td>\n",
       "      <td>3377.00</td>\n",
       "      <td>3922.00</td>\n",
       "      <td>Zambia</td>\n",
       "      <td>Republic</td>\n",
       "      <td>Frederick Chiluba</td>\n",
       "      <td>3162.0</td>\n",
       "      <td>ZM</td>\n",
       "    </tr>\n",
       "    <tr>\n",
       "      <th>238</th>\n",
       "      <td>ZWE</td>\n",
       "      <td>Zimbabwe</td>\n",
       "      <td>Africa</td>\n",
       "      <td>Eastern Africa</td>\n",
       "      <td>390757.00</td>\n",
       "      <td>1980.0</td>\n",
       "      <td>11669000</td>\n",
       "      <td>37.8</td>\n",
       "      <td>5951.00</td>\n",
       "      <td>8670.00</td>\n",
       "      <td>Zimbabwe</td>\n",
       "      <td>Republic</td>\n",
       "      <td>Robert G. Mugabe</td>\n",
       "      <td>4068.0</td>\n",
       "      <td>ZW</td>\n",
       "    </tr>\n",
       "  </tbody>\n",
       "</table>\n",
       "<p>239 rows × 15 columns</p>\n",
       "</div>"
      ],
      "text/plain": [
       "    Code          Name      Continent                     Region SurfaceArea  \\\n",
       "0    ABW         Aruba  North America                  Caribbean      193.00   \n",
       "1    AFG   Afghanistan           Asia  Southern and Central Asia   652090.00   \n",
       "2    AGO        Angola         Africa             Central Africa  1246700.00   \n",
       "3    AIA      Anguilla  North America                  Caribbean       96.00   \n",
       "4    ALB       Albania         Europe            Southern Europe    28748.00   \n",
       "..   ...           ...            ...                        ...         ...   \n",
       "234  YEM         Yemen           Asia                Middle East   527968.00   \n",
       "235  YUG    Yugoslavia         Europe            Southern Europe   102173.00   \n",
       "236  ZAF  South Africa         Africa            Southern Africa  1221037.00   \n",
       "237  ZMB        Zambia         Africa             Eastern Africa   752618.00   \n",
       "238  ZWE      Zimbabwe         Africa             Eastern Africa   390757.00   \n",
       "\n",
       "     IndepYear  Population LifeExpectancy        GNP     GNPOld  \\\n",
       "0          NaN      103000           78.4     828.00     793.00   \n",
       "1       1919.0    22720000           45.9    5976.00       None   \n",
       "2       1975.0    12878000           38.3    6648.00    7984.00   \n",
       "3          NaN        8000           76.1      63.20       None   \n",
       "4       1912.0     3401200           71.6    3205.00    2500.00   \n",
       "..         ...         ...            ...        ...        ...   \n",
       "234     1918.0    18112000           59.8    6041.00    5729.00   \n",
       "235     1918.0    10640000           72.4   17000.00       None   \n",
       "236     1910.0    40377000           51.1  116729.00  129092.00   \n",
       "237     1964.0     9169000           37.2    3377.00    3922.00   \n",
       "238     1980.0    11669000           37.8    5951.00    8670.00   \n",
       "\n",
       "                 LocalName                                GovernmentForm  \\\n",
       "0                    Aruba  Nonmetropolitan Territory of The Netherlands   \n",
       "1    Afganistan/Afqanestan                               Islamic Emirate   \n",
       "2                   Angola                                      Republic   \n",
       "3                 Anguilla                 Dependent Territory of the UK   \n",
       "4                Shqipëria                                      Republic   \n",
       "..                     ...                                           ...   \n",
       "234               Al-Yaman                                      Republic   \n",
       "235            Jugoslavija                              Federal Republic   \n",
       "236           South Africa                                      Republic   \n",
       "237                 Zambia                                      Republic   \n",
       "238               Zimbabwe                                      Republic   \n",
       "\n",
       "                 HeadOfState  Capital Code2  \n",
       "0                    Beatrix    129.0    AW  \n",
       "1              Mohammad Omar      1.0    AF  \n",
       "2    José Eduardo dos Santos     56.0    AO  \n",
       "3               Elisabeth II     62.0    AI  \n",
       "4             Rexhep Mejdani     34.0    AL  \n",
       "..                       ...      ...   ...  \n",
       "234       Ali Abdallah Salih   1780.0    YE  \n",
       "235       Vojislav Koštunica   1792.0    YU  \n",
       "236              Thabo Mbeki    716.0    ZA  \n",
       "237        Frederick Chiluba   3162.0    ZM  \n",
       "238         Robert G. Mugabe   4068.0    ZW  \n",
       "\n",
       "[239 rows x 15 columns]"
      ]
     },
     "execution_count": 61,
     "metadata": {},
     "output_type": "execute_result"
    }
   ],
   "source": [
    "import mysql.connector\n",
    "import pandas as pd\n",
    "\n",
    "mydb = mysql.connector.connect(\n",
    "    host='localhost',\n",
    "    user='root',\n",
    "    password='Rahma29',\n",
    "    database='world'\n",
    ")\n",
    "\n",
    "mycursor = mydb.cursor()\n",
    "mycursor.execute(\"SELECT * FROM country\")\n",
    "myresult = mycursor.fetchall()\n",
    "df = pd.DataFrame(myresult,columns=mycursor.column_names)\n",
    "df"
   ]
  },
  {
   "cell_type": "code",
   "execution_count": 64,
   "metadata": {
    "scrolled": false
   },
   "outputs": [
    {
     "data": {
      "text/html": [
       "<div>\n",
       "<style scoped>\n",
       "    .dataframe tbody tr th:only-of-type {\n",
       "        vertical-align: middle;\n",
       "    }\n",
       "\n",
       "    .dataframe tbody tr th {\n",
       "        vertical-align: top;\n",
       "    }\n",
       "\n",
       "    .dataframe thead th {\n",
       "        text-align: right;\n",
       "    }\n",
       "</style>\n",
       "<table border=\"1\" class=\"dataframe\">\n",
       "  <thead>\n",
       "    <tr style=\"text-align: right;\">\n",
       "      <th></th>\n",
       "      <th>Code</th>\n",
       "      <th>Name</th>\n",
       "      <th>Continent</th>\n",
       "      <th>Region</th>\n",
       "      <th>SurfaceArea</th>\n",
       "      <th>IndepYear</th>\n",
       "      <th>Population</th>\n",
       "      <th>LifeExpectancy</th>\n",
       "      <th>GNP</th>\n",
       "      <th>GNPOld</th>\n",
       "      <th>LocalName</th>\n",
       "      <th>GovernmentForm</th>\n",
       "      <th>HeadOfState</th>\n",
       "      <th>Capital</th>\n",
       "      <th>Code2</th>\n",
       "    </tr>\n",
       "  </thead>\n",
       "  <tbody>\n",
       "    <tr>\n",
       "      <th>0</th>\n",
       "      <td>AFG</td>\n",
       "      <td>Afghanistan</td>\n",
       "      <td>Asia</td>\n",
       "      <td>Southern and Central Asia</td>\n",
       "      <td>652090.00</td>\n",
       "      <td>1919</td>\n",
       "      <td>22720000</td>\n",
       "      <td>45.9</td>\n",
       "      <td>5976.00</td>\n",
       "      <td>None</td>\n",
       "      <td>Afganistan/Afqanestan</td>\n",
       "      <td>Islamic Emirate</td>\n",
       "      <td>Mohammad Omar</td>\n",
       "      <td>1</td>\n",
       "      <td>AF</td>\n",
       "    </tr>\n",
       "    <tr>\n",
       "      <th>1</th>\n",
       "      <td>ARE</td>\n",
       "      <td>United Arab Emirates</td>\n",
       "      <td>Asia</td>\n",
       "      <td>Middle East</td>\n",
       "      <td>83600.00</td>\n",
       "      <td>1971</td>\n",
       "      <td>2441000</td>\n",
       "      <td>74.1</td>\n",
       "      <td>37966.00</td>\n",
       "      <td>36846.00</td>\n",
       "      <td>Al-Imarat al-´Arabiya al-Muttahida</td>\n",
       "      <td>Emirate Federation</td>\n",
       "      <td>Zayid bin Sultan al-Nahayan</td>\n",
       "      <td>65</td>\n",
       "      <td>AE</td>\n",
       "    </tr>\n",
       "    <tr>\n",
       "      <th>2</th>\n",
       "      <td>ARM</td>\n",
       "      <td>Armenia</td>\n",
       "      <td>Asia</td>\n",
       "      <td>Middle East</td>\n",
       "      <td>29800.00</td>\n",
       "      <td>1991</td>\n",
       "      <td>3520000</td>\n",
       "      <td>66.4</td>\n",
       "      <td>1813.00</td>\n",
       "      <td>1627.00</td>\n",
       "      <td>Hajastan</td>\n",
       "      <td>Republic</td>\n",
       "      <td>Robert Kotšarjan</td>\n",
       "      <td>126</td>\n",
       "      <td>AM</td>\n",
       "    </tr>\n",
       "    <tr>\n",
       "      <th>3</th>\n",
       "      <td>AZE</td>\n",
       "      <td>Azerbaijan</td>\n",
       "      <td>Asia</td>\n",
       "      <td>Middle East</td>\n",
       "      <td>86600.00</td>\n",
       "      <td>1991</td>\n",
       "      <td>7734000</td>\n",
       "      <td>62.9</td>\n",
       "      <td>4127.00</td>\n",
       "      <td>4100.00</td>\n",
       "      <td>Azärbaycan</td>\n",
       "      <td>Federal Republic</td>\n",
       "      <td>Heydär Äliyev</td>\n",
       "      <td>144</td>\n",
       "      <td>AZ</td>\n",
       "    </tr>\n",
       "    <tr>\n",
       "      <th>4</th>\n",
       "      <td>BGD</td>\n",
       "      <td>Bangladesh</td>\n",
       "      <td>Asia</td>\n",
       "      <td>Southern and Central Asia</td>\n",
       "      <td>143998.00</td>\n",
       "      <td>1971</td>\n",
       "      <td>129155000</td>\n",
       "      <td>60.2</td>\n",
       "      <td>32852.00</td>\n",
       "      <td>31966.00</td>\n",
       "      <td>Bangladesh</td>\n",
       "      <td>Republic</td>\n",
       "      <td>Shahabuddin Ahmad</td>\n",
       "      <td>150</td>\n",
       "      <td>BD</td>\n",
       "    </tr>\n",
       "    <tr>\n",
       "      <th>5</th>\n",
       "      <td>BHR</td>\n",
       "      <td>Bahrain</td>\n",
       "      <td>Asia</td>\n",
       "      <td>Middle East</td>\n",
       "      <td>694.00</td>\n",
       "      <td>1971</td>\n",
       "      <td>617000</td>\n",
       "      <td>73.0</td>\n",
       "      <td>6366.00</td>\n",
       "      <td>6097.00</td>\n",
       "      <td>Al-Bahrayn</td>\n",
       "      <td>Monarchy (Emirate)</td>\n",
       "      <td>Hamad ibn Isa al-Khalifa</td>\n",
       "      <td>149</td>\n",
       "      <td>BH</td>\n",
       "    </tr>\n",
       "    <tr>\n",
       "      <th>6</th>\n",
       "      <td>BRN</td>\n",
       "      <td>Brunei</td>\n",
       "      <td>Asia</td>\n",
       "      <td>Southeast Asia</td>\n",
       "      <td>5765.00</td>\n",
       "      <td>1984</td>\n",
       "      <td>328000</td>\n",
       "      <td>73.6</td>\n",
       "      <td>11705.00</td>\n",
       "      <td>12460.00</td>\n",
       "      <td>Brunei Darussalam</td>\n",
       "      <td>Monarchy (Sultanate)</td>\n",
       "      <td>Haji Hassan al-Bolkiah</td>\n",
       "      <td>538</td>\n",
       "      <td>BN</td>\n",
       "    </tr>\n",
       "    <tr>\n",
       "      <th>7</th>\n",
       "      <td>BTN</td>\n",
       "      <td>Bhutan</td>\n",
       "      <td>Asia</td>\n",
       "      <td>Southern and Central Asia</td>\n",
       "      <td>47000.00</td>\n",
       "      <td>1910</td>\n",
       "      <td>2124000</td>\n",
       "      <td>52.4</td>\n",
       "      <td>372.00</td>\n",
       "      <td>383.00</td>\n",
       "      <td>Druk-Yul</td>\n",
       "      <td>Monarchy</td>\n",
       "      <td>Jigme Singye Wangchuk</td>\n",
       "      <td>192</td>\n",
       "      <td>BT</td>\n",
       "    </tr>\n",
       "    <tr>\n",
       "      <th>8</th>\n",
       "      <td>CHN</td>\n",
       "      <td>China</td>\n",
       "      <td>Asia</td>\n",
       "      <td>Eastern Asia</td>\n",
       "      <td>9572900.00</td>\n",
       "      <td>-1523</td>\n",
       "      <td>1277558000</td>\n",
       "      <td>71.4</td>\n",
       "      <td>982268.00</td>\n",
       "      <td>917719.00</td>\n",
       "      <td>Zhongquo</td>\n",
       "      <td>People'sRepublic</td>\n",
       "      <td>Jiang Zemin</td>\n",
       "      <td>1891</td>\n",
       "      <td>CN</td>\n",
       "    </tr>\n",
       "    <tr>\n",
       "      <th>9</th>\n",
       "      <td>CYP</td>\n",
       "      <td>Cyprus</td>\n",
       "      <td>Asia</td>\n",
       "      <td>Middle East</td>\n",
       "      <td>9251.00</td>\n",
       "      <td>1960</td>\n",
       "      <td>754700</td>\n",
       "      <td>76.7</td>\n",
       "      <td>9333.00</td>\n",
       "      <td>8246.00</td>\n",
       "      <td>Kýpros/Kibris</td>\n",
       "      <td>Republic</td>\n",
       "      <td>Glafkos Klerides</td>\n",
       "      <td>2430</td>\n",
       "      <td>CY</td>\n",
       "    </tr>\n",
       "  </tbody>\n",
       "</table>\n",
       "</div>"
      ],
      "text/plain": [
       "  Code                  Name Continent                     Region SurfaceArea  \\\n",
       "0  AFG           Afghanistan      Asia  Southern and Central Asia   652090.00   \n",
       "1  ARE  United Arab Emirates      Asia                Middle East    83600.00   \n",
       "2  ARM               Armenia      Asia                Middle East    29800.00   \n",
       "3  AZE            Azerbaijan      Asia                Middle East    86600.00   \n",
       "4  BGD            Bangladesh      Asia  Southern and Central Asia   143998.00   \n",
       "5  BHR               Bahrain      Asia                Middle East      694.00   \n",
       "6  BRN                Brunei      Asia             Southeast Asia     5765.00   \n",
       "7  BTN                Bhutan      Asia  Southern and Central Asia    47000.00   \n",
       "8  CHN                 China      Asia               Eastern Asia  9572900.00   \n",
       "9  CYP                Cyprus      Asia                Middle East     9251.00   \n",
       "\n",
       "   IndepYear  Population LifeExpectancy        GNP     GNPOld  \\\n",
       "0       1919    22720000           45.9    5976.00       None   \n",
       "1       1971     2441000           74.1   37966.00   36846.00   \n",
       "2       1991     3520000           66.4    1813.00    1627.00   \n",
       "3       1991     7734000           62.9    4127.00    4100.00   \n",
       "4       1971   129155000           60.2   32852.00   31966.00   \n",
       "5       1971      617000           73.0    6366.00    6097.00   \n",
       "6       1984      328000           73.6   11705.00   12460.00   \n",
       "7       1910     2124000           52.4     372.00     383.00   \n",
       "8      -1523  1277558000           71.4  982268.00  917719.00   \n",
       "9       1960      754700           76.7    9333.00    8246.00   \n",
       "\n",
       "                            LocalName        GovernmentForm  \\\n",
       "0               Afganistan/Afqanestan       Islamic Emirate   \n",
       "1  Al-Imarat al-´Arabiya al-Muttahida    Emirate Federation   \n",
       "2                            Hajastan              Republic   \n",
       "3                          Azärbaycan      Federal Republic   \n",
       "4                          Bangladesh              Republic   \n",
       "5                          Al-Bahrayn    Monarchy (Emirate)   \n",
       "6                   Brunei Darussalam  Monarchy (Sultanate)   \n",
       "7                            Druk-Yul              Monarchy   \n",
       "8                            Zhongquo      People'sRepublic   \n",
       "9                       Kýpros/Kibris              Republic   \n",
       "\n",
       "                   HeadOfState  Capital Code2  \n",
       "0                Mohammad Omar        1    AF  \n",
       "1  Zayid bin Sultan al-Nahayan       65    AE  \n",
       "2             Robert Kotšarjan      126    AM  \n",
       "3                Heydär Äliyev      144    AZ  \n",
       "4            Shahabuddin Ahmad      150    BD  \n",
       "5     Hamad ibn Isa al-Khalifa      149    BH  \n",
       "6       Haji Hassan al-Bolkiah      538    BN  \n",
       "7        Jigme Singye Wangchuk      192    BT  \n",
       "8                  Jiang Zemin     1891    CN  \n",
       "9             Glafkos Klerides     2430    CY  "
      ]
     },
     "execution_count": 64,
     "metadata": {},
     "output_type": "execute_result"
    }
   ],
   "source": [
    "import mysql.connector\n",
    "import pandas as pd\n",
    "\n",
    "mydb = mysql.connector.connect(\n",
    "    host='localhost',\n",
    "    user='root',\n",
    "    password='Rahma29',\n",
    "    database='world'\n",
    ")\n",
    "\n",
    "mycursor = mydb.cursor()\n",
    "mycursor.execute(\"SELECT * FROM country WHERE continent LIKE 'Asia' LIMIT 10\")\n",
    "myresult = mycursor.fetchall()\n",
    "df2 = pd.DataFrame(myresult,columns=mycursor.column_names)\n",
    "df2\n"
   ]
  },
  {
   "cell_type": "markdown",
   "metadata": {},
   "source": [
    "# Matplotplib"
   ]
  },
  {
   "cell_type": "markdown",
   "metadata": {},
   "source": [
    "Matplotlib merupakan salah satu library di python yang digunakan untuk memvisualisasikan low level graph"
   ]
  },
  {
   "cell_type": "markdown",
   "metadata": {},
   "source": [
    "### Plot"
   ]
  },
  {
   "cell_type": "markdown",
   "metadata": {},
   "source": [
    "Merupakan function yang digunakan untuk membuat draw point(titik x,y) pada diagram."
   ]
  },
  {
   "cell_type": "markdown",
   "metadata": {},
   "source": [
    "Fungsi ini menerima dua parameter, parameter pertama merupakan sebuah array yang menjadi titik x point, dan parameter kedua yang merupakan sebuah array yang menjadi titik y point."
   ]
  },
  {
   "cell_type": "code",
   "execution_count": 65,
   "metadata": {},
   "outputs": [
    {
     "data": {
      "image/png": "[encoded data removed]",
      "text/plain": [
       "<Figure size 720x720 with 1 Axes>"
      ]
     },
     "metadata": {
      "needs_background": "light"
     },
     "output_type": "display_data"
    }
   ],
   "source": [
    "import mysql.connector\n",
    "import matplotlib.pyplot as plt\n",
    "import pandas as pd\n",
    "\n",
    "mydb = mysql.connector.connect(\n",
    "    host='localhost',\n",
    "    user='root',\n",
    "    password='Rahma29',\n",
    "    database='world'\n",
    ")\n",
    "\n",
    "mycursor = mydb.cursor()\n",
    "mycursor.execute(\"SELECT MAX(GNP) as MaximumGNP, continent FROM country GROUP BY continent\")\n",
    "myresult = mycursor.fetchall()\n",
    "df = pd.DataFrame(myresult,columns=mycursor.column_names)\n",
    "\n",
    "plt.figure(figsize=(10,10))\n",
    "plt.plot(df['continent'],df['MaximumGNP'])\n",
    "plt.title(\"Maximum GNP per Continent\")\n",
    "plt.show()"
   ]
  },
  {
   "cell_type": "code",
   "execution_count": 74,
   "metadata": {},
   "outputs": [
    {
     "data": {
      "image/png": "[encoded data removed]",
      "text/plain": [
       "<Figure size 720x720 with 1 Axes>"
      ]
     },
     "metadata": {
      "needs_background": "light"
     },
     "output_type": "display_data"
    }
   ],
   "source": [
    "mycursor = mydb.cursor()\n",
    "mycursor.execute(\"SELECT SUM(GNP) as sumGNP, continent FROM country GROUP BY continent\")\n",
    "myresult = mycursor.fetchall()\n",
    "df = pd.DataFrame(myresult,columns=mycursor.column_names)\n",
    "plt.figure(figsize=(10,10))\n",
    "plt.plot(df['continent'],df['sumGNP'], marker='o')\n",
    "plt.title(\"SUM GNP per Continent\")\n",
    "plt.show()\n"
   ]
  },
  {
   "cell_type": "markdown",
   "metadata": {},
   "source": [
    "### Bars"
   ]
  },
  {
   "cell_type": "markdown",
   "metadata": {},
   "source": [
    "Merupakan salah satu jenis grafik yang berbentuk bar atau batang"
   ]
  },
  {
   "cell_type": "code",
   "execution_count": 76,
   "metadata": {},
   "outputs": [
    {
     "data": {
      "image/png": "[encoded data removed]",
      "text/plain": [
       "<Figure size 720x720 with 1 Axes>"
      ]
     },
     "metadata": {
      "needs_background": "light"
     },
     "output_type": "display_data"
    }
   ],
   "source": [
    "mycursor = mydb.cursor()\n",
    "mycursor.execute(\"SELECT continent, surfacearea FROM country WHERE surfacearea > (SELECT AVG(surfacearea) FROM COUNTRY) ORDER BY Name\")\n",
    "myresult = mycursor.fetchall()\n",
    "df = pd.DataFrame(myresult,columns=mycursor.column_names)\n",
    "\n",
    "plt.figure(figsize=(10,10))\n",
    "plt.bar(df['continent'],df['surfacearea'])\n",
    "plt.show()"
   ]
  },
  {
   "cell_type": "code",
   "execution_count": 77,
   "metadata": {
    "scrolled": true
   },
   "outputs": [
    {
     "data": {
      "image/png": "[encoded data removed]",
      "text/plain": [
       "<Figure size 720x720 with 1 Axes>"
      ]
     },
     "metadata": {
      "needs_background": "light"
     },
     "output_type": "display_data"
    }
   ],
   "source": [
    "plt.figure(figsize=(10,10))\n",
    "plt.barh (df['continent'],df['surfacearea']) #horizontal\n",
    "plt.show()"
   ]
  },
  {
   "cell_type": "markdown",
   "metadata": {},
   "source": [
    "### Scatter"
   ]
  },
  {
   "cell_type": "markdown",
   "metadata": {},
   "source": [
    "Merupakan function yang memberikan sebuah dot atau titik pada setiap nilai yang ada. Function ini membutuhkan dua buah array yang memiliki panjang yang sama, satu array untuk menunjukkan titik x dan satu lagi menunjukkan titik y"
   ]
  },
  {
   "cell_type": "code",
   "execution_count": 78,
   "metadata": {},
   "outputs": [
    {
     "data": {
      "image/png": "[encoded data removed]",
      "text/plain": [
       "<Figure size 720x720 with 1 Axes>"
      ]
     },
     "metadata": {
      "needs_background": "light"
     },
     "output_type": "display_data"
    }
   ],
   "source": [
    "mycursor = mydb.cursor()\n",
    "mycursor.execute(\"SELECT AVG(population) AS RataRata, name FROM country WHERE CODE LIKE '%N%' GROUP BY name HAVING RataRata > 100000000\")\n",
    "myresult = mycursor.fetchall()\n",
    "df = pd.DataFrame(myresult,columns=mycursor.column_names)\n",
    "\n",
    "plt.figure(figsize=(10,10))\n",
    "plt.scatter(df['name'],df['RataRata'])\n",
    "plt.show()\n"
   ]
  },
  {
   "cell_type": "code",
   "execution_count": 79,
   "metadata": {},
   "outputs": [
    {
     "data": {
      "image/png": "[encoded data removed]",
      "text/plain": [
       "<Figure size 720x720 with 1 Axes>"
      ]
     },
     "metadata": {
      "needs_background": "light"
     },
     "output_type": "display_data"
    }
   ],
   "source": [
    "mycursor = mydb.cursor()\n",
    "mycursor.execute(\"SELECT SUM(GNP) AS TotalGNP, name FROM country WHERE CODE LIKE '%A%' GROUP BY name HAVING TotalGNP > 500000\")\n",
    "myresult = mycursor.fetchall()\n",
    "df = pd.DataFrame(myresult,columns=mycursor.column_names)\n",
    "\n",
    "plt.figure(figsize=(10,10))\n",
    "plt.scatter(df['name'],df['TotalGNP'])\n",
    "plt.show()"
   ]
  },
  {
   "cell_type": "code",
   "execution_count": null,
   "metadata": {},
   "outputs": [],
   "source": []
  }
 ],
 "metadata": {
  "kernelspec": {
   "display_name": "Python 3",
   "language": "python",
   "name": "python3"
  },
  "language_info": {
   "codemirror_mode": {
    "name": "ipython",
    "version": 3
   },
   "file_extension": ".py",
   "mimetype": "text/x-python",
   "name": "python",
   "nbconvert_exporter": "python",
   "pygments_lexer": "ipython3",
   "version": "3.8.8"
  }
 },
 "nbformat": 4,
 "nbformat_minor": 4
}
