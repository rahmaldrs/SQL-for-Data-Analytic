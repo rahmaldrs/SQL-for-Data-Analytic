{
 "cells": [
  {
   "cell_type": "markdown",
   "metadata": {},
   "source": [
    "# MySQL in Python"
   ]
  },
  {
   "cell_type": "markdown",
   "metadata": {},
   "source": [
    "MySQL merupakan software yang digunakan untuk bahasa pemrogaman SQL yang digunakan pada relational database. MySQL juga bisa dihubungkan ke bahasa pemrograman lainnya yaitu Python "
   ]
  },
  {
   "cell_type": "markdown",
   "metadata": {},
   "source": [
    "Untuk menghubungkannya terlebih dahulu perlu untuk menginstall mysql.connector pada anaconda prompt, lalu menghubungkannya lewat cara di bawah ini"
   ]
  },
  {
   "cell_type": "code",
   "execution_count": 10,
   "metadata": {},
   "outputs": [
    {
     "name": "stdout",
     "output_type": "stream",
     "text": [
      "Collecting mysql-connector-python\n",
      "  Downloading mysql_connector_python-8.0.26-cp38-cp38-win_amd64.whl (799 kB)\n",
      "Collecting protobuf>=3.0.0\n",
      "  Downloading protobuf-3.18.0-cp38-cp38-win_amd64.whl (912 kB)\n",
      "Installing collected packages: protobuf, mysql-connector-python\n",
      "Successfully installed mysql-connector-python-8.0.26 protobuf-3.18.0\n"
     ]
    }
   ],
   "source": [
    "! pip install mysql-connector-python"
   ]
  },
  {
   "cell_type": "code",
   "execution_count": 12,
   "metadata": {},
   "outputs": [],
   "source": [
    "import mysql.connector\n",
    "mydb= mysql.connector.connect(\n",
    "    host='localhost',\n",
    "    user='root',\n",
    "    password='Rahma29',\n",
    "    #database='world',\n",
    ")"
   ]
  },
  {
   "cell_type": "markdown",
   "metadata": {},
   "source": [
    "Untuk mengakses database dan menggunakan command dari SQL, digunakan method cursor() dan execute()"
   ]
  },
  {
   "cell_type": "markdown",
   "metadata": {},
   "source": [
    "### CREATE & SHOW DATABASE"
   ]
  },
  {
   "cell_type": "markdown",
   "metadata": {},
   "source": [
    "Untuk membuat database baru menggunakan command CREATE DATABASE"
   ]
  },
  {
   "cell_type": "markdown",
   "metadata": {},
   "source": [
    "NOTES: Nama database dalam sql tidak boleh ada yang sama"
   ]
  },
  {
   "cell_type": "code",
   "execution_count": 17,
   "metadata": {},
   "outputs": [
    {
     "data": {
      "text/plain": [
       "[('geeked',),\n",
       " ('information_schema',),\n",
       " ('mysql',),\n",
       " ('performance_schema',),\n",
       " ('sys',),\n",
       " ('trial_course',),\n",
       " ('world',)]"
      ]
     },
     "execution_count": 17,
     "metadata": {},
     "output_type": "execute_result"
    }
   ],
   "source": [
    "import mysql.connector\n",
    "mydb= mysql.connector.connect(\n",
    "    host='localhost',\n",
    "    user='root',\n",
    "    password='Rahma29',\n",
    "    #database='world',\n",
    ")\n",
    "mycursor=mydb.cursor()\n",
    "mycursor.execute('SHOW DATABASES') #ini bisa diganti ganti \n",
    "mycursor.fetchall()"
   ]
  },
  {
   "cell_type": "code",
   "execution_count": 16,
   "metadata": {},
   "outputs": [
    {
     "data": {
      "text/plain": [
       "[]"
      ]
     },
     "execution_count": 16,
     "metadata": {},
     "output_type": "execute_result"
    }
   ],
   "source": [
    "import mysql.connector\n",
    "mydb= mysql.connector.connect(\n",
    "    host='localhost',\n",
    "    user='root',\n",
    "    password='Rahma29',\n",
    "    #database='world',\n",
    ")\n",
    "mycursor=mydb.cursor()\n",
    "mycursor.execute('CREATE DATABASE trial_course')\n",
    "mycursor.fetchall()"
   ]
  },
  {
   "cell_type": "markdown",
   "metadata": {},
   "source": [
    "untuk melihat apakah database tersebut telah dibuat digunakan command SHOW DATABASES, apabila ingin menampilkannya di dalam python dapat menggunakan method fetchall() ataupun menggunakan loop pada Python"
   ]
  },
  {
   "cell_type": "code",
   "execution_count": 18,
   "metadata": {},
   "outputs": [
    {
     "data": {
      "text/plain": [
       "[('geeked',),\n",
       " ('information_schema',),\n",
       " ('mysql',),\n",
       " ('performance_schema',),\n",
       " ('sys',),\n",
       " ('trial_course',),\n",
       " ('world',)]"
      ]
     },
     "execution_count": 18,
     "metadata": {},
     "output_type": "execute_result"
    }
   ],
   "source": [
    "import mysql.connector\n",
    "mydb= mysql.connector.connect(\n",
    "    host='localhost',\n",
    "    user='root',\n",
    "    password='Rahma29',\n",
    "    database='trial_course',\n",
    ")\n",
    "mycursor=mydb.cursor()\n",
    "mycursor.execute('SHOW DATABASES')\n",
    "mycursor.fetchall()"
   ]
  },
  {
   "cell_type": "code",
   "execution_count": 20,
   "metadata": {},
   "outputs": [
    {
     "name": "stdout",
     "output_type": "stream",
     "text": [
      "('geeked',)\n",
      "('information_schema',)\n",
      "('mysql',)\n",
      "('performance_schema',)\n",
      "('sys',)\n",
      "('trial_course',)\n",
      "('world',)\n"
     ]
    }
   ],
   "source": [
    "import mysql.connector\n",
    "mydb= mysql.connector.connect(\n",
    "    host='localhost',\n",
    "    user='root',\n",
    "    password='Rahma29',\n",
    "    database='trial_course',\n",
    ")\n",
    "mycursor=mydb.cursor()\n",
    "mycursor.execute('SHOW DATABASES')\n",
    "\n",
    "for x in mycursor:\n",
    "    print(x)"
   ]
  },
  {
   "cell_type": "markdown",
   "metadata": {},
   "source": [
    "### CREATE & SHOW TABLE"
   ]
  },
  {
   "cell_type": "markdown",
   "metadata": {},
   "source": [
    "Untuk membuat table, digunakan command CREATE TABLE dan diikuti dengan nama table serta isi dari table"
   ]
  },
  {
   "cell_type": "code",
   "execution_count": 26,
   "metadata": {},
   "outputs": [],
   "source": [
    "import mysql.connector\n",
    "mydb= mysql.connector.connect(\n",
    "    host='localhost',\n",
    "    user='root',\n",
    "    password='Rahma29',\n",
    "    database='trial_course',\n",
    ")\n",
    "mycursor=mydb.cursor()\n",
    "mycursor.execute('CREATE TABLE table_2(table_2_id INT, table_2_name VARCHAR(255), table_2_address VARCHAR(255))')\n"
   ]
  },
  {
   "cell_type": "markdown",
   "metadata": {},
   "source": [
    "untuk melihat apakah database tersebut telah dibuat digunakan command SHOW TABLES, apabila ingin menampilkannya di dalam python dapat menggunakan method fetchall() ataupun menggunakan loop pada Python"
   ]
  },
  {
   "cell_type": "code",
   "execution_count": 28,
   "metadata": {},
   "outputs": [
    {
     "name": "stdout",
     "output_type": "stream",
     "text": [
      "('table_1',)\n",
      "('table_2',)\n"
     ]
    }
   ],
   "source": [
    "import mysql.connector\n",
    "mydb= mysql.connector.connect(\n",
    "    host='localhost',\n",
    "    user='root',\n",
    "    password='Rahma29',\n",
    "    database='trial_course',\n",
    ")\n",
    "mycursor=mydb.cursor()\n",
    "mycursor.execute('SHOW TABLES')\n",
    "for x in mycursor:\n",
    "    print(x)"
   ]
  },
  {
   "cell_type": "markdown",
   "metadata": {},
   "source": [
    "### INSERT "
   ]
  },
  {
   "cell_type": "markdown",
   "metadata": {},
   "source": [
    "untuk memasukkan data pada tabel, dapat digunakan command INSERT seperti contoh di bawah ini. Setelah itu, gunakan command commit() untuk melakukan perubahan pada tables tersebut"
   ]
  },
  {
   "cell_type": "code",
   "execution_count": 29,
   "metadata": {},
   "outputs": [
    {
     "name": "stdout",
     "output_type": "stream",
     "text": [
      "1 record inserted\n"
     ]
    }
   ],
   "source": [
    "import mysql.connector\n",
    "mydb= mysql.connector.connect(\n",
    "    host='localhost',\n",
    "    user='root',\n",
    "    password='Rahma29',\n",
    "    database='trial_course',\n",
    ")\n",
    "mycursor=mydb.cursor()\n",
    "insert='INSERT INTO table_1 VALUES (%s,%s,%s)'\n",
    "values=(1,'john','johnnysuh street')\n",
    "mycursor.execute(insert,values)\n",
    "mydb.commit()\n",
    "\n",
    "print(mycursor.rowcount,'record inserted')"
   ]
  },
  {
   "cell_type": "markdown",
   "metadata": {},
   "source": [
    "Apabila ingin memasukkan data lebih dari satu, maka digunakan command executemany()"
   ]
  },
  {
   "cell_type": "code",
   "execution_count": 32,
   "metadata": {},
   "outputs": [
    {
     "name": "stdout",
     "output_type": "stream",
     "text": [
      "12 record inserted\n"
     ]
    }
   ],
   "source": [
    "import mysql.connector\n",
    "mydb= mysql.connector.connect(\n",
    "    host='localhost',\n",
    "    user='root',\n",
    "    password='Rahma29',\n",
    "    database='trial_course',\n",
    ")\n",
    "mycursor=mydb.cursor()\n",
    "insert='INSERT INTO table_1 VALUES (%s,%s,%s)'\n",
    "values=[(2,'Taeyong','bubu street'),\n",
    "        (3,'yuta','jepang street'),\n",
    "        (4,'mark','canada street'),\n",
    "        (5,'hendery','wayv street'),\n",
    "        (6,'ten','louis street'),\n",
    "        (7,'dejun','leon street'),\n",
    "        (8,'kun','daegal street'),\n",
    "        (9,'jisung','bella street'),\n",
    "        (10,'nana','dream street'),\n",
    "        (11,'jeno','hot street'),\n",
    "        (12,'chenle','beijing street'),\n",
    "        (13,'lucas','hongkong street')    \n",
    "]\n",
    "mycursor.executemany(insert,values) #using executemany kalo mau nambahin banyak ke databasenya\n",
    "mydb.commit()\n",
    "\n",
    "print(mycursor.rowcount,'record inserted')"
   ]
  },
  {
   "cell_type": "markdown",
   "metadata": {},
   "source": [
    "### SELECT"
   ]
  },
  {
   "cell_type": "code",
   "execution_count": 34,
   "metadata": {},
   "outputs": [
    {
     "data": {
      "text/plain": [
       "[(1, 'john', 'johnnysuh street'),\n",
       " (2, 'Taeyong', 'bubu street'),\n",
       " (3, 'yuta', 'jepang street'),\n",
       " (4, 'mark', 'canada street'),\n",
       " (5, 'hendery', 'wayv street'),\n",
       " (6, 'ten', 'louis street'),\n",
       " (7, 'dejun', 'leon street'),\n",
       " (8, 'kun', 'daegal street'),\n",
       " (9, 'jisung', 'bella street'),\n",
       " (10, 'nana', 'dream street'),\n",
       " (11, 'jeno', 'hot street'),\n",
       " (12, 'chenle', 'beijing street'),\n",
       " (13, 'lucas', 'hongkong street')]"
      ]
     },
     "execution_count": 34,
     "metadata": {},
     "output_type": "execute_result"
    }
   ],
   "source": [
    "import mysql.connector\n",
    "mydb= mysql.connector.connect(\n",
    "    host='localhost',\n",
    "    user='root',\n",
    "    password='Rahma29',\n",
    "    database='trial_course',\n",
    ")\n",
    "mycursor=mydb.cursor()\n",
    "mycursor.execute('SELECT * FROM table_1')\n",
    "mycursor.fetchall()"
   ]
  },
  {
   "cell_type": "markdown",
   "metadata": {},
   "source": [
    "untuk menampilkan isi dari sebuah tabel dapat digunakan command SELECT dan memilih kolom nya atau keseluruhan data menggunakan parameter *"
   ]
  },
  {
   "cell_type": "markdown",
   "metadata": {},
   "source": [
    "### WHERE"
   ]
  },
  {
   "cell_type": "markdown",
   "metadata": {},
   "source": [
    "apabila ingin melakukan action terhadap spesifik tabel, dapat digunakan command where untuk melakukan filter"
   ]
  },
  {
   "cell_type": "code",
   "execution_count": 42,
   "metadata": {},
   "outputs": [
    {
     "data": {
      "text/plain": [
       "[(1, 'john', 'johnnysuh street')]"
      ]
     },
     "execution_count": 42,
     "metadata": {},
     "output_type": "execute_result"
    }
   ],
   "source": [
    "import mysql.connector\n",
    "mydb= mysql.connector.connect(\n",
    "    host='localhost',\n",
    "    user='root',\n",
    "    password='Rahma29',\n",
    "    database='trial_course',\n",
    ")\n",
    "mycursor=mydb.cursor()\n",
    "mycursor.execute('SELECT * FROM table_1 WHERE table_1_id= 1')\n",
    "mycursor.fetchall()"
   ]
  },
  {
   "cell_type": "code",
   "execution_count": 45,
   "metadata": {},
   "outputs": [
    {
     "data": {
      "text/plain": [
       "[(1, 'john', 'johnnysuh street')]"
      ]
     },
     "execution_count": 45,
     "metadata": {},
     "output_type": "execute_result"
    }
   ],
   "source": [
    "import mysql.connector\n",
    "mydb= mysql.connector.connect(\n",
    "    host='localhost',\n",
    "    user='root',\n",
    "    password='Rahma29',\n",
    "    database='trial_course',\n",
    ")\n",
    "mycursor=mydb.cursor()\n",
    "mycursor.execute(\"SELECT * FROM table_1 WHERE table_1_name = 'john'\")\n",
    "mycursor.fetchall()"
   ]
  },
  {
   "cell_type": "markdown",
   "metadata": {},
   "source": [
    "### AND, OR, LIKE, Between"
   ]
  },
  {
   "cell_type": "markdown",
   "metadata": {},
   "source": [
    "dalam where, terdapat beberapa constraint yang bisa digunakan seperti and, or serta like"
   ]
  },
  {
   "cell_type": "markdown",
   "metadata": {},
   "source": [
    "AND digunakan untuk memberikan kondisi apabila keduanya benar, OR digunakan untuk memberikan kondisi apabila salah satu benar dan LIKE digunakan untuk memberikan kondisi pada string yang cocok serta Between digunakan untuk memberikan kondisi apabila sebuah nilai berada diantaranya"
   ]
  },
  {
   "cell_type": "markdown",
   "metadata": {},
   "source": [
    "Pada LIKE, tedapat beberapa operator yang dapat digunakan seperti:\n",
    "\t1. \"a%\" -> mencari nilai yang diawali huruf a\n",
    "    2. \"%a\" -> mencari nilai yang diakhiri huruf a\n",
    "    3. \"%a%\" -> mencari nilai yang ada unsur huruf a diposisi apapun\n",
    "    4. \"_a%\" -> mencari nilai yang huruf keduanya adalah a\n",
    "    5. \"a_%\" -> mencari nilai yang huruf awalnya a dan panjang minimalnya 2 karakter\n",
    "    6. \"a__%\" -> mencari nilai yang huruf awalnya a dan panjang minimalnya 3 karakter\n",
    "    7. \"a%o\" -> mencari nilai yang diawali huruf a dan diakhiri huruf o*/\n",
    "\n",
    "Untuk huruf sendiri, dapat disesuaikan dengan kondisi"
   ]
  },
  {
   "cell_type": "code",
   "execution_count": null,
   "metadata": {},
   "outputs": [],
   "source": []
  },
  {
   "cell_type": "code",
   "execution_count": null,
   "metadata": {},
   "outputs": [],
   "source": []
  },
  {
   "cell_type": "code",
   "execution_count": null,
   "metadata": {},
   "outputs": [],
   "source": []
  },
  {
   "cell_type": "code",
   "execution_count": null,
   "metadata": {},
   "outputs": [],
   "source": []
  },
  {
   "cell_type": "markdown",
   "metadata": {},
   "source": [
    "### ORDER BY"
   ]
  },
  {
   "cell_type": "markdown",
   "metadata": {},
   "source": [
    "untuk mengurutkan baris terhadap sebuah kolom, digunakan ORDER BY baik descending atau ascending"
   ]
  },
  {
   "cell_type": "code",
   "execution_count": null,
   "metadata": {},
   "outputs": [],
   "source": []
  },
  {
   "cell_type": "code",
   "execution_count": null,
   "metadata": {},
   "outputs": [],
   "source": []
  },
  {
   "cell_type": "markdown",
   "metadata": {},
   "source": [
    "### GROUP BY & Having"
   ]
  },
  {
   "cell_type": "markdown",
   "metadata": {},
   "source": [
    "untuk melakukan aggregasi pada mysql dapat dilakukan menggunakan GROUP BY. Agregasi dilakukan apabila terdapat kalkulasi pada sebuah nilai, terdapat beberapa function dalam aggregasi yaitu:\n",
    "1. MIN   -> Nilai terkecil\n",
    "2. MAX   -> Nilai terbesar\n",
    "3. SUM   -> Total dari keseluruhan kolom\n",
    "4. COUNT -> Menghitung banyaknya nilai pada kolom\n",
    "5. AVG   -> Menghitung rata rata pada nilai\n",
    "\n",
    "Terdapat method lain yaitu Having yang digunakan untuk memberikan kondisi terhadap data dari hasil aggregasi"
   ]
  },
  {
   "cell_type": "code",
   "execution_count": null,
   "metadata": {},
   "outputs": [],
   "source": []
  },
  {
   "cell_type": "code",
   "execution_count": null,
   "metadata": {},
   "outputs": [],
   "source": []
  },
  {
   "cell_type": "markdown",
   "metadata": {},
   "source": [
    "### DELETE"
   ]
  },
  {
   "cell_type": "markdown",
   "metadata": {},
   "source": [
    "untuk menghapus baris pada sebuah tabel, digunakan command DELETE. Namun, ingat tambahkan filter menggunakan where untuk mencegah data terhapus semuanya"
   ]
  },
  {
   "cell_type": "code",
   "execution_count": null,
   "metadata": {},
   "outputs": [],
   "source": []
  },
  {
   "cell_type": "code",
   "execution_count": null,
   "metadata": {},
   "outputs": [],
   "source": []
  },
  {
   "cell_type": "markdown",
   "metadata": {},
   "source": [
    "### UPDATE"
   ]
  },
  {
   "cell_type": "markdown",
   "metadata": {},
   "source": [
    "untuk mengubah data yang telah dimasukkan kedalam tabel, dapat digunakan command UPDATE"
   ]
  },
  {
   "cell_type": "code",
   "execution_count": null,
   "metadata": {},
   "outputs": [],
   "source": []
  },
  {
   "cell_type": "code",
   "execution_count": null,
   "metadata": {},
   "outputs": [],
   "source": []
  },
  {
   "cell_type": "markdown",
   "metadata": {},
   "source": [
    "### LIMIT"
   ]
  },
  {
   "cell_type": "markdown",
   "metadata": {},
   "source": [
    "untuk membatasi data yang ditampilkan hanya beberapa saja, dapat digunakan command LIMIT"
   ]
  },
  {
   "cell_type": "code",
   "execution_count": null,
   "metadata": {},
   "outputs": [],
   "source": []
  },
  {
   "cell_type": "markdown",
   "metadata": {},
   "source": [
    "### DROP TABLE & DATABASE"
   ]
  },
  {
   "cell_type": "markdown",
   "metadata": {},
   "source": [
    "untuk menghapus tabel ataupun database, digunakan method DROP TABLE & DROP DATABASE"
   ]
  },
  {
   "cell_type": "code",
   "execution_count": null,
   "metadata": {},
   "outputs": [],
   "source": []
  },
  {
   "cell_type": "markdown",
   "metadata": {},
   "source": [
    "### Sub Query"
   ]
  },
  {
   "cell_type": "markdown",
   "metadata": {},
   "source": [
    "Sub query digunakan apabila ingin memberikan filterisasi atau menampilkan data yang berhubungan dengan aggregate function"
   ]
  },
  {
   "cell_type": "code",
   "execution_count": null,
   "metadata": {},
   "outputs": [],
   "source": []
  },
  {
   "cell_type": "markdown",
   "metadata": {},
   "source": [
    "### JOIN"
   ]
  },
  {
   "cell_type": "markdown",
   "metadata": {},
   "source": [
    "apabila ingin menggabungkan dua tabel dengan catatan dari kedua tabel tersebut terdapat kolom yang sama, dapat digunakan command JOIN"
   ]
  },
  {
   "cell_type": "code",
   "execution_count": null,
   "metadata": {},
   "outputs": [],
   "source": []
  },
  {
   "cell_type": "code",
   "execution_count": null,
   "metadata": {},
   "outputs": [],
   "source": []
  },
  {
   "cell_type": "code",
   "execution_count": null,
   "metadata": {},
   "outputs": [],
   "source": []
  },
  {
   "cell_type": "markdown",
   "metadata": {},
   "source": [
    "### Pandas"
   ]
  },
  {
   "cell_type": "markdown",
   "metadata": {},
   "source": [
    "Pandas merupakan salah satu library pada python yang digunakan untuk bekerja dengan data sets."
   ]
  },
  {
   "cell_type": "markdown",
   "metadata": {},
   "source": [
    "### Data Frame"
   ]
  },
  {
   "cell_type": "markdown",
   "metadata": {},
   "source": [
    "Merupakan sebuah data set di library pandas yang biasanya berbentuk 2d array table, apabila series seperti kolom maka DataFrame seperti keseluruhan tabel."
   ]
  },
  {
   "cell_type": "code",
   "execution_count": null,
   "metadata": {},
   "outputs": [],
   "source": []
  },
  {
   "cell_type": "code",
   "execution_count": null,
   "metadata": {
    "scrolled": false
   },
   "outputs": [],
   "source": []
  },
  {
   "cell_type": "markdown",
   "metadata": {},
   "source": [
    "# Matplotplib"
   ]
  },
  {
   "cell_type": "markdown",
   "metadata": {},
   "source": [
    "Matplotlib merupakan salah satu library di python yang digunakan untuk memvisualisasikan low level graph"
   ]
  },
  {
   "cell_type": "markdown",
   "metadata": {},
   "source": [
    "### Plot"
   ]
  },
  {
   "cell_type": "markdown",
   "metadata": {},
   "source": [
    "Merupakan function yang digunakan untuk membuat draw point(titik x,y) pada diagram."
   ]
  },
  {
   "cell_type": "markdown",
   "metadata": {},
   "source": [
    "Fungsi ini menerima dua parameter, parameter pertama merupakan sebuah array yang menjadi titik x point, dan parameter kedua yang merupakan sebuah array yang menjadi titik y point."
   ]
  },
  {
   "cell_type": "code",
   "execution_count": null,
   "metadata": {},
   "outputs": [],
   "source": []
  },
  {
   "cell_type": "code",
   "execution_count": null,
   "metadata": {},
   "outputs": [],
   "source": []
  },
  {
   "cell_type": "markdown",
   "metadata": {},
   "source": [
    "### Bars"
   ]
  },
  {
   "cell_type": "markdown",
   "metadata": {},
   "source": [
    "Merupakan salah satu jenis grafik yang berbentuk bar atau batang"
   ]
  },
  {
   "cell_type": "code",
   "execution_count": null,
   "metadata": {},
   "outputs": [],
   "source": []
  },
  {
   "cell_type": "code",
   "execution_count": null,
   "metadata": {
    "scrolled": true
   },
   "outputs": [],
   "source": []
  },
  {
   "cell_type": "markdown",
   "metadata": {},
   "source": [
    "### Scatter"
   ]
  },
  {
   "cell_type": "markdown",
   "metadata": {},
   "source": [
    "Merupakan function yang memberikan sebuah dot atau titik pada setiap nilai yang ada. Function ini membutuhkan dua buah array yang memiliki panjang yang sama, satu array untuk menunjukkan titik x dan satu lagi menunjukkan titik y"
   ]
  },
  {
   "cell_type": "code",
   "execution_count": null,
   "metadata": {},
   "outputs": [],
   "source": []
  },
  {
   "cell_type": "code",
   "execution_count": null,
   "metadata": {},
   "outputs": [],
   "source": []
  }
 ],
 "metadata": {
  "kernelspec": {
   "display_name": "Python 3",
   "language": "python",
   "name": "python3"
  },
  "language_info": {
   "codemirror_mode": {
    "name": "ipython",
    "version": 3
   },
   "file_extension": ".py",
   "mimetype": "text/x-python",
   "name": "python",
   "nbconvert_exporter": "python",
   "pygments_lexer": "ipython3",
   "version": "3.8.8"
  }
 },
 "nbformat": 4,
 "nbformat_minor": 4
}
